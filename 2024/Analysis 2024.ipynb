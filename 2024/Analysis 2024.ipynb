{
 "cells": [
  {
   "cell_type": "raw",
   "id": "29836d54",
   "metadata": {
    "pycharm": {
     "name": "#%% raw\n"
    }
   },
   "source": [
    "---\n",
    "title: 2024 VIS Area Curation Committee Executive Summary\n",
    "self-contained: true\n",
    "format:\n",
    "  html: \n",
    "    code-fold: true\n",
    "    theme: simplex\n",
    "    toc: true\n",
    "    jupyter: python3\n",
    "---"
   ]
  },
  {
   "cell_type": "markdown",
   "id": "e61097c3",
   "metadata": {
    "pycharm": {
     "name": "#%% md\n"
    }
   },
   "source": [
    "# Introduction\n",
    "\n",
    "\n",
    "This report summarizes the findings, recommendations, and process by the VIS Area Curation Committee (ACC) regarding the areas and keywords used for paper submissions to IEEE VIS 2024. It is based on the 2021, 2022, and 2023 ACC committee reports, updated with the 2024 data. According to the Charter, the goal of this committee is to analyze and report how submissions made use of the areas and keywords to describe their contribution. It is important to understand when these descriptors no longer adequately cover the breadth of research presented at VIS.\n",
    "\n",
    "We use **submission and bidding information** from VIS 2024 to analyze recent trends following the move to an area model. We also conducted a **survey among authors who submitted to VIS about their satisfaction with the area model**.  \n",
    "\n",
    "The full data and source code to rebuild this project are available [here](https://github.com/ieee-vgtc/ieeevis-area-curation-committee-reports).\n",
    "\n",
    "* Committee members 2024: Jean-Daniel Fekete (co-chair), Alexander Lex (co-chair), Helwig Hauser, Ingrid Hotz, David Laidlaw, Torsten Möller, Michael Papka, Danielle Szafir, Yingcai Wu. \n",
    "* Committee members 2023: Steven Drucker (chair), Jean-Daniel Fekete, Ingrid Hotz,  David Laidlaw, Alexander Lex, Torsten Möller, Michael Papka, Hendrik Strobelt, Shigeo Takahashi.\n",
    "* Committee members 2022: Steven Drucker (chair), Ingrid Hotz,  David Laidlaw, Heike Leitte, Torsten Möller, Carlos Scheidegger, Hendrik Strobelt, Shigeo Takahashi, Penny Rheingans.\n",
    "* Committee members 2021: Alex Endert (chair), Steven Drucker (next chair), Issei Fujishiro, Christoph Garth, Heidi Lam, Heike Leitte, Carlos Scheidegger, Hendrik Strobelt, Penny Rheingans.\n",
    "\n",
    "Last edited: 2024-09-27.\n",
    "\n",
    "# Executive Summary\n",
    "\n",
    "* **Overall, the area model appears to be succesfull.** \n",
    "* **There is substantial growth in the Application area** and we hence recommend to take action to address the load for APCs of the application area.\n",
    "* **Acceptance rates have declined this year,** caused by lower first-round acceptance rates and more than usual second-round rejects (some of which are likely [one-time effects](https://ieeevis.org/year/2024/blog/vis-2024-OPC-blog-decisions_2)).\n",
    "* **Variability of acceptance rates between areas is substantial.** \n",
    "\n",
    "Otherwise, our analysis suggests that submissions are relatively balanced across areas, keywords are (with a small exception) well distributed, and the unified PC appears to provide broad and overlapping coverage.\n",
    "\n",
    "## Recommendations\n",
    "\n",
    "The main issue that needs adressing for 2025 is the increasing size of the Applications area. The goal of area size is to be [approximately 100 submission, with a lower bound of 50 and an upper bound of 150](https://ieeevis.org/year/2022/blog/vis-21-area-model). After several years of gradual growth, (2021: 100; 2023: 123), the application area has grown to 154 papers in 2024. The Systems & Rendering area is slightly above the lower bound with 51 papers, as is the Data Transformations area with 53 papers.  \n",
    "\n",
    "We see three possible remedies for this uneven workload: \n",
    "\n",
    "### Option 1: Area Split\n",
    "\n",
    "The most obvious choice would be to split the areas that have grown too large. While this would be sensible for areas with a \"natural\" fault line, like Theoretical and Empirical, it seems more fraught for Applications. It is unclear how a sensible split of Applications could be executed that is not confusing to authors. One possiblity would be to split by application domain (e.g., Applications in AI/ML and all other Applications), but this would lead to ambiguity for a number of papers.  \n",
    "\n",
    "### Option 2: Additonal APCs for Large Areas\n",
    "\n",
    "The main motivation for keeping areas to similar sizes is to manage workload for APCs. An alternative approach to a split would be to add additional APCs for large areas (e.g., a third APC for applications). While it would reduce workload slightly, there are several downsides to this approach: \n",
    "\n",
    "* It would necessiate recruiting another senior researcher as an APC, and recruiting tends to be difficult. \n",
    "* It would grow the overall size of the APC while the number of papers is not growing substantially (it is still lower than in the outlier year 2020).\n",
    "* It might make decision-making more complicated. \n",
    "\n",
    "### Option 3: Introducing Secondary Areas and Moving Papers\n",
    "\n",
    "An alternative approach would be to introduce a secondary area for all paper submissions, and then balance papers after the initial submission. Author feedback shows that a second-choice area would be desirable. \n",
    "\n",
    "The advantages of this approach: \n",
    "* It could not only be used to alleviate issues in large areas, but also move papers to areas that do not receive enough submissions, creating an overall more balanced load.\n",
    "* It would be a relatively minor change from author's perspective. \n",
    "\n",
    "The downsides of this approach: \n",
    "* It adds an additional step to the review process. While papers are currently moved between areas on rare occasion, this would make this a standard part of the process.\n",
    "* Authors could be dicontent if their paper isn't reviewed in their primary area.\n",
    "\n",
    "**The ACC currently favors Option 3 as it seems most promising in balancing areas. However, we recommend eliciting feedback from APCs and OPCs on these options.**\n"
   ]
  },
  {
   "cell_type": "markdown",
   "id": "7018c46e",
   "metadata": {},
   "source": [
    "\n",
    "\n",
    "# Survey Results\n",
    "\n",
    "Regarding authors satisfaction related to the areas from the IEEE VIS Areas Feedback Survey 2024:\n",
    "\n",
    "* For our survey, we received 103 responses. This is not a particularly high return rate, but it's a good absolute number.\n",
    "* We received most responses from authors, who submitted to areas 1 (theory...), 2 (applications), and 4 (representations...), and less from areas 3 (systems), 5 (data transformations), and 6 (analytics).\n",
    "* Very few (6) found that they could not find a suitable area, a fair share of the authors (25 of 103), however, state that they could also have submitted to another area.\n",
    "* 8 authors, who submitted to applications, would also have submitted to another area. \n",
    "* Area 6 came up most often as a possible alternative area.\n",
    "* At large, it seems that most authors do not see the immediate need to change the areas.\n",
    "* Quite a few of the authors (18 of 103) thought that area 4 needs an improvement. \n",
    "* Also quite a few (12) thought that area 6 should be improved.  \n",
    "* When asked regarding merging/splitting areas, \"splitting area 2 (applications)\" came up most often. \n",
    "* The authors sent a pretty strong signal that indicating a second-choice area would be welcome. "
   ]
  },
  {
   "cell_type": "markdown",
   "id": "73fa7293",
   "metadata": {
    "vscode": {
     "languageId": "raw"
    }
   },
   "source": [
    "# Quantitative Analysis"
   ]
  },
  {
   "cell_type": "code",
   "execution_count": 1,
   "id": "b8c83cfc",
   "metadata": {
    "pycharm": {
     "name": "#%%\n"
    }
   },
   "outputs": [],
   "source": [
    "import itertools\n",
    "\n",
    "import pandas as pd\n",
    "import numpy as np\n",
    "\n",
    "# Import the necessaries libraries\n",
    "import plotly.offline as pio\n",
    "import plotly.graph_objs as go\n",
    "import plotly.express as px\n",
    "# [jdf] no need to specify the renderer but, for interactive use, init_notebook should be called\n",
    "# pio.renderers.default = \"jupyterlab\"\n",
    "# Set notebook mode to work in offline\n",
    "# pio.init_notebook_mode()\n",
    "# pio.init_notebook_mode(connected=True)\n",
    "width = 750\n",
    "\n",
    "import sqlite3\n",
    "\n",
    "#### Data Preparation\n",
    "\n",
    "# static data – codes -> names etc.\n",
    "staticdata = dict(\n",
    "    decision = { \n",
    "        'C': 'Confer vs. cond Accept', # relevant for the 2020 and 2021 data have a different meaning\n",
    "        'A': 'Accept', # for the 2020 data\n",
    "        'A2': 'Accept', # after the second round, should be 120 in 2022\n",
    "        'R': 'Reject', # reject after the first round -- should be 322 in 2022\n",
    "        'R2': 'Reject in round 2', # reject after the second round -- should be 2 in 2022\n",
    "        'R-2nd': 'Reject in round 2', \n",
    "        'DR-S': 'Desk Reject (Scope)', # should be 7 in 2022\n",
    "        'DR-P': 'Desk Reject (Plagiarism)', # should be 4 in 2022\n",
    "        'AR-P': 'Admin Reject (Plagiarism)', # should be 1 in 2022\n",
    "        'DR-F': 'Desk Reject (Format)', # should be 4 in 2022\n",
    "        'R-Strong': 'Reject Strong', # cannot resubmit to TVCG for a year\n",
    "        'T': 'Reject TVCG fasttrack', # Explicitly invited to resubmit to TVCG, status in major revision\n",
    "    },\n",
    "    FinalDecision = { # Just flatten to Accept and Reject\n",
    "        'C': 'Accept', \n",
    "        'A': 'Accept', # for the 2020 data\n",
    "        'A2': 'Accept', # after the second round, should be 120 in 2022\n",
    "        'R': 'Reject', # reject after the first round -- should be 322 in 2022\n",
    "        'R2': 'Reject', # reject after the second round -- should be 2 in 2022\n",
    "        'R-2nd': 'Reject', \n",
    "        'DR-S': 'Reject', # should be 7 in 2022\n",
    "        'DR-P': 'Reject', # should be 4 in 2022\n",
    "        'AR-P': 'Reject', # should be 1 in 2022\n",
    "        'DR-F': 'Reject', # should be 4 in 2022\n",
    "        'R-Strong': 'Reject',\n",
    "        'T': 'Reject',\n",
    "    },\n",
    "    area = {\n",
    "        'T&E': 'Theoretical & Empirical',\n",
    "        'App': 'Applications',\n",
    "        'S&R': 'Systems & Rendering',\n",
    "        'R&I': 'Representations & Interaction',\n",
    "        'DTr': 'Data Transformations',\n",
    "        'A&D': 'Analytics & Decisions',\n",
    "    },\n",
    "    bid = { \n",
    "        0: 'no bid',\n",
    "        1: 'want',\n",
    "        2: 'willing',\n",
    "        3: 'reluctant',\n",
    "        4: 'conflict'\n",
    "    },\n",
    "    stat = {\n",
    "        'Prim': 'Primary', \n",
    "        'Seco': 'Secondary'\n",
    "    },\n",
    "    keywords = pd.read_csv(\"../data/2021/keywords.csv\", sep=';'), # 2021 is correct as there was no new keywords file in 2022\n",
    "    colnames = {\n",
    "        'confsubid': 'Paper ID',\n",
    "        'rid': 'Reviewer',\n",
    "        'decision': 'Decision',\n",
    "        'area': 'Area',\n",
    "        'stat': 'Role',\n",
    "        'bid': 'Bid'\n",
    "    }\n",
    ")\n",
    "\n",
    "dbcon = sqlite3.connect('../data/vis-area-chair.db') #[jdf] assume data is in ..\n",
    "\n",
    "submissions_raw20 = pd.read_sql_query('SELECT * from submissions WHERE year = 2020', dbcon, 'sid')\n",
    "submissions_raw21 = pd.read_sql_query('SELECT * from submissions WHERE year = 2021', dbcon, 'sid')\n",
    "submissions_raw22 = pd.read_sql_query('SELECT * from submissions WHERE year = 2022', dbcon, 'sid')\n",
    "submissions_raw23 = pd.read_sql_query('SELECT * from submissions WHERE year = 2023', dbcon, 'sid')\n",
    "submissions_raw24 = pd.read_sql_query('SELECT * from submissions WHERE year = 2024', dbcon, 'sid')\n",
    "submissions_raw = pd.read_sql_query('SELECT * from submissions', dbcon, 'sid')\n",
    "#print(submissions_raw24)\n",
    "\n",
    "submissions = (submissions_raw\n",
    "    .join(\n",
    "        pd.read_sql_query('SELECT * from areas', dbcon, 'aid'), \n",
    "        on='aid'\n",
    "    )\n",
    "    .assign(Keywords = lambda df: (pd\n",
    "        .read_sql_query('SELECT * FROM submissionkeywords', dbcon, 'sid')\n",
    "        .loc[df.index]\n",
    "        .join(\n",
    "            pd.read_sql_query('SELECT * FROM keywords', dbcon, 'kid'), \n",
    "            on='kid'\n",
    "        )\n",
    "        .keyword\n",
    "        .groupby('sid')\n",
    "            .apply(list)\n",
    "    ))\n",
    "    .assign(**{'# Keywords': lambda df: df.Keywords.apply(len)})\n",
    "    .assign(**{'FinalDecision': lambda df: df['decision']})\n",
    "    .replace(staticdata)\n",
    "    .rename(columns = staticdata['colnames'])\n",
    "    .drop(columns = ['legacy', 'aid'])\n",
    "#    .set_index('sid')\n",
    "#    .set_index('Paper ID')\n",
    "# note -- I changed the index, since 'Paper ID' was not unique for multiple years.\n",
    "# By not setting the index to 'Paper ID' the index remains with 'sid'.\n",
    "# However, 'sid' is used as a unique index in the creation of the database anyways.\n",
    ")\n",
    "\n",
    "# replace the old 'Paper ID' with a unique identifier, so that the code from 2021 will work\n",
    "submissions = submissions.rename(columns = {'Paper ID':'Old Paper ID'})\n",
    "submissions.reset_index(inplace=True)\n",
    "submissions['Paper ID'] = submissions['sid']\n",
    "submissions = submissions.set_index('Paper ID')\n",
    "#submissions colums: (index), sid (unique id), Paper ID (unique), Old Paper ID, Decision, year, Area, Keywords (as a list), # Keywords\n",
    "\n",
    "all_years = submissions['year'].unique()\n",
    "\n",
    "#rates_decision computes the acceptance rates (and total number of papers) per year\n",
    "#rates_decision: (index), Decision, year, count, Percentage\n",
    "rates_decision = (submissions\n",
    "    .value_counts(['Decision', 'year'])\n",
    "    .reset_index()\n",
    "    # .rename(columns = {0: 'count'})\n",
    ")\n",
    "rates_decision['Percentage'] = rates_decision.groupby(['year'])['count'].transform(lambda x: x/x.sum()*100)\n",
    "rates_decision = rates_decision.round({'Percentage': 1})\n",
    "#rates_decision computes the acceptance rates (and total number of papers) per year\n",
    "#rates_decision: (index), Decision, year, count, Percentage\n",
    "rates_decision_final = (submissions\n",
    "    .value_counts(['FinalDecision', 'year'])\n",
    "    .reset_index()\n",
    "    # .rename(columns = {0: 'count'})\n",
    ")\n",
    "rates_decision_final['Percentage'] = rates_decision_final.groupby(['year'])['count'].transform(lambda x: x/x.sum()*100)\n",
    "rates_decision_final = rates_decision_final.round({'Percentage': 1})\n",
    "#submissions\n",
    "#bids_raw: (index), Reviewer ID, sid (unique paper identifier over mult years), match score, bid of the reviewer, role of the reviewer, Paper ID\n",
    "bids_raw = (pd\n",
    "    .read_sql_query('SELECT * from reviewerbids', dbcon)\n",
    "    .merge(submissions_raw['confsubid'], on='sid')\n",
    "    .replace(staticdata)\n",
    "    .rename(columns = staticdata['colnames'])\n",
    ")\n",
    "#bids_raw\n",
    "\n",
    "## Renaming Paper ID to Old Paper ID, setting Paper ID to sid, keeping all 3 for now...\n",
    "bids_raw = bids_raw.rename(columns = {'Paper ID':'Old Paper ID'})\n",
    "bids_raw['Paper ID'] = bids_raw['sid']\n",
    "# bids = Reviewer, sid, Bid (how the reviewer bid on this paper)\n",
    "#      doesn't include review/sid that were not bid for [.query('Bid != \"no bid\"')]\n",
    "bids = (bids_raw\n",
    "    .query('Bid != \"no bid\"')\n",
    "# Paper ID is not unique over multiple years!\n",
    "#    .drop(columns = ['sid'])\n",
    "#    [['Reviewer','Paper ID', 'Bid']]\n",
    "    [['Reviewer','sid', 'Paper ID', 'Bid']]\n",
    "    .reset_index(drop = True)\n",
    ")\n",
    "\n",
    "# matchscores becomes a table to reviewer/sid with the match scores\n",
    "# many of these will be \"NaN\" since we now have multiple years together.\n",
    "# we need to check whether the reviewer IDs remain unique across the years!\n",
    "matchscores = (bids_raw\n",
    "# Paper ID is not unique over multiple years!\n",
    "#    [['Reviewer','Paper ID','match']]\n",
    "    [['Reviewer','sid','Paper ID','match']]\n",
    "# Paper ID is not unique over multiple years!\n",
    "#    .set_index(['Reviewer', 'Paper ID'])\n",
    "    .set_index(['Reviewer', 'Paper ID'])\n",
    "    .match\n",
    "    .unstack(level=1)\n",
    ")\n",
    "\n",
    "# assignments = Reviewer, sid, Role (primary, secondary)\n",
    "#      doesn't include review/sid that were not assigned [.query('Role != \"\"')]\n",
    "assignments = (bids_raw\n",
    "    .query('Role != \"\"')\n",
    "# Paper ID is not unique over multiple years!\n",
    "#    [['Reviewer', 'Paper ID', 'Role']]\n",
    "    [['Reviewer', 'sid', 'Paper ID', 'Role']]\n",
    "    .reset_index(drop = True)\n",
    ")\n",
    "\n",
    "del dbcon\n",
    "\n",
    "#### Plot Defaults\n",
    "\n",
    "acc_template = go.layout.Template()\n",
    "\n",
    "acc_template.layout = dict(\n",
    "    font = dict( \n",
    "        family='Fira Sans',\n",
    "        color = 'black',\n",
    "        size = 13\n",
    "    ),\n",
    "    title_font_size = 14,\n",
    "    plot_bgcolor = 'rgba(255,255,255,0)',\n",
    "    paper_bgcolor = 'rgba(255,255,255,0)',\n",
    "    margin = dict(pad=10),\n",
    "    xaxis = dict(\n",
    "        title = dict( \n",
    "            font = dict( family='Fira Sans Medium', size=13 ),\n",
    "            standoff = 10\n",
    "        ),\n",
    "        gridcolor='lightgray',\n",
    "        gridwidth=1,\n",
    "        automargin = True,\n",
    "        fixedrange = True,\n",
    "    ),\n",
    "    yaxis = dict(\n",
    "        title = dict( \n",
    "            font = dict( family='Fira Sans Medium', size=13 ),\n",
    "            standoff = 10,\n",
    "        ),\n",
    "        gridcolor='lightgray',\n",
    "        gridwidth=1,\n",
    "        automargin = True,\n",
    "        fixedrange = True,\n",
    "    ),\n",
    "    legend=dict(\n",
    "        title_font_family=\"Fira Sans Medium\",\n",
    "    ),\n",
    "    colorway = px.colors.qualitative.T10,\n",
    "    hovermode = 'closest',\n",
    "    hoverlabel=dict(\n",
    "        bgcolor=\"white\",\n",
    "        bordercolor='lightgray',\n",
    "        font_color = 'black',\n",
    "        font_family = 'Fira Sans'\n",
    "    ),\n",
    ")\n",
    "\n",
    "acc_template.data.bar = [dict(\n",
    "    textposition = 'inside',\n",
    "    insidetextanchor='middle',\n",
    "    textfont_size = 12,\n",
    ")]\n",
    "\n",
    "px.defaults.template = acc_template\n",
    "\n",
    "px.defaults.category_orders = {\n",
    "    'Decision': list(staticdata['decision'].values()),\n",
    "    'FinalDecision':  list(staticdata['FinalDecision'].values()),\n",
    "    'Area': list(staticdata['area'].values()),\n",
    "    'Short Name': staticdata['keywords']['Short Name'].tolist(),\n",
    "}\n",
    "\n",
    "config = dict(\n",
    "    displayModeBar = False,\n",
    "    scrollZoom = False,\n",
    "    responsive = False\n",
    ")\n",
    "\n",
    "def aspect(ratio):\n",
    "    return { 'width': width, 'height': int(ratio*width) }\n",
    "\n",
    "# useful data sub-products\n",
    "\n",
    "#k_all columns: (index), Paper ID, Old Paper ID, Decision, year, Area, Keywords (as a list), # Keywords, Keyword, Category, Subcategory, Short Name, Description\n",
    "k_all = (submissions\n",
    "    .join(submissions['Keywords']\n",
    "        .explode()\n",
    "        .rename('Keyword')\n",
    "    )\n",
    "    .reset_index(level = 0)\n",
    "    .merge(staticdata['keywords'], on='Keyword')\n",
    ")\n",
    "\n",
    "# (Old) Paper ID is not unique, however, the 'sid' is (which is the current index)\n",
    "#k_all.reset_index(inplace=True)\n",
    "#k_all.rename(columns = {'sid':'Paper ID'},inplace = True)\n",
    "#k_all = k_all.merge(staticdata['keywords'], on='Keyword')\n",
    "#k_all\n",
    "\n",
    "#k_total columns: Category, Subcategory, Short Name, Keyword, Description, #Submissions, year\n",
    "#  counts the total number of submissions per keyword and year\n",
    "k_total = staticdata['keywords'].merge(\n",
    "    k_all.value_counts(['Short Name','year'])\n",
    "         .rename('# Submissions')\n",
    "         .reset_index(),\n",
    "#    on = 'Short Name',\n",
    "    how = 'right'\n",
    "#    how = 'outer'\n",
    ")\n",
    "\n",
    "#k_cnt: how often was a particular keyword used among all submissions within a year????\n",
    "#k_cnt columns: (index), Short Name, year, c, Category, Subcategory, Keyword, Description\n",
    "# not clear how k_cnt and k_total differ!\n",
    "k_cnt = (k_all\n",
    "    .value_counts(['Short Name','year'], sort=False)\n",
    "    .rename('c')\n",
    "    .to_frame()\n",
    "    .reset_index()\n",
    "    .merge(staticdata['keywords'], on='Short Name')\n",
    ")"
   ]
  },
  {
   "cell_type": "markdown",
   "id": "2c75d5da",
   "metadata": {
    "pycharm": {
     "name": "#%% md\n"
    }
   },
   "source": [
    "## Submissions\n",
    "\n",
    "The number of submissions peaked in 2020 at 585 papers, which is likely caused by the pandemic and the one-month extension to the dealine given because of it. The years 2021 and 2022 saw lower numbers of submissions with 442 and 460 respectively. Submissions increased in the year 2023 (539) and 2024 (544), and are now almost back to the peak of 2020. "
   ]
  },
  {
   "cell_type": "code",
   "execution_count": 2,
   "id": "09e2a486",
   "metadata": {},
   "outputs": [],
   "source": [
    "totals = rates_decision_final.groupby('year')['count'].sum().reset_index()"
   ]
  },
  {
   "cell_type": "code",
   "execution_count": 3,
   "id": "ac3849be",
   "metadata": {},
   "outputs": [
    {
     "data": {
      "application/vnd.plotly.v1+json": {
       "config": {
        "displayModeBar": false,
        "plotlyServerURL": "https://plot.ly",
        "responsive": false,
        "scrollZoom": false
       },
       "data": [
        {
         "alignmentgroup": "True",
         "hovertemplate": "Number of Submissions=%{text}<br>Year=%{y}<extra></extra>",
         "legendgroup": "",
         "marker": {
          "color": "#4C78A8",
          "pattern": {
           "shape": ""
          }
         },
         "name": "",
         "offsetgroup": "",
         "orientation": "h",
         "showlegend": false,
         "text": [
          585,
          442,
          460,
          539,
          557
         ],
         "textposition": "auto",
         "type": "bar",
         "x": [
          585,
          442,
          460,
          539,
          557
         ],
         "xaxis": "x",
         "y": [
          2020,
          2021,
          2022,
          2023,
          2024
         ],
         "yaxis": "y"
        }
       ],
       "layout": {
        "barmode": "relative",
        "height": 262,
        "legend": {
         "tracegroupgap": 0
        },
        "margin": {
         "t": 60
        },
        "template": {
         "data": {
          "bar": [
           {
            "insidetextanchor": "middle",
            "textfont": {
             "size": 12
            },
            "textposition": "inside",
            "type": "bar"
           }
          ]
         },
         "layout": {
          "colorway": [
           "#4C78A8",
           "#F58518",
           "#E45756",
           "#72B7B2",
           "#54A24B",
           "#EECA3B",
           "#B279A2",
           "#FF9DA6",
           "#9D755D",
           "#BAB0AC"
          ],
          "font": {
           "color": "black",
           "family": "Fira Sans",
           "size": 13
          },
          "hoverlabel": {
           "bgcolor": "white",
           "bordercolor": "lightgray",
           "font": {
            "color": "black",
            "family": "Fira Sans"
           }
          },
          "hovermode": "closest",
          "legend": {
           "title": {
            "font": {
             "family": "Fira Sans Medium"
            }
           }
          },
          "margin": {
           "pad": 10
          },
          "paper_bgcolor": "rgba(255,255,255,0)",
          "plot_bgcolor": "rgba(255,255,255,0)",
          "title": {
           "font": {
            "size": 14
           }
          },
          "xaxis": {
           "automargin": true,
           "fixedrange": true,
           "gridcolor": "lightgray",
           "gridwidth": 1,
           "title": {
            "font": {
             "family": "Fira Sans Medium",
             "size": 13
            },
            "standoff": 10
           }
          },
          "yaxis": {
           "automargin": true,
           "fixedrange": true,
           "gridcolor": "lightgray",
           "gridwidth": 1,
           "title": {
            "font": {
             "family": "Fira Sans Medium",
             "size": 13
            },
            "standoff": 10
           }
          }
         }
        },
        "title": {
         "text": "Submissions Numbers since 2020"
        },
        "width": 750,
        "xaxis": {
         "anchor": "y",
         "domain": [
          0,
          1
         ],
         "title": {
          "text": "Number of Submissions"
         }
        },
        "yaxis": {
         "anchor": "x",
         "autorange": "reversed",
         "domain": [
          0,
          1
         ],
         "tickmode": "linear",
         "title": {
          "text": "Year"
         }
        }
       }
      }
     },
     "metadata": {},
     "output_type": "display_data"
    }
   ],
   "source": [
    "fig = px.bar(totals,\n",
    "    y='year',\n",
    "    x='count', \n",
    "    orientation = 'h',\n",
    "    labels={'count':'Number of Submissions', 'year':'Year'},\n",
    "    text = 'count',\n",
    ").update_layout(\n",
    "    yaxis=dict(autorange=\"reversed\", tickmode='linear'),\n",
    "    title = 'Submissions Numbers since 2020',\n",
    "    xaxis_title = 'Number of Submissions',\n",
    "    **aspect(0.35)\n",
    ")\n",
    "\n",
    "fig.show(config=config)"
   ]
  },
  {
   "cell_type": "markdown",
   "id": "47e5c024",
   "metadata": {},
   "source": [
    "#### Acceptance Rates\n",
    "\n",
    "Acceptance rates have fluctuated lightly from 2020-2023 (26.8%, 24.9%, 26.1% and 25.8%) though there **was** a dip (24.4%) in 2021. \n",
    "For 2024, we see a rather sharp drop off to 22.4%, which is partially caused by a lower first-round acceptance rate (23.2%) and amplified by 3 second-round rejects. \n",
    "\n",
    "This trend might mean that the reviewers want higher-quality articles, which would be good if the research field was becoming more stable and reached a steady state, or that they become more conservative, which would be detrimental to the development of novel less consensual research directions. We hope the VSC will enquire more deeply and provide guidelines to the OPC and reviewers to steer the conference in the right direction.\n",
    "\n",
    "Comment Alex: here it would be good to get input from the OPCs. I don't know whether we should speculate on reasons in this report. "
   ]
  },
  {
   "cell_type": "code",
   "execution_count": 4,
   "id": "113e194e",
   "metadata": {
    "pycharm": {
     "name": "#%%\n"
    }
   },
   "outputs": [
    {
     "data": {
      "application/vnd.plotly.v1+json": {
       "config": {
        "displayModeBar": false,
        "plotlyServerURL": "https://plot.ly",
        "responsive": false,
        "scrollZoom": false
       },
       "data": [
        {
         "alignmentgroup": "True",
         "customdata": [
          [
           "Accept",
           157
          ],
          [
           "Accept",
           139
          ],
          [
           "Accept",
           124
          ],
          [
           "Accept",
           120
          ],
          [
           "Accept",
           110
          ]
         ],
         "hovertemplate": "%{customdata[1]} submissions in %{y} have decision %{customdata[0]}<extra></extra>",
         "legendgroup": "Accept",
         "marker": {
          "color": "#4C78A8",
          "pattern": {
           "shape": ""
          }
         },
         "name": "Accept",
         "offsetgroup": "Accept",
         "orientation": "h",
         "showlegend": true,
         "text": [
          26.8,
          25.8,
          22.3,
          26.1,
          24.9
         ],
         "textposition": "auto",
         "type": "bar",
         "x": [
          26.8,
          25.8,
          22.3,
          26.1,
          24.9
         ],
         "xaxis": "x",
         "y": [
          2020,
          2023,
          2024,
          2022,
          2021
         ],
         "yaxis": "y"
        },
        {
         "alignmentgroup": "True",
         "customdata": [
          [
           "Reject",
           430
          ],
          [
           "Reject",
           428
          ],
          [
           "Reject",
           400
          ],
          [
           "Reject",
           340
          ],
          [
           "Reject",
           332
          ]
         ],
         "hovertemplate": "%{customdata[1]} submissions in %{y} have decision %{customdata[0]}<extra></extra>",
         "legendgroup": "Reject",
         "marker": {
          "color": "#F58518",
          "pattern": {
           "shape": ""
          }
         },
         "name": "Reject",
         "offsetgroup": "Reject",
         "orientation": "h",
         "showlegend": true,
         "text": [
          77.2,
          73.2,
          74.2,
          73.9,
          75.1
         ],
         "textposition": "auto",
         "type": "bar",
         "x": [
          77.2,
          73.2,
          74.2,
          73.9,
          75.1
         ],
         "xaxis": "x",
         "y": [
          2024,
          2020,
          2023,
          2022,
          2021
         ],
         "yaxis": "y"
        },
        {
         "alignmentgroup": "True",
         "customdata": [
          [
           "R2-S",
           3
          ]
         ],
         "hovertemplate": "%{customdata[1]} submissions in %{y} have decision %{customdata[0]}<extra></extra>",
         "legendgroup": "R2-S",
         "marker": {
          "color": "#E45756",
          "pattern": {
           "shape": ""
          }
         },
         "name": "R2-S",
         "offsetgroup": "R2-S",
         "orientation": "h",
         "showlegend": true,
         "text": [
          0.5
         ],
         "textposition": "auto",
         "type": "bar",
         "x": [
          0.5
         ],
         "xaxis": "x",
         "y": [
          2024
         ],
         "yaxis": "y"
        }
       ],
       "layout": {
        "barmode": "stack",
        "height": 262,
        "legend": {
         "title": {
          "text": "FinalDecision"
         },
         "tracegroupgap": 0
        },
        "margin": {
         "t": 60
        },
        "template": {
         "data": {
          "bar": [
           {
            "insidetextanchor": "middle",
            "textfont": {
             "size": 12
            },
            "textposition": "inside",
            "type": "bar"
           }
          ]
         },
         "layout": {
          "colorway": [
           "#4C78A8",
           "#F58518",
           "#E45756",
           "#72B7B2",
           "#54A24B",
           "#EECA3B",
           "#B279A2",
           "#FF9DA6",
           "#9D755D",
           "#BAB0AC"
          ],
          "font": {
           "color": "black",
           "family": "Fira Sans",
           "size": 13
          },
          "hoverlabel": {
           "bgcolor": "white",
           "bordercolor": "lightgray",
           "font": {
            "color": "black",
            "family": "Fira Sans"
           }
          },
          "hovermode": "closest",
          "legend": {
           "title": {
            "font": {
             "family": "Fira Sans Medium"
            }
           }
          },
          "margin": {
           "pad": 10
          },
          "paper_bgcolor": "rgba(255,255,255,0)",
          "plot_bgcolor": "rgba(255,255,255,0)",
          "title": {
           "font": {
            "size": 14
           }
          },
          "xaxis": {
           "automargin": true,
           "fixedrange": true,
           "gridcolor": "lightgray",
           "gridwidth": 1,
           "title": {
            "font": {
             "family": "Fira Sans Medium",
             "size": 13
            },
            "standoff": 10
           }
          },
          "yaxis": {
           "automargin": true,
           "fixedrange": true,
           "gridcolor": "lightgray",
           "gridwidth": 1,
           "title": {
            "font": {
             "family": "Fira Sans Medium",
             "size": 13
            },
            "standoff": 10
           }
          }
         }
        },
        "title": {
         "text": "Acceptance Rates since 2020"
        },
        "width": 750,
        "xaxis": {
         "anchor": "y",
         "domain": [
          0,
          1
         ],
         "title": {
          "text": "Percentage of Submissions"
         }
        },
        "yaxis": {
         "anchor": "x",
         "autorange": "reversed",
         "domain": [
          0,
          1
         ],
         "tickmode": "linear",
         "title": {
          "text": "year"
         }
        }
       }
      }
     },
     "metadata": {},
     "output_type": "display_data"
    }
   ],
   "source": [
    "fig = px.bar(rates_decision_final,\n",
    "    x = 'Percentage',\n",
    "    y = 'year',\n",
    "    barmode = 'stack',\n",
    "    orientation = 'h',\n",
    "    color = 'FinalDecision',\n",
    "    text = 'Percentage',\n",
    "    custom_data = ['FinalDecision','count'],\n",
    ").update_layout(\n",
    "    yaxis=dict(autorange=\"reversed\", tickmode='linear'),\n",
    "    title = 'Acceptance Rates since 2020',\n",
    "    xaxis_title = 'Percentage of Submissions',\n",
    "    **aspect(0.35)\n",
    ").update_traces(\n",
    "    hovertemplate = '%{customdata[1]} submissions in %{y} have decision %{customdata[0]}<extra></extra>',\n",
    ").show(config=config)\n",
    "\n"
   ]
  },
  {
   "cell_type": "markdown",
   "id": "1bb1d3fa",
   "metadata": {
    "pycharm": {
     "name": "#%% md\n"
    }
   },
   "source": [
    "#### Distributions in Areas"
   ]
  },
  {
   "cell_type": "code",
   "execution_count": 5,
   "id": "65e8b660",
   "metadata": {
    "pycharm": {
     "name": "#%%\n"
    }
   },
   "outputs": [
    {
     "data": {
      "application/vnd.plotly.v1+json": {
       "config": {
        "plotlyServerURL": "https://plot.ly"
       },
       "data": [
        {
         "customdata": [
          [
           "Applications",
           2021,
           100
          ],
          [
           "Theoretical & Empirical",
           2021,
           85
          ],
          [
           "Representations & Interaction",
           2021,
           79
          ],
          [
           "Analytics & Decisions",
           2021,
           78
          ],
          [
           "Data Transformations",
           2021,
           54
          ],
          [
           "Systems & Rendering",
           2021,
           46
          ]
         ],
         "hovertemplate": "%{y} papers were submitted in",
         "name": "2021",
         "offsetgroup": "1",
         "type": "bar",
         "x": [
          "Applications",
          "Theoretical & Empirical",
          "Representations & Interaction",
          "Analytics & Decisions",
          "Data Transformations",
          "Systems & Rendering"
         ],
         "y": [
          100,
          85,
          79,
          78,
          54,
          46
         ]
        },
        {
         "customdata": [
          [
           "Applications",
           2022,
           103
          ],
          [
           "Theoretical & Empirical",
           2022,
           98
          ],
          [
           "Analytics & Decisions",
           2022,
           94
          ],
          [
           "Representations & Interaction",
           2022,
           75
          ],
          [
           "Data Transformations",
           2022,
           47
          ],
          [
           "Systems & Rendering",
           2022,
           43
          ]
         ],
         "hovertemplate": "%{y} papers were submitted in",
         "name": "2022",
         "offsetgroup": "2",
         "type": "bar",
         "x": [
          "Applications",
          "Theoretical & Empirical",
          "Analytics & Decisions",
          "Representations & Interaction",
          "Data Transformations",
          "Systems & Rendering"
         ],
         "y": [
          103,
          98,
          94,
          75,
          47,
          43
         ]
        },
        {
         "customdata": [
          [
           "Applications",
           2023,
           123
          ],
          [
           "Theoretical & Empirical",
           2023,
           123
          ],
          [
           "Representations & Interaction",
           2023,
           86
          ],
          [
           "Analytics & Decisions",
           2023,
           82
          ],
          [
           "Data Transformations",
           2023,
           68
          ],
          [
           "Systems & Rendering",
           2023,
           57
          ]
         ],
         "hovertemplate": "%{y} papers were submitted in",
         "name": "2023",
         "offsetgroup": "3",
         "type": "bar",
         "x": [
          "Applications",
          "Theoretical & Empirical",
          "Representations & Interaction",
          "Analytics & Decisions",
          "Data Transformations",
          "Systems & Rendering"
         ],
         "y": [
          123,
          123,
          86,
          82,
          68,
          57
         ]
        },
        {
         "customdata": [
          [
           "Applications",
           2024,
           154
          ],
          [
           "Theoretical & Empirical",
           2024,
           112
          ],
          [
           "Representations & Interaction",
           2024,
           110
          ],
          [
           "Analytics & Decisions",
           2024,
           77
          ],
          [
           "Data Transformations",
           2024,
           53
          ],
          [
           "Systems & Rendering",
           2024,
           51
          ]
         ],
         "hovertemplate": "%{y} papers were submitted in",
         "name": "2024",
         "offsetgroup": "4",
         "type": "bar",
         "x": [
          "Applications",
          "Theoretical & Empirical",
          "Representations & Interaction",
          "Analytics & Decisions",
          "Data Transformations",
          "Systems & Rendering"
         ],
         "y": [
          154,
          112,
          110,
          77,
          53,
          51
         ]
        }
       ],
       "layout": {
        "template": {
         "data": {
          "bar": [
           {
            "error_x": {
             "color": "#2a3f5f"
            },
            "error_y": {
             "color": "#2a3f5f"
            },
            "marker": {
             "line": {
              "color": "white",
              "width": 0.5
             },
             "pattern": {
              "fillmode": "overlay",
              "size": 10,
              "solidity": 0.2
             }
            },
            "type": "bar"
           }
          ],
          "barpolar": [
           {
            "marker": {
             "line": {
              "color": "white",
              "width": 0.5
             },
             "pattern": {
              "fillmode": "overlay",
              "size": 10,
              "solidity": 0.2
             }
            },
            "type": "barpolar"
           }
          ],
          "carpet": [
           {
            "aaxis": {
             "endlinecolor": "#2a3f5f",
             "gridcolor": "#C8D4E3",
             "linecolor": "#C8D4E3",
             "minorgridcolor": "#C8D4E3",
             "startlinecolor": "#2a3f5f"
            },
            "baxis": {
             "endlinecolor": "#2a3f5f",
             "gridcolor": "#C8D4E3",
             "linecolor": "#C8D4E3",
             "minorgridcolor": "#C8D4E3",
             "startlinecolor": "#2a3f5f"
            },
            "type": "carpet"
           }
          ],
          "choropleth": [
           {
            "colorbar": {
             "outlinewidth": 0,
             "ticks": ""
            },
            "type": "choropleth"
           }
          ],
          "contour": [
           {
            "colorbar": {
             "outlinewidth": 0,
             "ticks": ""
            },
            "colorscale": [
             [
              0,
              "#0d0887"
             ],
             [
              0.1111111111111111,
              "#46039f"
             ],
             [
              0.2222222222222222,
              "#7201a8"
             ],
             [
              0.3333333333333333,
              "#9c179e"
             ],
             [
              0.4444444444444444,
              "#bd3786"
             ],
             [
              0.5555555555555556,
              "#d8576b"
             ],
             [
              0.6666666666666666,
              "#ed7953"
             ],
             [
              0.7777777777777778,
              "#fb9f3a"
             ],
             [
              0.8888888888888888,
              "#fdca26"
             ],
             [
              1,
              "#f0f921"
             ]
            ],
            "type": "contour"
           }
          ],
          "contourcarpet": [
           {
            "colorbar": {
             "outlinewidth": 0,
             "ticks": ""
            },
            "type": "contourcarpet"
           }
          ],
          "heatmap": [
           {
            "colorbar": {
             "outlinewidth": 0,
             "ticks": ""
            },
            "colorscale": [
             [
              0,
              "#0d0887"
             ],
             [
              0.1111111111111111,
              "#46039f"
             ],
             [
              0.2222222222222222,
              "#7201a8"
             ],
             [
              0.3333333333333333,
              "#9c179e"
             ],
             [
              0.4444444444444444,
              "#bd3786"
             ],
             [
              0.5555555555555556,
              "#d8576b"
             ],
             [
              0.6666666666666666,
              "#ed7953"
             ],
             [
              0.7777777777777778,
              "#fb9f3a"
             ],
             [
              0.8888888888888888,
              "#fdca26"
             ],
             [
              1,
              "#f0f921"
             ]
            ],
            "type": "heatmap"
           }
          ],
          "heatmapgl": [
           {
            "colorbar": {
             "outlinewidth": 0,
             "ticks": ""
            },
            "colorscale": [
             [
              0,
              "#0d0887"
             ],
             [
              0.1111111111111111,
              "#46039f"
             ],
             [
              0.2222222222222222,
              "#7201a8"
             ],
             [
              0.3333333333333333,
              "#9c179e"
             ],
             [
              0.4444444444444444,
              "#bd3786"
             ],
             [
              0.5555555555555556,
              "#d8576b"
             ],
             [
              0.6666666666666666,
              "#ed7953"
             ],
             [
              0.7777777777777778,
              "#fb9f3a"
             ],
             [
              0.8888888888888888,
              "#fdca26"
             ],
             [
              1,
              "#f0f921"
             ]
            ],
            "type": "heatmapgl"
           }
          ],
          "histogram": [
           {
            "marker": {
             "pattern": {
              "fillmode": "overlay",
              "size": 10,
              "solidity": 0.2
             }
            },
            "type": "histogram"
           }
          ],
          "histogram2d": [
           {
            "colorbar": {
             "outlinewidth": 0,
             "ticks": ""
            },
            "colorscale": [
             [
              0,
              "#0d0887"
             ],
             [
              0.1111111111111111,
              "#46039f"
             ],
             [
              0.2222222222222222,
              "#7201a8"
             ],
             [
              0.3333333333333333,
              "#9c179e"
             ],
             [
              0.4444444444444444,
              "#bd3786"
             ],
             [
              0.5555555555555556,
              "#d8576b"
             ],
             [
              0.6666666666666666,
              "#ed7953"
             ],
             [
              0.7777777777777778,
              "#fb9f3a"
             ],
             [
              0.8888888888888888,
              "#fdca26"
             ],
             [
              1,
              "#f0f921"
             ]
            ],
            "type": "histogram2d"
           }
          ],
          "histogram2dcontour": [
           {
            "colorbar": {
             "outlinewidth": 0,
             "ticks": ""
            },
            "colorscale": [
             [
              0,
              "#0d0887"
             ],
             [
              0.1111111111111111,
              "#46039f"
             ],
             [
              0.2222222222222222,
              "#7201a8"
             ],
             [
              0.3333333333333333,
              "#9c179e"
             ],
             [
              0.4444444444444444,
              "#bd3786"
             ],
             [
              0.5555555555555556,
              "#d8576b"
             ],
             [
              0.6666666666666666,
              "#ed7953"
             ],
             [
              0.7777777777777778,
              "#fb9f3a"
             ],
             [
              0.8888888888888888,
              "#fdca26"
             ],
             [
              1,
              "#f0f921"
             ]
            ],
            "type": "histogram2dcontour"
           }
          ],
          "mesh3d": [
           {
            "colorbar": {
             "outlinewidth": 0,
             "ticks": ""
            },
            "type": "mesh3d"
           }
          ],
          "parcoords": [
           {
            "line": {
             "colorbar": {
              "outlinewidth": 0,
              "ticks": ""
             }
            },
            "type": "parcoords"
           }
          ],
          "pie": [
           {
            "automargin": true,
            "type": "pie"
           }
          ],
          "scatter": [
           {
            "fillpattern": {
             "fillmode": "overlay",
             "size": 10,
             "solidity": 0.2
            },
            "type": "scatter"
           }
          ],
          "scatter3d": [
           {
            "line": {
             "colorbar": {
              "outlinewidth": 0,
              "ticks": ""
             }
            },
            "marker": {
             "colorbar": {
              "outlinewidth": 0,
              "ticks": ""
             }
            },
            "type": "scatter3d"
           }
          ],
          "scattercarpet": [
           {
            "marker": {
             "colorbar": {
              "outlinewidth": 0,
              "ticks": ""
             }
            },
            "type": "scattercarpet"
           }
          ],
          "scattergeo": [
           {
            "marker": {
             "colorbar": {
              "outlinewidth": 0,
              "ticks": ""
             }
            },
            "type": "scattergeo"
           }
          ],
          "scattergl": [
           {
            "marker": {
             "colorbar": {
              "outlinewidth": 0,
              "ticks": ""
             }
            },
            "type": "scattergl"
           }
          ],
          "scattermapbox": [
           {
            "marker": {
             "colorbar": {
              "outlinewidth": 0,
              "ticks": ""
             }
            },
            "type": "scattermapbox"
           }
          ],
          "scatterpolar": [
           {
            "marker": {
             "colorbar": {
              "outlinewidth": 0,
              "ticks": ""
             }
            },
            "type": "scatterpolar"
           }
          ],
          "scatterpolargl": [
           {
            "marker": {
             "colorbar": {
              "outlinewidth": 0,
              "ticks": ""
             }
            },
            "type": "scatterpolargl"
           }
          ],
          "scatterternary": [
           {
            "marker": {
             "colorbar": {
              "outlinewidth": 0,
              "ticks": ""
             }
            },
            "type": "scatterternary"
           }
          ],
          "surface": [
           {
            "colorbar": {
             "outlinewidth": 0,
             "ticks": ""
            },
            "colorscale": [
             [
              0,
              "#0d0887"
             ],
             [
              0.1111111111111111,
              "#46039f"
             ],
             [
              0.2222222222222222,
              "#7201a8"
             ],
             [
              0.3333333333333333,
              "#9c179e"
             ],
             [
              0.4444444444444444,
              "#bd3786"
             ],
             [
              0.5555555555555556,
              "#d8576b"
             ],
             [
              0.6666666666666666,
              "#ed7953"
             ],
             [
              0.7777777777777778,
              "#fb9f3a"
             ],
             [
              0.8888888888888888,
              "#fdca26"
             ],
             [
              1,
              "#f0f921"
             ]
            ],
            "type": "surface"
           }
          ],
          "table": [
           {
            "cells": {
             "fill": {
              "color": "#EBF0F8"
             },
             "line": {
              "color": "white"
             }
            },
            "header": {
             "fill": {
              "color": "#C8D4E3"
             },
             "line": {
              "color": "white"
             }
            },
            "type": "table"
           }
          ]
         },
         "layout": {
          "annotationdefaults": {
           "arrowcolor": "#2a3f5f",
           "arrowhead": 0,
           "arrowwidth": 1
          },
          "autotypenumbers": "strict",
          "coloraxis": {
           "colorbar": {
            "outlinewidth": 0,
            "ticks": ""
           }
          },
          "colorscale": {
           "diverging": [
            [
             0,
             "#8e0152"
            ],
            [
             0.1,
             "#c51b7d"
            ],
            [
             0.2,
             "#de77ae"
            ],
            [
             0.3,
             "#f1b6da"
            ],
            [
             0.4,
             "#fde0ef"
            ],
            [
             0.5,
             "#f7f7f7"
            ],
            [
             0.6,
             "#e6f5d0"
            ],
            [
             0.7,
             "#b8e186"
            ],
            [
             0.8,
             "#7fbc41"
            ],
            [
             0.9,
             "#4d9221"
            ],
            [
             1,
             "#276419"
            ]
           ],
           "sequential": [
            [
             0,
             "#0d0887"
            ],
            [
             0.1111111111111111,
             "#46039f"
            ],
            [
             0.2222222222222222,
             "#7201a8"
            ],
            [
             0.3333333333333333,
             "#9c179e"
            ],
            [
             0.4444444444444444,
             "#bd3786"
            ],
            [
             0.5555555555555556,
             "#d8576b"
            ],
            [
             0.6666666666666666,
             "#ed7953"
            ],
            [
             0.7777777777777778,
             "#fb9f3a"
            ],
            [
             0.8888888888888888,
             "#fdca26"
            ],
            [
             1,
             "#f0f921"
            ]
           ],
           "sequentialminus": [
            [
             0,
             "#0d0887"
            ],
            [
             0.1111111111111111,
             "#46039f"
            ],
            [
             0.2222222222222222,
             "#7201a8"
            ],
            [
             0.3333333333333333,
             "#9c179e"
            ],
            [
             0.4444444444444444,
             "#bd3786"
            ],
            [
             0.5555555555555556,
             "#d8576b"
            ],
            [
             0.6666666666666666,
             "#ed7953"
            ],
            [
             0.7777777777777778,
             "#fb9f3a"
            ],
            [
             0.8888888888888888,
             "#fdca26"
            ],
            [
             1,
             "#f0f921"
            ]
           ]
          },
          "colorway": [
           "#636efa",
           "#EF553B",
           "#00cc96",
           "#ab63fa",
           "#FFA15A",
           "#19d3f3",
           "#FF6692",
           "#B6E880",
           "#FF97FF",
           "#FECB52"
          ],
          "font": {
           "color": "#2a3f5f"
          },
          "geo": {
           "bgcolor": "white",
           "lakecolor": "white",
           "landcolor": "white",
           "showlakes": true,
           "showland": true,
           "subunitcolor": "#C8D4E3"
          },
          "hoverlabel": {
           "align": "left"
          },
          "hovermode": "closest",
          "mapbox": {
           "style": "light"
          },
          "paper_bgcolor": "white",
          "plot_bgcolor": "white",
          "polar": {
           "angularaxis": {
            "gridcolor": "#EBF0F8",
            "linecolor": "#EBF0F8",
            "ticks": ""
           },
           "bgcolor": "white",
           "radialaxis": {
            "gridcolor": "#EBF0F8",
            "linecolor": "#EBF0F8",
            "ticks": ""
           }
          },
          "scene": {
           "xaxis": {
            "backgroundcolor": "white",
            "gridcolor": "#DFE8F3",
            "gridwidth": 2,
            "linecolor": "#EBF0F8",
            "showbackground": true,
            "ticks": "",
            "zerolinecolor": "#EBF0F8"
           },
           "yaxis": {
            "backgroundcolor": "white",
            "gridcolor": "#DFE8F3",
            "gridwidth": 2,
            "linecolor": "#EBF0F8",
            "showbackground": true,
            "ticks": "",
            "zerolinecolor": "#EBF0F8"
           },
           "zaxis": {
            "backgroundcolor": "white",
            "gridcolor": "#DFE8F3",
            "gridwidth": 2,
            "linecolor": "#EBF0F8",
            "showbackground": true,
            "ticks": "",
            "zerolinecolor": "#EBF0F8"
           }
          },
          "shapedefaults": {
           "line": {
            "color": "#2a3f5f"
           }
          },
          "ternary": {
           "aaxis": {
            "gridcolor": "#DFE8F3",
            "linecolor": "#A2B1C6",
            "ticks": ""
           },
           "baxis": {
            "gridcolor": "#DFE8F3",
            "linecolor": "#A2B1C6",
            "ticks": ""
           },
           "bgcolor": "white",
           "caxis": {
            "gridcolor": "#DFE8F3",
            "linecolor": "#A2B1C6",
            "ticks": ""
           }
          },
          "title": {
           "x": 0.05
          },
          "xaxis": {
           "automargin": true,
           "gridcolor": "#EBF0F8",
           "linecolor": "#EBF0F8",
           "ticks": "",
           "title": {
            "standoff": 15
           },
           "zerolinecolor": "#EBF0F8",
           "zerolinewidth": 2
          },
          "yaxis": {
           "automargin": true,
           "gridcolor": "#EBF0F8",
           "linecolor": "#EBF0F8",
           "ticks": "",
           "title": {
            "standoff": 15
           },
           "zerolinecolor": "#EBF0F8",
           "zerolinewidth": 2
          }
         }
        },
        "title": {
         "text": "Comparing # submissions 2021, 2022. 2023, and 2024"
        },
        "xaxis": {
         "title": {
          "text": "Areas"
         }
        }
       }
      }
     },
     "metadata": {},
     "output_type": "display_data"
    }
   ],
   "source": [
    "tmp = (submissions\n",
    "    .value_counts(['Area', 'year'])\n",
    "    .reset_index()\n",
    "    .rename(columns = {0: 'count'})\n",
    ")\n",
    "\n",
    "data=[]\n",
    "count=0\n",
    "recent_years = [2021, 2022, 2023, 2024]\n",
    "for my_year in recent_years:\n",
    "    count=count+1\n",
    "    trace1=go.Bar(\n",
    "        x=tmp[tmp['year']==my_year][\"Area\"],\n",
    "        y=tmp[tmp['year']==my_year]['count'],\n",
    "        customdata = tmp[tmp['year']==my_year],\n",
    "        hovertemplate=\"%{y} papers were submitted in\",\n",
    "        name=f\"{my_year}\",\n",
    "        offsetgroup=count,\n",
    "    )\n",
    "    data.append(trace1)\n",
    "\n",
    "\n",
    "fig2 = go.Figure(\n",
    "    data=data,\n",
    "    layout=go.Layout(\n",
    "        title=\"Comparing # submissions 2021, 2022. 2023, and 2024\",\n",
    "        xaxis_title=\"Areas\",\n",
    "        template=\"plotly_white\"\n",
    "    )\n",
    ")\n",
    "fig2.show()"
   ]
  },
  {
   "cell_type": "markdown",
   "id": "cca77a25",
   "metadata": {},
   "source": [
    "Submissions across the (reformulated) areas are relatively stable between 2021 and 2024 with some notable exceptions. Applications has been a large area since the start of the area model (100 submissions in 2021), but has seen growth in 2023 (123 submissions) and especially in 2024 (149). Applications is hence three times as large as the smaller areas Data Transformations and Systems & Rendering, indicating an uneven load for the area paper chairs. \n",
    "\n",
    "Priority: Intellectual Homogeneity\n",
    "Priority: Balanced Area Size (workload)\n",
    "\n",
    "* Divide Applications Areas along subject lines\n",
    "* Add an administrative division of Application Areas at random \n",
    "\n",
    "* Add additional Area Paper Chairs \n",
    "\n",
    "The other larger areas, Theoretical & Empirical has seen a slight dip in 2024; while Representations & Interaction has seen a rise from 86 submissions to 108 papers. However, these numbers remain in the desired range of submissions handled by a team of APCs. \n"
   ]
  },
  {
   "cell_type": "markdown",
   "id": "0b1a47dc",
   "metadata": {
    "pycharm": {
     "name": "#%% md\n"
    }
   },
   "source": [
    "#### Acceptance Rates in Areas\n"
   ]
  },
  {
   "cell_type": "code",
   "execution_count": 6,
   "id": "746623f2",
   "metadata": {
    "pycharm": {
     "name": "#%%\n"
    }
   },
   "outputs": [
    {
     "data": {
      "application/vnd.plotly.v1+json": {
       "config": {
        "displayModeBar": false,
        "plotlyServerURL": "https://plot.ly",
        "responsive": false,
        "scrollZoom": false
       },
       "data": [
        {
         "alignmentgroup": "True",
         "customdata": [
          [
           "Reject"
          ],
          [
           "Reject"
          ],
          [
           "Reject"
          ],
          [
           "Reject"
          ]
         ],
         "hovertemplate": "%{y}% of submissions in %{x} have decision %{customdata[0]}<extra></extra>",
         "legendgroup": "Reject",
         "marker": {
          "color": "#4C78A8",
          "pattern": {
           "shape": ""
          }
         },
         "name": "Reject",
         "offsetgroup": "Reject",
         "orientation": "v",
         "showlegend": true,
         "text": [
          78.6,
          73.2,
          75.7,
          76
         ],
         "textposition": "auto",
         "type": "bar",
         "x": [
          2024,
          2023,
          2022,
          2021
         ],
         "xaxis": "x",
         "y": [
          78.6,
          73.2,
          75.7,
          76
         ],
         "yaxis": "y"
        },
        {
         "alignmentgroup": "True",
         "customdata": [
          [
           "Reject"
          ],
          [
           "Reject"
          ],
          [
           "Reject"
          ],
          [
           "Reject"
          ]
         ],
         "hovertemplate": "%{y}% of submissions in %{x} have decision %{customdata[0]}<extra></extra>",
         "legendgroup": "Reject",
         "marker": {
          "color": "#4C78A8",
          "pattern": {
           "shape": ""
          }
         },
         "name": "Reject",
         "offsetgroup": "Reject",
         "orientation": "v",
         "showlegend": false,
         "text": [
          73.2,
          72.3,
          68.4,
          71.8
         ],
         "textposition": "auto",
         "type": "bar",
         "x": [
          2023,
          2024,
          2022,
          2021
         ],
         "xaxis": "x2",
         "y": [
          73.2,
          72.3,
          68.4,
          71.8
         ],
         "yaxis": "y2"
        },
        {
         "alignmentgroup": "True",
         "customdata": [
          [
           "Reject"
          ],
          [
           "Reject"
          ],
          [
           "Reject"
          ],
          [
           "Reject"
          ]
         ],
         "hovertemplate": "%{y}% of submissions in %{x} have decision %{customdata[0]}<extra></extra>",
         "legendgroup": "Reject",
         "marker": {
          "color": "#4C78A8",
          "pattern": {
           "shape": ""
          }
         },
         "name": "Reject",
         "offsetgroup": "Reject",
         "orientation": "v",
         "showlegend": false,
         "text": [
          75.5,
          77.9,
          75.9,
          78.7
         ],
         "textposition": "auto",
         "type": "bar",
         "x": [
          2024,
          2023,
          2021,
          2022
         ],
         "xaxis": "x3",
         "y": [
          75.5,
          77.9,
          75.9,
          78.7
         ],
         "yaxis": "y3"
        },
        {
         "alignmentgroup": "True",
         "customdata": [
          [
           "Reject"
          ],
          [
           "Reject"
          ],
          [
           "Reject"
          ],
          [
           "Reject"
          ]
         ],
         "hovertemplate": "%{y}% of submissions in %{x} have decision %{customdata[0]}<extra></extra>",
         "legendgroup": "Reject",
         "marker": {
          "color": "#4C78A8",
          "pattern": {
           "shape": ""
          }
         },
         "name": "Reject",
         "offsetgroup": "Reject",
         "orientation": "v",
         "showlegend": false,
         "text": [
          77.7,
          80.5,
          83.1,
          76.9
         ],
         "textposition": "auto",
         "type": "bar",
         "x": [
          2022,
          2023,
          2024,
          2021
         ],
         "xaxis": "x4",
         "y": [
          77.7,
          80.5,
          83.1,
          76.9
         ],
         "yaxis": "y4"
        },
        {
         "alignmentgroup": "True",
         "customdata": [
          [
           "Reject"
          ],
          [
           "Reject"
          ],
          [
           "Reject"
          ],
          [
           "Reject"
          ]
         ],
         "hovertemplate": "%{y}% of submissions in %{x} have decision %{customdata[0]}<extra></extra>",
         "legendgroup": "Reject",
         "marker": {
          "color": "#4C78A8",
          "pattern": {
           "shape": ""
          }
         },
         "name": "Reject",
         "offsetgroup": "Reject",
         "orientation": "v",
         "showlegend": false,
         "text": [
          72.1,
          74.1,
          71.7,
          68.1
         ],
         "textposition": "auto",
         "type": "bar",
         "x": [
          2023,
          2021,
          2024,
          2022
         ],
         "xaxis": "x5",
         "y": [
          72.1,
          74.1,
          71.7,
          68.1
         ],
         "yaxis": "y5"
        },
        {
         "alignmentgroup": "True",
         "customdata": [
          [
           "Reject"
          ],
          [
           "Reject"
          ],
          [
           "Reject"
          ],
          [
           "Reject"
          ]
         ],
         "hovertemplate": "%{y}% of submissions in %{x} have decision %{customdata[0]}<extra></extra>",
         "legendgroup": "Reject",
         "marker": {
          "color": "#4C78A8",
          "pattern": {
           "shape": ""
          }
         },
         "name": "Reject",
         "offsetgroup": "Reject",
         "orientation": "v",
         "showlegend": false,
         "text": [
          84.3,
          66.7,
          76.1,
          72.1
         ],
         "textposition": "auto",
         "type": "bar",
         "x": [
          2024,
          2023,
          2021,
          2022
         ],
         "xaxis": "x6",
         "y": [
          84.3,
          66.7,
          76.1,
          72.1
         ],
         "yaxis": "y6"
        },
        {
         "alignmentgroup": "True",
         "customdata": [
          [
           "Accept"
          ],
          [
           "Accept"
          ],
          [
           "Accept"
          ],
          [
           "Accept"
          ]
         ],
         "hovertemplate": "%{y}% of submissions in %{x} have decision %{customdata[0]}<extra></extra>",
         "legendgroup": "Accept",
         "marker": {
          "color": "#F58518",
          "pattern": {
           "shape": ""
          }
         },
         "name": "Accept",
         "offsetgroup": "Accept",
         "orientation": "v",
         "showlegend": true,
         "text": [
          21.4,
          26.8,
          24.3,
          24
         ],
         "textposition": "auto",
         "type": "bar",
         "x": [
          2024,
          2023,
          2022,
          2021
         ],
         "xaxis": "x",
         "y": [
          21.4,
          26.8,
          24.3,
          24
         ],
         "yaxis": "y"
        },
        {
         "alignmentgroup": "True",
         "customdata": [
          [
           "Accept"
          ],
          [
           "Accept"
          ],
          [
           "Accept"
          ],
          [
           "Accept"
          ]
         ],
         "hovertemplate": "%{y}% of submissions in %{x} have decision %{customdata[0]}<extra></extra>",
         "legendgroup": "Accept",
         "marker": {
          "color": "#F58518",
          "pattern": {
           "shape": ""
          }
         },
         "name": "Accept",
         "offsetgroup": "Accept",
         "orientation": "v",
         "showlegend": false,
         "text": [
          26.8,
          31.6,
          27.7,
          28.2
         ],
         "textposition": "auto",
         "type": "bar",
         "x": [
          2023,
          2022,
          2024,
          2021
         ],
         "xaxis": "x2",
         "y": [
          26.8,
          31.6,
          27.7,
          28.2
         ],
         "yaxis": "y2"
        },
        {
         "alignmentgroup": "True",
         "customdata": [
          [
           "Accept"
          ],
          [
           "Accept"
          ],
          [
           "Accept"
          ],
          [
           "Accept"
          ]
         ],
         "hovertemplate": "%{y}% of submissions in %{x} have decision %{customdata[0]}<extra></extra>",
         "legendgroup": "Accept",
         "marker": {
          "color": "#F58518",
          "pattern": {
           "shape": ""
          }
         },
         "name": "Accept",
         "offsetgroup": "Accept",
         "orientation": "v",
         "showlegend": false,
         "text": [
          21.8,
          24.1,
          22.1,
          21.3
         ],
         "textposition": "auto",
         "type": "bar",
         "x": [
          2024,
          2021,
          2023,
          2022
         ],
         "xaxis": "x3",
         "y": [
          21.8,
          24.1,
          22.1,
          21.3
         ],
         "yaxis": "y3"
        },
        {
         "alignmentgroup": "True",
         "customdata": [
          [
           "Accept"
          ],
          [
           "Accept"
          ],
          [
           "Accept"
          ],
          [
           "Accept"
          ]
         ],
         "hovertemplate": "%{y}% of submissions in %{x} have decision %{customdata[0]}<extra></extra>",
         "legendgroup": "Accept",
         "marker": {
          "color": "#F58518",
          "pattern": {
           "shape": ""
          }
         },
         "name": "Accept",
         "offsetgroup": "Accept",
         "orientation": "v",
         "showlegend": false,
         "text": [
          22.3,
          23.1,
          19.5,
          16.9
         ],
         "textposition": "auto",
         "type": "bar",
         "x": [
          2022,
          2021,
          2023,
          2024
         ],
         "xaxis": "x4",
         "y": [
          22.3,
          23.1,
          19.5,
          16.9
         ],
         "yaxis": "y4"
        },
        {
         "alignmentgroup": "True",
         "customdata": [
          [
           "Accept"
          ],
          [
           "Accept"
          ],
          [
           "Accept"
          ],
          [
           "Accept"
          ]
         ],
         "hovertemplate": "%{y}% of submissions in %{x} have decision %{customdata[0]}<extra></extra>",
         "legendgroup": "Accept",
         "marker": {
          "color": "#F58518",
          "pattern": {
           "shape": ""
          }
         },
         "name": "Accept",
         "offsetgroup": "Accept",
         "orientation": "v",
         "showlegend": false,
         "text": [
          27.9,
          28.3,
          31.9,
          25.9
         ],
         "textposition": "auto",
         "type": "bar",
         "x": [
          2023,
          2024,
          2022,
          2021
         ],
         "xaxis": "x5",
         "y": [
          27.9,
          28.3,
          31.9,
          25.9
         ],
         "yaxis": "y5"
        },
        {
         "alignmentgroup": "True",
         "customdata": [
          [
           "Accept"
          ],
          [
           "Accept"
          ],
          [
           "Accept"
          ],
          [
           "Accept"
          ]
         ],
         "hovertemplate": "%{y}% of submissions in %{x} have decision %{customdata[0]}<extra></extra>",
         "legendgroup": "Accept",
         "marker": {
          "color": "#F58518",
          "pattern": {
           "shape": ""
          }
         },
         "name": "Accept",
         "offsetgroup": "Accept",
         "orientation": "v",
         "showlegend": false,
         "text": [
          33.3,
          27.9,
          23.9,
          15.7
         ],
         "textposition": "auto",
         "type": "bar",
         "x": [
          2023,
          2022,
          2021,
          2024
         ],
         "xaxis": "x6",
         "y": [
          33.3,
          27.9,
          23.9,
          15.7
         ],
         "yaxis": "y6"
        },
        {
         "alignmentgroup": "True",
         "customdata": [
          [
           "R2-S"
          ]
         ],
         "hovertemplate": "%{y}% of submissions in %{x} have decision %{customdata[0]}<extra></extra>",
         "legendgroup": "R2-S",
         "marker": {
          "color": "#E45756",
          "pattern": {
           "shape": ""
          }
         },
         "name": "R2-S",
         "offsetgroup": "R2-S",
         "orientation": "v",
         "showlegend": true,
         "text": [
          2.7
         ],
         "textposition": "auto",
         "type": "bar",
         "x": [
          2024
         ],
         "xaxis": "x3",
         "y": [
          2.7
         ],
         "yaxis": "y3"
        }
       ],
       "layout": {
        "annotations": [
         {
          "showarrow": false,
          "text": "Applications",
          "x": 0.05833333333333333,
          "xanchor": "center",
          "xref": "paper",
          "y": 1,
          "yanchor": "bottom",
          "yref": "paper"
         },
         {
          "showarrow": false,
          "text": "Theoretical & Empirical",
          "x": 0.23499999999999996,
          "xanchor": "center",
          "xref": "paper",
          "y": 1,
          "yanchor": "bottom",
          "yref": "paper",
          "yshift": -15
         },
         {
          "showarrow": false,
          "text": "Representations & Interaction",
          "x": 0.4116666666666666,
          "xanchor": "center",
          "xref": "paper",
          "y": 1,
          "yanchor": "bottom",
          "yref": "paper"
         },
         {
          "showarrow": false,
          "text": "Analytics & Decisions",
          "x": 0.5883333333333334,
          "xanchor": "center",
          "xref": "paper",
          "y": 1,
          "yanchor": "bottom",
          "yref": "paper",
          "yshift": -15
         },
         {
          "showarrow": false,
          "text": "Data Transformations",
          "x": 0.7649999999999999,
          "xanchor": "center",
          "xref": "paper",
          "y": 1,
          "yanchor": "bottom",
          "yref": "paper"
         },
         {
          "showarrow": false,
          "text": "Systems & Rendering",
          "x": 0.9416666666666667,
          "xanchor": "center",
          "xref": "paper",
          "y": 1,
          "yanchor": "bottom",
          "yref": "paper",
          "yshift": -15
         },
         {
          "font": {
           "color": "Black",
           "size": 12
          },
          "showarrow": false,
          "text": "75% Threshold",
          "x": 1,
          "xanchor": "left",
          "xref": "paper",
          "y": 75,
          "yanchor": "middle",
          "yref": "y"
         }
        ],
        "barmode": "stack",
        "height": 600,
        "legend": {
         "title": {
          "text": "FinalDecision"
         },
         "tracegroupgap": 0,
         "x": 1.08,
         "xanchor": "left",
         "y": 1,
         "yanchor": "top"
        },
        "margin": {
         "t": 60
        },
        "shapes": [
         {
          "line": {
           "color": "Darkgray",
           "width": 2
          },
          "type": "line",
          "x0": 0,
          "x1": 1,
          "xref": "paper",
          "y0": 75,
          "y1": 75,
          "yref": "y"
         }
        ],
        "template": {
         "data": {
          "bar": [
           {
            "insidetextanchor": "middle",
            "textfont": {
             "size": 12
            },
            "textposition": "inside",
            "type": "bar"
           }
          ]
         },
         "layout": {
          "colorway": [
           "#4C78A8",
           "#F58518",
           "#E45756",
           "#72B7B2",
           "#54A24B",
           "#EECA3B",
           "#B279A2",
           "#FF9DA6",
           "#9D755D",
           "#BAB0AC"
          ],
          "font": {
           "color": "black",
           "family": "Fira Sans",
           "size": 13
          },
          "hoverlabel": {
           "bgcolor": "white",
           "bordercolor": "lightgray",
           "font": {
            "color": "black",
            "family": "Fira Sans"
           }
          },
          "hovermode": "closest",
          "legend": {
           "title": {
            "font": {
             "family": "Fira Sans Medium"
            }
           }
          },
          "margin": {
           "pad": 10
          },
          "paper_bgcolor": "rgba(255,255,255,0)",
          "plot_bgcolor": "rgba(255,255,255,0)",
          "title": {
           "font": {
            "size": 14
           }
          },
          "xaxis": {
           "automargin": true,
           "fixedrange": true,
           "gridcolor": "lightgray",
           "gridwidth": 1,
           "title": {
            "font": {
             "family": "Fira Sans Medium",
             "size": 13
            },
            "standoff": 10
           }
          },
          "yaxis": {
           "automargin": true,
           "fixedrange": true,
           "gridcolor": "lightgray",
           "gridwidth": 1,
           "title": {
            "font": {
             "family": "Fira Sans Medium",
             "size": 13
            },
            "standoff": 10
           }
          }
         }
        },
        "title": {
         "text": "Submissions by area and year"
        },
        "width": 750,
        "xaxis": {
         "anchor": "y",
         "categoryarray": [
          2021,
          2022,
          2023,
          2024
         ],
         "categoryorder": "array",
         "domain": [
          0,
          0.11666666666666665
         ],
         "title": {
          "text": "year"
         },
         "type": "category"
        },
        "xaxis2": {
         "anchor": "y2",
         "categoryarray": [
          2021,
          2022,
          2023,
          2024
         ],
         "categoryorder": "array",
         "domain": [
          0.17666666666666664,
          0.2933333333333333
         ],
         "matches": "x",
         "title": {
          "text": "year"
         },
         "type": "category"
        },
        "xaxis3": {
         "anchor": "y3",
         "categoryarray": [
          2021,
          2022,
          2023,
          2024
         ],
         "categoryorder": "array",
         "domain": [
          0.3533333333333333,
          0.4699999999999999
         ],
         "matches": "x",
         "title": {
          "text": "year"
         },
         "type": "category"
        },
        "xaxis4": {
         "anchor": "y4",
         "categoryarray": [
          2021,
          2022,
          2023,
          2024
         ],
         "categoryorder": "array",
         "domain": [
          0.53,
          0.6466666666666667
         ],
         "matches": "x",
         "title": {
          "text": "year"
         },
         "type": "category"
        },
        "xaxis5": {
         "anchor": "y5",
         "categoryarray": [
          2021,
          2022,
          2023,
          2024
         ],
         "categoryorder": "array",
         "domain": [
          0.7066666666666666,
          0.8233333333333333
         ],
         "matches": "x",
         "title": {
          "text": "year"
         },
         "type": "category"
        },
        "xaxis6": {
         "anchor": "y6",
         "categoryarray": [
          2021,
          2022,
          2023,
          2024
         ],
         "categoryorder": "array",
         "domain": [
          0.8833333333333333,
          1
         ],
         "matches": "x",
         "title": {
          "text": "year"
         },
         "type": "category"
        },
        "yaxis": {
         "anchor": "x",
         "domain": [
          0,
          1
         ],
         "title": {
          "text": "percentage"
         }
        },
        "yaxis2": {
         "anchor": "x2",
         "domain": [
          0,
          1
         ],
         "matches": "y",
         "showticklabels": false
        },
        "yaxis3": {
         "anchor": "x3",
         "domain": [
          0,
          1
         ],
         "matches": "y",
         "showticklabels": false
        },
        "yaxis4": {
         "anchor": "x4",
         "domain": [
          0,
          1
         ],
         "matches": "y",
         "showticklabels": false
        },
        "yaxis5": {
         "anchor": "x5",
         "domain": [
          0,
          1
         ],
         "matches": "y",
         "showticklabels": false
        },
        "yaxis6": {
         "anchor": "x6",
         "domain": [
          0,
          1
         ],
         "matches": "y",
         "showticklabels": false
        }
       }
      }
     },
     "metadata": {},
     "output_type": "display_data"
    }
   ],
   "source": [
    "recent_submissions = submissions[submissions['year'] != 2020]\n",
    "tmptotal = (recent_submissions\n",
    "    .value_counts(['Area', 'year'])\n",
    "    .reset_index()\n",
    "    .rename(columns = {'count': 'total'})\n",
    ")\n",
    "tmp = (recent_submissions\n",
    "    .value_counts(['Area', 'FinalDecision', 'year'])\n",
    "    .reset_index()\n",
    "    # .rename(columns = {0: 'count'})\n",
    ")\n",
    "tmpfinal = pd.merge(left=tmp, right=tmptotal, on=['Area','year'])\n",
    "tmpfinal['percentage']= round(tmpfinal['count']/tmpfinal['total'] *1000)/10.0\n",
    "fig = px.bar(tmpfinal,\n",
    "    x = 'year',\n",
    "    y = 'percentage',\n",
    "    barmode = 'stack',\n",
    "    orientation = 'v',\n",
    "    color = 'FinalDecision',\n",
    "    text = 'percentage',\n",
    "    custom_data = ['FinalDecision'],\n",
    "    facet_col='Area',\n",
    "    category_orders = {\"year\": [2021,2022, 2023, 2024]},\n",
    "    facet_col_spacing=0.06, # default is 0.03\n",
    "    ).update_layout(\n",
    "        title = 'Submissions by area and year',\n",
    "        xaxis_title = 'year',\n",
    "        legend=dict(\n",
    "            yanchor=\"top\",\n",
    "            y=1,  # Adjust legends y-position\n",
    "            xanchor=\"left\",\n",
    "            x=1.08,  # ... and x-position to avoid overlapping\n",
    "        ),\n",
    "        **aspect(0.8)\n",
    "    ).update_xaxes(type='category').update_traces(\n",
    "        hovertemplate = '%{y}% of submissions in %{x} have decision %{customdata[0]}<extra></extra>',\n",
    "    )\n",
    "fig.for_each_annotation(lambda a: a.update(text=a.text.split(\"=\")[-1]))\n",
    "for i,a in enumerate(fig.layout.annotations):\n",
    "    if (i%2):\n",
    "        a.update(yshift=-15)\n",
    "\n",
    "# Add horizontal line at 75% for each subplot\n",
    "fig.add_shape(\n",
    "    type=\"line\",\n",
    "    x0=0, x1=1,  # from the left to the right of the plot\n",
    "    y0=75, y1=75,  # at y = 75% on the y-axis\n",
    "    xref='paper',  # relative to the entire plot width\n",
    "    yref='y',  # relative to the y-axis\n",
    "    line=dict(color=\"Darkgray\", width=2),\n",
    ")\n",
    "# Add a label next to the line at 75%\n",
    "fig.add_annotation(\n",
    "    x=1,  # Position near the end of the plot (right side)\n",
    "    y=75,  # Position at 75% on the y-axis\n",
    "    xref='paper',  # Relative to the entire plot width\n",
    "    yref='y',  # Relative to the y-axis\n",
    "    text=\"75% Threshold\",  # The label text\n",
    "    showarrow=False,  # No arrow, just text\n",
    "    font=dict(size=12, color=\"Black\"),  # Customize the font size and color\n",
    "    xanchor='left',  # Anchor the text to the left side of the x-position\n",
    "    yanchor='middle'  # Center the text vertically on the y-position\n",
    ")\n",
    "fig.show(config=config)"
   ]
  },
  {
   "cell_type": "markdown",
   "id": "df19aa5f",
   "metadata": {},
   "source": [
    "Acceptance rates have been fairly consistent across areas in 2021, but not so in 2022, 2023, and 2024. \n",
    "\n",
    "Generally, Theoretical & Empirical seems to have higher acceptance rates than other areas. **Analytics & Decisions** seems to become substantially more selective every year, accepting only 16.9% of all submissions in 2024. Systems & Rendering fluctuates over time, with 33.3% accepted in 2023 but only 16.7% in 2024. It is notable that Systems & Rendering is one of the smallest areas, hence, these fluctiations are caused by a relatively small number of papers. "
   ]
  },
  {
   "cell_type": "markdown",
   "id": "42e8aab2",
   "metadata": {
    "pycharm": {
     "name": "#%% md\n"
    }
   },
   "source": [
    "#### Keywords \n",
    "\n",
    "And frequencies of the use of keywords range from 5 to 120. The keywords with the highest number of occurrences are not very useful for categorizing papers, but they are very meaningful, and differentiation works effectively with accompanying keywords.  We believe that having five papers that use a keyword is sufficient to warrant retaining it. \n"
   ]
  },
  {
   "cell_type": "code",
   "execution_count": 7,
   "id": "e000b436",
   "metadata": {},
   "outputs": [
    {
     "data": {
      "application/vnd.plotly.v1+json": {
       "config": {
        "displayModeBar": false,
        "plotlyServerURL": "https://plot.ly",
        "responsive": false,
        "scrollZoom": false
       },
       "data": [
        {
         "hovertemplate": "'%{x}' specified in %{y} submissions<extra></extra>",
         "legendgroup": "2024",
         "marker": {
          "color": "#4C78A8",
          "symbol": "circle"
         },
         "mode": "markers",
         "name": "2024",
         "orientation": "h",
         "showlegend": true,
         "type": "scatter",
         "x": [
          4.8834628190899005,
          4.587495375508694,
          3.7365889752127264,
          3.625601183869774,
          3.514613392526822,
          3.1816500184979652,
          3.070662227155013,
          2.9226785053644098,
          2.3677395486496486,
          2.2197558268590454,
          2.182759896411395,
          2.108768035516093,
          2.071772105068442,
          2.0347761746207915,
          2.0347761746207915,
          2.0347761746207915,
          2.0347761746207915,
          1.8867924528301887,
          1.8867924528301887,
          1.812800591934887,
          1.7758046614872365,
          1.7758046614872365,
          1.7758046614872365,
          1.7388087310395854,
          1.6648168701442843,
          1.6648168701442843,
          1.6278209396966332,
          1.5908250092489826,
          1.553829078801332,
          1.553829078801332,
          1.553829078801332,
          1.5168331483536812,
          1.4798372179060304,
          1.368849426563078,
          1.3318534961154271,
          1.2948575656677765,
          1.257861635220126,
          1.1838697743248243,
          1.035886052534221,
          0.9988901220865706,
          0.9618941916389198,
          0.9618941916389198,
          0.8509064002959674,
          0.8509064002959674,
          0.8139104698483166,
          0.776914539400666,
          0.7399186089530152,
          0.7029226785053644,
          0.6659267480577136,
          0.628930817610063,
          0.628930817610063,
          0.5919348871624122,
          0.5919348871624122,
          0.5919348871624122,
          0.5919348871624122,
          0.5179430262671105,
          0.5179430262671105,
          0.5179430262671105,
          0.5179430262671105,
          0.4439511653718091,
          0.4069552349241583,
          0.3699593044765076,
          0.3329633740288568,
          0.3329633740288568,
          0.3329633740288568,
          0.3329633740288568,
          0.22197558268590456,
          0.14798372179060304,
          0.07399186089530152,
          0.03699593044765076
         ],
         "xaxis": "x",
         "y": [
          "Application",
          "AnalyzeDecide",
          "ML",
          "HumanQual",
          "VisDesign",
          "MLStatsModel",
          "HumanQuant",
          "Algorithm",
          "Time",
          "Features",
          "Perception",
          "SocHum",
          "LifeBio",
          "Network",
          "Storytelling",
          "Charts",
          "HD",
          "Text",
          "Methodology",
          "Theory",
          "Displays",
          "Software",
          "ImageVideo",
          "MultiView",
          "GenPublic",
          "Workflow",
          "NAApp",
          "MixedInit",
          "Comparison",
          "Scalar",
          "Geospatial",
          "Guidelines",
          "Tabular",
          "Interaction",
          "CompBenchmark",
          "DimRed",
          "Domain_Task",
          "BigData",
          "ScienceEngr",
          "CompSystems",
          "ClusterAgg",
          "Uncertainty",
          "Systems",
          "DataAbstr",
          "CompTop",
          "Datasets",
          "NAData",
          "DataMgmt",
          "OtherApp",
          "Maps",
          "Models",
          "Color",
          "Graphics",
          "Flow",
          "Collab",
          "ImageProcessing",
          "Vector_Tensor",
          "Art",
          "OtherData",
          "Motion",
          "Volumes",
          "Deployment",
          "Isosurfaces",
          "PersonalVis",
          "Math",
          "MultiRes",
          "STAR",
          "OtherTopic",
          "Hardware",
          "OtherContrib"
         ],
         "yaxis": "y"
        },
        {
         "hovertemplate": "'%{x}' specified in %{y} submissions<extra></extra>",
         "legendgroup": "2023",
         "marker": {
          "color": "#F58518",
          "symbol": "circle"
         },
         "mode": "markers",
         "name": "2023",
         "orientation": "h",
         "showlegend": true,
         "type": "scatter",
         "x": [
          5.2493438320209975,
          4.611923509561304,
          3.374578177727784,
          3.149606299212598,
          3.0371203599550056,
          2.924634420697413,
          2.924634420697413,
          2.699662542182227,
          2.3997000374953132,
          2.3997000374953132,
          2.324709411323585,
          2.1747281589801273,
          2.099737532808399,
          1.9122609673790776,
          1.8747656542932134,
          1.837270341207349,
          1.837270341207349,
          1.837270341207349,
          1.799775028121485,
          1.799775028121485,
          1.687289088863892,
          1.687289088863892,
          1.687289088863892,
          1.6497937757780277,
          1.6497937757780277,
          1.6122984626921637,
          1.574803149606299,
          1.4998125234345707,
          1.4998125234345707,
          1.4623172103487065,
          1.4248218972628421,
          1.4248218972628421,
          1.3873265841769777,
          1.3498312710911136,
          1.3123359580052494,
          1.3123359580052494,
          1.2373453318335208,
          1.2373453318335208,
          1.1998500187476566,
          1.1623547056617924,
          1.1623547056617924,
          1.0873640794900636,
          1.0123734533183353,
          0.974878140232471,
          0.8998875140607425,
          0.8998875140607425,
          0.8623922009748781,
          0.8623922009748781,
          0.7874015748031495,
          0.7499062617172854,
          0.7499062617172854,
          0.7124109486314211,
          0.6749156355455568,
          0.6749156355455568,
          0.6749156355455568,
          0.6374203224596925,
          0.5999250093738283,
          0.5999250093738283,
          0.5999250093738283,
          0.44994375703037126,
          0.4124484439445069,
          0.4124484439445069,
          0.3374578177727784,
          0.29996250468691416,
          0.29996250468691416,
          0.29996250468691416,
          0.29996250468691416,
          0.26246719160104987,
          0.22497187851518563,
          0.14998125234345708
         ],
         "xaxis": "x",
         "y": [
          "Application",
          "AnalyzeDecide",
          "Algorithm",
          "HumanQuant",
          "ML",
          "HumanQual",
          "VisDesign",
          "Time",
          "SocHum",
          "MLStatsModel",
          "Charts",
          "Network",
          "Features",
          "HD",
          "Storytelling",
          "Scalar",
          "Perception",
          "MultiView",
          "Displays",
          "Methodology",
          "Theory",
          "Geospatial",
          "Comparison",
          "Guidelines",
          "Interaction",
          "Software",
          "Tabular",
          "GenPublic",
          "NAApp",
          "ImageVideo",
          "LifeBio",
          "Workflow",
          "DataAbstr",
          "MixedInit",
          "BigData",
          "Text",
          "DimRed",
          "ScienceEngr",
          "Models",
          "ClusterAgg",
          "Domain_Task",
          "CompBenchmark",
          "NAData",
          "OtherApp",
          "CompTop",
          "Uncertainty",
          "Systems",
          "DataMgmt",
          "MultiRes",
          "Vector_Tensor",
          "CompSystems",
          "Graphics",
          "Maps",
          "Flow",
          "Volumes",
          "Collab",
          "Color",
          "Datasets",
          "Motion",
          "Math",
          "ImageProcessing",
          "OtherTopic",
          "Deployment",
          "STAR",
          "OtherData",
          "Isosurfaces",
          "OtherContrib",
          "PersonalVis",
          "Art",
          "Hardware"
         ],
         "yaxis": "y"
        },
        {
         "hovertemplate": "'%{x}' specified in %{y} submissions<extra></extra>",
         "legendgroup": "2022",
         "marker": {
          "color": "#E45756",
          "symbol": "circle"
         },
         "mode": "markers",
         "name": "2022",
         "orientation": "h",
         "showlegend": true,
         "type": "scatter",
         "x": [
          5.4469273743016755,
          4.981378026070764,
          3.7709497206703912,
          3.4916201117318435,
          3.165735567970205,
          3.026070763500931,
          3.026070763500931,
          2.9329608938547485,
          2.793296089385475,
          2.5139664804469275,
          2.3277467411545625,
          2.281191806331471,
          2.2346368715083798,
          2.1415270018621975,
          2.0484171322160147,
          2.001862197392924,
          1.86219739292365,
          1.86219739292365,
          1.8156424581005588,
          1.8156424581005588,
          1.7690875232774672,
          1.7690875232774672,
          1.7690875232774672,
          1.5828677839851024,
          1.536312849162011,
          1.536312849162011,
          1.536312849162011,
          1.3966480446927374,
          1.350093109869646,
          1.303538175046555,
          1.303538175046555,
          1.2104283054003724,
          1.1638733705772812,
          1.1638733705772812,
          1.1173184357541899,
          1.0707635009310987,
          1.0242085661080074,
          1.0242085661080074,
          0.9776536312849162,
          0.931098696461825,
          0.931098696461825,
          0.931098696461825,
          0.8845437616387336,
          0.8845437616387336,
          0.8379888268156425,
          0.7914338919925512,
          0.7914338919925512,
          0.7914338919925512,
          0.7914338919925512,
          0.7914338919925512,
          0.74487895716946,
          0.74487895716946,
          0.74487895716946,
          0.74487895716946,
          0.6052141527001862,
          0.6052141527001862,
          0.5121042830540037,
          0.5121042830540037,
          0.5121042830540037,
          0.5121042830540037,
          0.4655493482309125,
          0.4655493482309125,
          0.41899441340782123,
          0.37243947858473,
          0.3258845437616387,
          0.3258845437616387,
          0.3258845437616387,
          0.3258845437616387,
          0.13966480446927373,
          0.0931098696461825
         ],
         "xaxis": "x",
         "y": [
          "Application",
          "AnalyzeDecide",
          "ML",
          "Algorithm",
          "VisDesign",
          "HumanQuant",
          "Time",
          "HumanQual",
          "MLStatsModel",
          "Charts",
          "Storytelling",
          "GenPublic",
          "SocHum",
          "Network",
          "MultiView",
          "Perception",
          "MixedInit",
          "Features",
          "Theory",
          "HD",
          "Software",
          "LifeBio",
          "Workflow",
          "Scalar",
          "Tabular",
          "ImageVideo",
          "Guidelines",
          "ScienceEngr",
          "Methodology",
          "Interaction",
          "Geospatial",
          "BigData",
          "NAApp",
          "Models",
          "DataAbstr",
          "NAData",
          "Systems",
          "DimRed",
          "Text",
          "CompTop",
          "Comparison",
          "Uncertainty",
          "Displays",
          "CompSystems",
          "ClusterAgg",
          "Collab",
          "CompBenchmark",
          "Art",
          "Vector_Tensor",
          "Graphics",
          "Domain_Task",
          "DataMgmt",
          "Flow",
          "OtherApp",
          "Maps",
          "PersonalVis",
          "Math",
          "OtherData",
          "Volumes",
          "MultiRes",
          "Motion",
          "OtherTopic",
          "ImageProcessing",
          "Datasets",
          "Color",
          "Isosurfaces",
          "STAR",
          "OtherContrib",
          "Deployment",
          "Hardware"
         ],
         "yaxis": "y"
        },
        {
         "hovertemplate": "'%{x}' specified in %{y} submissions<extra></extra>",
         "legendgroup": "2021",
         "marker": {
          "color": "#72B7B2",
          "symbol": "circle"
         },
         "mode": "markers",
         "name": "2021",
         "orientation": "h",
         "showlegend": true,
         "type": "scatter",
         "x": [
          5.186915887850467,
          4.205607476635514,
          3.411214953271028,
          3.2242990654205608,
          3.08411214953271,
          3.0373831775700935,
          2.9439252336448596,
          2.663551401869159,
          2.6168224299065423,
          2.383177570093458,
          2.196261682242991,
          2.196261682242991,
          2.0560747663551404,
          2.0093457943925235,
          2.0093457943925235,
          2.0093457943925235,
          1.9158878504672898,
          1.9158878504672898,
          1.8691588785046727,
          1.7757009345794394,
          1.7757009345794394,
          1.7757009345794394,
          1.7289719626168223,
          1.7289719626168223,
          1.6822429906542056,
          1.6822429906542056,
          1.6355140186915886,
          1.6355140186915886,
          1.588785046728972,
          1.4953271028037385,
          1.4485981308411215,
          1.4485981308411215,
          1.355140186915888,
          1.355140186915888,
          1.3084112149532712,
          1.2616822429906542,
          1.2149532710280373,
          1.1214953271028036,
          1.1214953271028036,
          1.1214953271028036,
          1.074766355140187,
          0.9813084112149533,
          0.9345794392523363,
          0.9345794392523363,
          0.8878504672897197,
          0.8411214953271028,
          0.8411214953271028,
          0.794392523364486,
          0.794392523364486,
          0.7476635514018692,
          0.7476635514018692,
          0.7009345794392523,
          0.6074766355140186,
          0.6074766355140186,
          0.5607476635514018,
          0.5607476635514018,
          0.5607476635514018,
          0.5607476635514018,
          0.5607476635514018,
          0.5140186915887851,
          0.5140186915887851,
          0.4205607476635514,
          0.3738317757009346,
          0.3738317757009346,
          0.3271028037383178,
          0.3271028037383178,
          0.23364485981308408,
          0.23364485981308408,
          0.1869158878504673
         ],
         "xaxis": "x",
         "y": [
          "Application",
          "AnalyzeDecide",
          "ML",
          "VisDesign",
          "Algorithm",
          "MLStatsModel",
          "HumanQuant",
          "Time",
          "HumanQual",
          "MultiView",
          "SocHum",
          "Charts",
          "NAApp",
          "Network",
          "Theory",
          "Storytelling",
          "HD",
          "ClusterAgg",
          "ImageVideo",
          "Interaction",
          "GenPublic",
          "Workflow",
          "Tabular",
          "Features",
          "Methodology",
          "Perception",
          "Software",
          "DimRed",
          "LifeBio",
          "Comparison",
          "Geospatial",
          "Scalar",
          "BigData",
          "Text",
          "ScienceEngr",
          "Displays",
          "MixedInit",
          "OtherApp",
          "Models",
          "DataAbstr",
          "NAData",
          "MultiRes",
          "OtherData",
          "CompSystems",
          "Systems",
          "Guidelines",
          "Art",
          "Color",
          "Uncertainty",
          "Motion",
          "Domain_Task",
          "DataMgmt",
          "Flow",
          "OtherTopic",
          "Vector_Tensor",
          "CompTop",
          "Graphics",
          "Datasets",
          "CompBenchmark",
          "Maps",
          "PersonalVis",
          "ImageProcessing",
          "STAR",
          "Collab",
          "Math",
          "Volumes",
          "OtherContrib",
          "Deployment",
          "Hardware"
         ],
         "yaxis": "y"
        },
        {
         "hovertemplate": "'%{x}' specified in %{y} submissions<extra></extra>",
         "legendgroup": "2020",
         "marker": {
          "color": "#54A24B",
          "symbol": "circle"
         },
         "mode": "markers",
         "name": "2020",
         "orientation": "h",
         "showlegend": true,
         "type": "scatter",
         "x": [
          5.821138211382114,
          4.32520325203252,
          4.2926829268292686,
          4.195121951219512,
          2.959349593495935,
          2.9268292682926833,
          2.861788617886179,
          2.731707317073171,
          2.666666666666667,
          2.4715447154471546,
          2.341463414634146,
          2.2764227642276422,
          2.178861788617886,
          2.178861788617886,
          2.1463414634146343,
          2.113821138211382,
          2.08130081300813,
          1.8861788617886182,
          1.788617886178862,
          1.6585365853658538,
          1.6260162601626018,
          1.6260162601626018,
          1.5934959349593496,
          1.5934959349593496,
          1.4634146341463417,
          1.3983739837398375,
          1.3658536585365855,
          1.3333333333333335,
          1.3333333333333335,
          1.2682926829268293,
          1.2682926829268293,
          1.2032520325203253,
          1.2032520325203253,
          1.2032520325203253,
          1.170731707317073,
          1.1382113821138211,
          1.1056910569105691,
          1.040650406504065,
          1.040650406504065,
          0.975609756097561,
          0.9430894308943091,
          0.9430894308943091,
          0.9430894308943091,
          0.9105691056910569,
          0.878048780487805,
          0.8455284552845529,
          0.8455284552845529,
          0.8130081300813009,
          0.7804878048780488,
          0.7479674796747967,
          0.7479674796747967,
          0.6829268292682927,
          0.6829268292682927,
          0.6829268292682927,
          0.6829268292682927,
          0.6178861788617886,
          0.6178861788617886,
          0.5853658536585366,
          0.5528455284552846,
          0.4878048780487805,
          0.42276422764227645,
          0.3902439024390244,
          0.3902439024390244,
          0.3902439024390244,
          0.35772357723577236,
          0.3252032520325203,
          0.2926829268292683,
          0.22764227642276422,
          0.1951219512195122,
          0.16260162601626016
         ],
         "xaxis": "x",
         "y": [
          "Application",
          "Algorithm",
          "AnalyzeDecide",
          "Time",
          "ML",
          "HumanQuant",
          "HumanQual",
          "MultiView",
          "VisDesign",
          "MLStatsModel",
          "Charts",
          "Features",
          "Perception",
          "Network",
          "Geospatial",
          "HD",
          "SocHum",
          "Comparison",
          "NAApp",
          "DimRed",
          "Software",
          "ClusterAgg",
          "LifeBio",
          "ScienceEngr",
          "DataAbstr",
          "Text",
          "Storytelling",
          "Scalar",
          "Guidelines",
          "Theory",
          "GenPublic",
          "MixedInit",
          "Tabular",
          "Methodology",
          "BigData",
          "Workflow",
          "NAData",
          "Displays",
          "Vector_Tensor",
          "MultiRes",
          "CompBenchmark",
          "Interaction",
          "OtherApp",
          "Models",
          "ImageVideo",
          "Flow",
          "Maps",
          "Domain_Task",
          "OtherData",
          "Uncertainty",
          "CompSystems",
          "Graphics",
          "Color",
          "Volumes",
          "DataMgmt",
          "Systems",
          "CompTop",
          "Math",
          "Datasets",
          "OtherTopic",
          "PersonalVis",
          "Collab",
          "ImageProcessing",
          "Motion",
          "Art",
          "Deployment",
          "OtherContrib",
          "STAR",
          "Isosurfaces",
          "Hardware"
         ],
         "yaxis": "y"
        }
       ],
       "layout": {
        "height": 750,
        "hovermode": "closest",
        "legend": {
         "title": {
          "text": "Year"
         },
         "tracegroupgap": 0
        },
        "margin": {
         "t": 60
        },
        "template": {
         "data": {
          "bar": [
           {
            "insidetextanchor": "middle",
            "textfont": {
             "size": 12
            },
            "textposition": "inside",
            "type": "bar"
           }
          ]
         },
         "layout": {
          "colorway": [
           "#4C78A8",
           "#F58518",
           "#E45756",
           "#72B7B2",
           "#54A24B",
           "#EECA3B",
           "#B279A2",
           "#FF9DA6",
           "#9D755D",
           "#BAB0AC"
          ],
          "font": {
           "color": "black",
           "family": "Fira Sans",
           "size": 13
          },
          "hoverlabel": {
           "bgcolor": "white",
           "bordercolor": "lightgray",
           "font": {
            "color": "black",
            "family": "Fira Sans"
           }
          },
          "hovermode": "closest",
          "legend": {
           "title": {
            "font": {
             "family": "Fira Sans Medium"
            }
           }
          },
          "margin": {
           "pad": 10
          },
          "paper_bgcolor": "rgba(255,255,255,0)",
          "plot_bgcolor": "rgba(255,255,255,0)",
          "title": {
           "font": {
            "size": 14
           }
          },
          "xaxis": {
           "automargin": true,
           "fixedrange": true,
           "gridcolor": "lightgray",
           "gridwidth": 1,
           "title": {
            "font": {
             "family": "Fira Sans Medium",
             "size": 13
            },
            "standoff": 10
           }
          },
          "yaxis": {
           "automargin": true,
           "fixedrange": true,
           "gridcolor": "lightgray",
           "gridwidth": 1,
           "title": {
            "font": {
             "family": "Fira Sans Medium",
             "size": 13
            },
            "standoff": 10
           }
          }
         }
        },
        "title": {
         "text": "Frequency of keywords across submissions"
        },
        "width": 750,
        "xaxis": {
         "anchor": "y",
         "domain": [
          0,
          1
         ],
         "title": {
          "text": "Submission %"
         }
        },
        "yaxis": {
         "anchor": "x",
         "domain": [
          0,
          1
         ],
         "dtick": 1,
         "tickfont": {
          "size": 8
         },
         "tickmode": "linear",
         "title": {
          "text": "Short Name"
         }
        }
       }
      }
     },
     "metadata": {},
     "output_type": "display_data"
    }
   ],
   "source": [
    "# do a manual histogram to include non-specified keywords\n",
    "# \n",
    "k_total['Submission %'] = k_total.groupby(['year'])['# Submissions'].transform(lambda x: x/x.sum()*100)\n",
    "k_total['Year'] = k_total['year'].astype(str)  # to get categorical colors\n",
    "k_year = k_total.pivot(index=\"year\", values=\"Submission %\", columns=\"Short Name\").T\n",
    "\n",
    "px.scatter(k_total,\n",
    "    y = 'Short Name',\n",
    "    x = 'Submission %',  # 'Submission %',\n",
    "    color = 'Year',\n",
    "    category_orders={\"Year\": [\"2024\", \"2023\", \"2022\", \"2021\", \"2020\"]}\n",
    "    # facet_row='year',\n",
    "    # category_orders={'year':  reversed([2020, 2021, 2022, 2023, 2024])},\n",
    ").update_traces(\n",
    "    hovertemplate = \"'%{x}' specified in %{y} submissions<extra></extra>\",\n",
    ").update_layout(\n",
    "    yaxis_tickfont_size = 8,\n",
    "    yaxis_dtick = 1,\n",
    "    yaxis_tickmode = 'linear',\n",
    "    # yaxis_dtick = 50,\n",
    "    hovermode = 'closest',\n",
    "    title = 'Frequency of keywords across submissions',\n",
    "    **aspect(1)\n",
    ").show(config=config)"
   ]
  },
  {
   "cell_type": "code",
   "execution_count": null,
   "id": "85016468-6894-420a-a485-52c8792a63bb",
   "metadata": {},
   "outputs": [],
   "source": []
  }
 ],
 "metadata": {
  "kernelspec": {
   "display_name": "Python 3 (ipykernel)",
   "language": "python",
   "name": "python3"
  },
  "language_info": {
   "codemirror_mode": {
    "name": "ipython",
    "version": 3
   },
   "file_extension": ".py",
   "mimetype": "text/x-python",
   "name": "python",
   "nbconvert_exporter": "python",
   "pygments_lexer": "ipython3",
   "version": "3.12.4"
  }
 },
 "nbformat": 4,
 "nbformat_minor": 5
}
