{
 "cells": [
  {
   "cell_type": "raw",
   "id": "29836d54",
   "metadata": {
    "pycharm": {
     "name": "#%% raw\n"
    }
   },
   "source": [
    "---\n",
    "title: 2024 VIS Area Curation Committee Executive Summary\n",
    "self-contained: true\n",
    "format:\n",
    "  html: \n",
    "    code-fold: true\n",
    "    theme: simplex\n",
    "    toc: true\n",
    "    jupyter: python3\n",
    "---"
   ]
  },
  {
   "cell_type": "markdown",
   "id": "e61097c3",
   "metadata": {
    "pycharm": {
     "name": "#%% md\n"
    }
   },
   "source": [
    "## Summary\n",
    "\n",
    "\n",
    "This report summarizes the findings, recommendations, and process by the VIS Area Curation Committee (ACC) regarding the areas and keywords used for paper submissions to IEEE VIS 2024. It is based on the 2021, 2022, and 2023 ACC committee reports, updated with the 2024 data. According to the Charter, the goal of this committee is to analyze and report how submissions made use of the areas and keywords to describe their contribution. It is important to understand when these descriptors no longer adequately cover the breadth of research presented at VIS.\n",
    "\n",
    "We use submission and bidding information from VIS 2024 to analyze recent trends following the move to an area model. \n",
    "\n",
    "**Given the information, the move appears to be overall successful, however, we see substantial growth in the Application and hence recommend to split the area to create 7 areas in total.** \n",
    "\n",
    "Otherwise, our analysis suggests that submissions are relatively balanced across areas, keywords are (with a small exception) well distributed, and the unified PC appears to provide broad and overlapping coverage.\n",
    "\n",
    "Regarding authors satisfaction related to the areas from the IEEE VIS Areas Feedback Survey 2024:\n",
    "\n",
    "* With 103 responses, we did get some data -- it's not a particularly high percentage of responses, but it's a good absolute number.\n",
    "* We received most responses from authors, who submitted to areas 1 (theory...), 2 (applications), and 4 (representations...), and less from areas 3 (systems), 5 (data transformations), and 6 (analytics...).\n",
    "* Very few (6) found that they could not find a suitable area, a fair share of the authors (25 of 103), however, state that they could also have submitted to another area.\n",
    "* 8 authors, who submitted to applications, would also have submitted to another area. \n",
    "* Area 6 came up most often as a possible alternative area.\n",
    "* At large, it seems that most authors do not see the immediate need to change the areas.\n",
    "* Quite a few of the authors (18 of 103) thought that area 4 needs an improvement. \n",
    "* Also quite a few (12) thought that area 6 should be improved.  \n",
    "* When asked regarding merging/splitting areas, \"splitting area 2 (applications)\" came up most often. \n",
    "* The authors sent a pretty strong signal that indicating a second-choice area would be welcome. \n",
    "\n",
    "\n",
    "The full data and source code to rebuild this project are available [here](https://github.com/ieee-vgtc/ieeevis-area-curation-committee-reports).\n",
    "\n",
    "Committee members 2024: Jean-Daniel Fekete (co-chair), Alexander Lex (co-chair), Helwig Hauser, Ingrid Hotz, David Laidlaw, Torsten Möller, Michael Papka, Danielle Szafir, Yingcai Wu.\n",
    "\n",
    "Committee members 2023: Steven Drucker (chair), Jean-Daniel Fekete, Ingrid Hotz,  David Laidlaw, Alexander Lex, Torsten Möller, Michael Papka, Hendrik Strobelt, Shigeo Takahashi.\n",
    "\n",
    "Committee members 2022: Steven Drucker (chair), Ingrid Hotz,  David Laidlaw, Heike Leitte, Torsten Möller, Carlos Scheidegger, Hendrik Strobelt, Shigeo Takahashi, Penny Rheingans.\n",
    "\n",
    "Committee members 2021: Alex Endert (chair), Steven Drucker (next chair), Issei Fujishiro, Christoph Garth, Heidi Lam, Heike Leitte, Carlos Scheidegger, Hendrik Strobelt, Penny Rheingans.\n",
    "\n",
    "Last edited: 2024-08-17.\n"
   ]
  },
  {
   "cell_type": "code",
   "execution_count": 49,
   "id": "b8c83cfc",
   "metadata": {
    "pycharm": {
     "name": "#%%\n"
    }
   },
   "outputs": [],
   "source": [
    "import itertools\n",
    "\n",
    "import pandas as pd\n",
    "import numpy as np\n",
    "\n",
    "# Import the necessaries libraries\n",
    "import plotly.offline as pio\n",
    "import plotly.graph_objs as go\n",
    "import plotly.express as px\n",
    "# [jdf] no need to specify the renderer but, for interactive use, init_notebook should be called\n",
    "# pio.renderers.default = \"jupyterlab\"\n",
    "# Set notebook mode to work in offline\n",
    "# pio.init_notebook_mode()\n",
    "# pio.init_notebook_mode(connected=True)\n",
    "width = 750\n",
    "\n",
    "import sqlite3\n",
    "\n",
    "#### Data Preparation\n",
    "\n",
    "# static data – codes -> names etc.\n",
    "staticdata = dict(\n",
    "    decision = { \n",
    "        'C': 'Confer vs. cond Accept', # relevant for the 2020 and 2021 data have a different meaning\n",
    "        'A': 'Accept', # for the 2020 data\n",
    "        'A2': 'Accept', # after the second round, should be 120 in 2022\n",
    "        'R': 'Reject', # reject after the first round -- should be 322 in 2022\n",
    "        'R2': 'Reject in round 2', # reject after the second round -- should be 2 in 2022\n",
    "        'R-2nd': 'Reject in round 2', \n",
    "        'DR-S': 'Desk Reject (Scope)', # should be 7 in 2022\n",
    "        'DR-P': 'Desk Reject (Plagiarism)', # should be 4 in 2022\n",
    "        'AR-P': 'Admin Reject (Plagiarism)', # should be 1 in 2022\n",
    "        'DR-F': 'Desk Reject (Format)', # should be 4 in 2022\n",
    "        'R-Strong': 'Reject Strong', # cannot resubmit to TVCG for a year\n",
    "        'T': 'Reject TVCG fasttrack', # Explicitly invited to resubmit to TVCG, status in major revision\n",
    "    },\n",
    "    FinalDecision = { # Just flatten to Accept and Reject\n",
    "        'C': 'Accept', \n",
    "        'A': 'Accept', # for the 2020 data\n",
    "        'A2': 'Accept', # after the second round, should be 120 in 2022\n",
    "        'R': 'Reject', # reject after the first round -- should be 322 in 2022\n",
    "        'R2': 'Reject', # reject after the second round -- should be 2 in 2022\n",
    "        'R-2nd': 'Reject', \n",
    "        'DR-S': 'Reject', # should be 7 in 2022\n",
    "        'DR-P': 'Reject', # should be 4 in 2022\n",
    "        'AR-P': 'Reject', # should be 1 in 2022\n",
    "        'DR-F': 'Reject', # should be 4 in 2022\n",
    "        'R-Strong': 'Reject',\n",
    "        'T': 'Reject',\n",
    "    },\n",
    "    area = {\n",
    "        'T&E': '(1) Theoretical & Empirical',\n",
    "        'App': '(2) Applications',\n",
    "        'S&R': '(3) Systems & Rendering',\n",
    "        'R&I': '(4) Representations & Interaction',\n",
    "        'DTr': '(5) Data Transformations',\n",
    "        'A&D': '(6) Analytics & Decisions',\n",
    "    },\n",
    "    bid = { \n",
    "        0: 'no bid',\n",
    "        1: 'want',\n",
    "        2: 'willing',\n",
    "        3: 'reluctant',\n",
    "        4: 'conflict'\n",
    "    },\n",
    "    stat = {\n",
    "        'Prim': 'Primary', \n",
    "        'Seco': 'Secondary'\n",
    "    },\n",
    "    keywords = pd.read_csv(\"../data/2021/keywords.csv\", sep=';'), # 2021 is correct as there was no new keywords file in 2022\n",
    "    colnames = {\n",
    "        'confsubid': 'Paper ID',\n",
    "        'rid': 'Reviewer',\n",
    "        'decision': 'Decision',\n",
    "        'area': 'Area',\n",
    "        'stat': 'Role',\n",
    "        'bid': 'Bid'\n",
    "    }\n",
    ")\n",
    "\n",
    "dbcon = sqlite3.connect('../data/vis-area-chair.db') #[jdf] assume data is in ..\n",
    "\n",
    "submissions_raw20 = pd.read_sql_query('SELECT * from submissions WHERE year = 2020', dbcon, 'sid')\n",
    "submissions_raw21 = pd.read_sql_query('SELECT * from submissions WHERE year = 2021', dbcon, 'sid')\n",
    "submissions_raw22 = pd.read_sql_query('SELECT * from submissions WHERE year = 2022', dbcon, 'sid')\n",
    "submissions_raw23 = pd.read_sql_query('SELECT * from submissions WHERE year = 2023', dbcon, 'sid')\n",
    "submissions_raw24 = pd.read_sql_query('SELECT * from submissions WHERE year = 2024', dbcon, 'sid')\n",
    "submissions_raw = pd.read_sql_query('SELECT * from submissions', dbcon, 'sid')\n",
    "#print(submissions_raw24)\n",
    "\n",
    "submissions = (submissions_raw\n",
    "    .join(\n",
    "        pd.read_sql_query('SELECT * from areas', dbcon, 'aid'), \n",
    "        on='aid'\n",
    "    )\n",
    "    .assign(Keywords = lambda df: (pd\n",
    "        .read_sql_query('SELECT * FROM submissionkeywords', dbcon, 'sid')\n",
    "        .loc[df.index]\n",
    "        .join(\n",
    "            pd.read_sql_query('SELECT * FROM keywords', dbcon, 'kid'), \n",
    "            on='kid'\n",
    "        )\n",
    "        .keyword\n",
    "        .groupby('sid')\n",
    "            .apply(list)\n",
    "    ))\n",
    "    .assign(**{'# Keywords': lambda df: df.Keywords.apply(len)})\n",
    "    .assign(**{'FinalDecision': lambda df: df['decision']})\n",
    "    .replace(staticdata)\n",
    "    .rename(columns = staticdata['colnames'])\n",
    "    .drop(columns = ['legacy', 'aid'])\n",
    "#    .set_index('sid')\n",
    "#    .set_index('Paper ID')\n",
    "# note -- I changed the index, since 'Paper ID' was not unique for multiple years.\n",
    "# By not setting the index to 'Paper ID' the index remains with 'sid'.\n",
    "# However, 'sid' is used as a unique index in the creation of the database anyways.\n",
    ")\n",
    "\n",
    "# replace the old 'Paper ID' with a unique identifier, so that the code from 2021 will work\n",
    "submissions = submissions.rename(columns = {'Paper ID':'Old Paper ID'})\n",
    "submissions.reset_index(inplace=True)\n",
    "submissions['Paper ID'] = submissions['sid']\n",
    "submissions = submissions.set_index('Paper ID')\n",
    "#submissions colums: (index), sid (unique id), Paper ID (unique), Old Paper ID, Decision, year, Area, Keywords (as a list), # Keywords\n",
    "\n",
    "all_years = submissions['year'].unique()\n",
    "\n",
    "#rates_decision computes the acceptance rates (and total number of papers) per year\n",
    "#rates_decision: (index), Decision, year, count, Percentage\n",
    "rates_decision = (submissions\n",
    "    .value_counts(['Decision', 'year'])\n",
    "    .reset_index()\n",
    "    # .rename(columns = {0: 'count'})\n",
    ")\n",
    "rates_decision['Percentage'] = rates_decision.groupby(['year'])['count'].transform(lambda x: x/x.sum()*100)\n",
    "rates_decision = rates_decision.round({'Percentage': 1})\n",
    "#rates_decision computes the acceptance rates (and total number of papers) per year\n",
    "#rates_decision: (index), Decision, year, count, Percentage\n",
    "rates_decision_final = (submissions\n",
    "    .value_counts(['FinalDecision', 'year'])\n",
    "    .reset_index()\n",
    "    # .rename(columns = {0: 'count'})\n",
    ")\n",
    "rates_decision_final['Percentage'] = rates_decision_final.groupby(['year'])['count'].transform(lambda x: x/x.sum()*100)\n",
    "rates_decision_final = rates_decision_final.round({'Percentage': 1})\n",
    "#submissions\n",
    "#bids_raw: (index), Reviewer ID, sid (unique paper identifier over mult years), match score, bid of the reviewer, role of the reviewer, Paper ID\n",
    "bids_raw = (pd\n",
    "    .read_sql_query('SELECT * from reviewerbids', dbcon)\n",
    "    .merge(submissions_raw['confsubid'], on='sid')\n",
    "    .replace(staticdata)\n",
    "    .rename(columns = staticdata['colnames'])\n",
    ")\n",
    "#bids_raw\n",
    "\n",
    "## Renaming Paper ID to Old Paper ID, setting Paper ID to sid, keeping all 3 for now...\n",
    "bids_raw = bids_raw.rename(columns = {'Paper ID':'Old Paper ID'})\n",
    "bids_raw['Paper ID'] = bids_raw['sid']\n",
    "# bids = Reviewer, sid, Bid (how the reviewer bid on this paper)\n",
    "#      doesn't include review/sid that were not bid for [.query('Bid != \"no bid\"')]\n",
    "bids = (bids_raw\n",
    "    .query('Bid != \"no bid\"')\n",
    "# Paper ID is not unique over multiple years!\n",
    "#    .drop(columns = ['sid'])\n",
    "#    [['Reviewer','Paper ID', 'Bid']]\n",
    "    [['Reviewer','sid', 'Paper ID', 'Bid']]\n",
    "    .reset_index(drop = True)\n",
    ")\n",
    "\n",
    "# matchscores becomes a table to reviewer/sid with the match scores\n",
    "# many of these will be \"NaN\" since we now have multiple years together.\n",
    "# we need to check whether the reviewer IDs remain unique across the years!\n",
    "matchscores = (bids_raw\n",
    "# Paper ID is not unique over multiple years!\n",
    "#    [['Reviewer','Paper ID','match']]\n",
    "    [['Reviewer','sid','Paper ID','match']]\n",
    "# Paper ID is not unique over multiple years!\n",
    "#    .set_index(['Reviewer', 'Paper ID'])\n",
    "    .set_index(['Reviewer', 'Paper ID'])\n",
    "    .match\n",
    "    .unstack(level=1)\n",
    ")\n",
    "\n",
    "# assignments = Reviewer, sid, Role (primary, secondary)\n",
    "#      doesn't include review/sid that were not assigned [.query('Role != \"\"')]\n",
    "assignments = (bids_raw\n",
    "    .query('Role != \"\"')\n",
    "# Paper ID is not unique over multiple years!\n",
    "#    [['Reviewer', 'Paper ID', 'Role']]\n",
    "    [['Reviewer', 'sid', 'Paper ID', 'Role']]\n",
    "    .reset_index(drop = True)\n",
    ")\n",
    "\n",
    "del dbcon\n",
    "\n",
    "#### Plot Defaults\n",
    "\n",
    "acc_template = go.layout.Template()\n",
    "\n",
    "acc_template.layout = dict(\n",
    "    font = dict( \n",
    "        family='Fira Sans',\n",
    "        color = 'black',\n",
    "        size = 13\n",
    "    ),\n",
    "    title_font_size = 14,\n",
    "    plot_bgcolor = 'rgba(255,255,255,0)',\n",
    "    paper_bgcolor = 'rgba(255,255,255,0)',\n",
    "    margin = dict(pad=10),\n",
    "    xaxis = dict(\n",
    "        title = dict( \n",
    "            font = dict( family='Fira Sans Medium', size=13 ),\n",
    "            standoff = 10\n",
    "        ),\n",
    "        gridcolor='lightgray',\n",
    "        gridwidth=1,\n",
    "        automargin = True,\n",
    "        fixedrange = True,\n",
    "    ),\n",
    "    yaxis = dict(\n",
    "        title = dict( \n",
    "            font = dict( family='Fira Sans Medium', size=13 ),\n",
    "            standoff = 10,\n",
    "        ),\n",
    "        gridcolor='lightgray',\n",
    "        gridwidth=1,\n",
    "        automargin = True,\n",
    "        fixedrange = True,\n",
    "    ),\n",
    "    legend=dict(\n",
    "        title_font_family=\"Fira Sans Medium\",\n",
    "    ),\n",
    "    colorway = px.colors.qualitative.T10,\n",
    "    hovermode = 'closest',\n",
    "    hoverlabel=dict(\n",
    "        bgcolor=\"white\",\n",
    "        bordercolor='lightgray',\n",
    "        font_color = 'black',\n",
    "        font_family = 'Fira Sans'\n",
    "    ),\n",
    ")\n",
    "\n",
    "acc_template.data.bar = [dict(\n",
    "    textposition = 'inside',\n",
    "    insidetextanchor='middle',\n",
    "    textfont_size = 12,\n",
    ")]\n",
    "\n",
    "px.defaults.template = acc_template\n",
    "\n",
    "px.defaults.category_orders = {\n",
    "    'Decision': list(staticdata['decision'].values()),\n",
    "    'FinalDecision':  list(staticdata['FinalDecision'].values()),\n",
    "    'Area': list(staticdata['area'].values()),\n",
    "    'Short Name': staticdata['keywords']['Short Name'].tolist(),\n",
    "}\n",
    "\n",
    "config = dict(\n",
    "    displayModeBar = False,\n",
    "    scrollZoom = False,\n",
    "    responsive = False\n",
    ")\n",
    "\n",
    "def aspect(ratio):\n",
    "    return { 'width': width, 'height': int(ratio*width) }\n",
    "\n",
    "# useful data sub-products\n",
    "\n",
    "#k_all columns: (index), Paper ID, Old Paper ID, Decision, year, Area, Keywords (as a list), # Keywords, Keyword, Category, Subcategory, Short Name, Description\n",
    "k_all = (submissions\n",
    "    .join(submissions['Keywords']\n",
    "        .explode()\n",
    "        .rename('Keyword')\n",
    "    )\n",
    "    .reset_index(level = 0)\n",
    "    .merge(staticdata['keywords'], on='Keyword')\n",
    ")\n",
    "\n",
    "# (Old) Paper ID is not unique, however, the 'sid' is (which is the current index)\n",
    "#k_all.reset_index(inplace=True)\n",
    "#k_all.rename(columns = {'sid':'Paper ID'},inplace = True)\n",
    "#k_all = k_all.merge(staticdata['keywords'], on='Keyword')\n",
    "#k_all\n",
    "\n",
    "#k_total columns: Category, Subcategory, Short Name, Keyword, Description, #Submissions, year\n",
    "#  counts the total number of submissions per keyword and year\n",
    "k_total = staticdata['keywords'].merge(\n",
    "    k_all.value_counts(['Short Name','year'])\n",
    "         .rename('# Submissions')\n",
    "         .reset_index(),\n",
    "#    on = 'Short Name',\n",
    "    how = 'right'\n",
    "#    how = 'outer'\n",
    ")\n",
    "\n",
    "#k_cnt: how often was a particular keyword used among all submissions within a year????\n",
    "#k_cnt columns: (index), Short Name, year, c, Category, Subcategory, Keyword, Description\n",
    "# not clear how k_cnt and k_total differ!\n",
    "k_cnt = (k_all\n",
    "    .value_counts(['Short Name','year'], sort=False)\n",
    "    .rename('c')\n",
    "    .to_frame()\n",
    "    .reset_index()\n",
    "    .merge(staticdata['keywords'], on='Short Name')\n",
    ")"
   ]
  },
  {
   "cell_type": "markdown",
   "id": "2c75d5da",
   "metadata": {
    "pycharm": {
     "name": "#%% md\n"
    }
   },
   "source": [
    "### Highlights\n",
    "\n",
    "Some highlights of the data to support our current recommendations:\n",
    "\n",
    "#### Submissions\n",
    "\n",
    "The number of submissions peaked in 2020 at 585 papers, which is likely caused by the pandemic and the one-month extension to the dealine given because of it. The years 2021 and 2022 saw lower numbers of submissions with 442 and 460 respectively. Submissions increased in the year 2023 (539) and 2024 (544), and are now almost back to the peak of 2020. "
   ]
  },
  {
   "cell_type": "code",
   "execution_count": 50,
   "id": "09e2a486",
   "metadata": {},
   "outputs": [],
   "source": [
    "totals = rates_decision_final.groupby('year')['count'].sum().reset_index()"
   ]
  },
  {
   "cell_type": "code",
   "execution_count": 51,
   "id": "ac3849be",
   "metadata": {},
   "outputs": [
    {
     "data": {
      "application/vnd.plotly.v1+json": {
       "config": {
        "displayModeBar": false,
        "plotlyServerURL": "https://plot.ly",
        "responsive": false,
        "scrollZoom": false
       },
       "data": [
        {
         "alignmentgroup": "True",
         "hovertemplate": "Number of Submissions=%{text}<br>Year=%{y}<extra></extra>",
         "legendgroup": "",
         "marker": {
          "color": "#4C78A8",
          "pattern": {
           "shape": ""
          }
         },
         "name": "",
         "offsetgroup": "",
         "orientation": "h",
         "showlegend": false,
         "text": [
          585,
          442,
          460,
          539,
          544
         ],
         "textposition": "auto",
         "type": "bar",
         "x": [
          585,
          442,
          460,
          539,
          544
         ],
         "xaxis": "x",
         "y": [
          2020,
          2021,
          2022,
          2023,
          2024
         ],
         "yaxis": "y"
        }
       ],
       "layout": {
        "barmode": "relative",
        "height": 262,
        "legend": {
         "tracegroupgap": 0
        },
        "margin": {
         "t": 60
        },
        "template": {
         "data": {
          "bar": [
           {
            "insidetextanchor": "middle",
            "textfont": {
             "size": 12
            },
            "textposition": "inside",
            "type": "bar"
           }
          ]
         },
         "layout": {
          "colorway": [
           "#4C78A8",
           "#F58518",
           "#E45756",
           "#72B7B2",
           "#54A24B",
           "#EECA3B",
           "#B279A2",
           "#FF9DA6",
           "#9D755D",
           "#BAB0AC"
          ],
          "font": {
           "color": "black",
           "family": "Fira Sans",
           "size": 13
          },
          "hoverlabel": {
           "bgcolor": "white",
           "bordercolor": "lightgray",
           "font": {
            "color": "black",
            "family": "Fira Sans"
           }
          },
          "hovermode": "closest",
          "legend": {
           "title": {
            "font": {
             "family": "Fira Sans Medium"
            }
           }
          },
          "margin": {
           "pad": 10
          },
          "paper_bgcolor": "rgba(255,255,255,0)",
          "plot_bgcolor": "rgba(255,255,255,0)",
          "title": {
           "font": {
            "size": 14
           }
          },
          "xaxis": {
           "automargin": true,
           "fixedrange": true,
           "gridcolor": "lightgray",
           "gridwidth": 1,
           "title": {
            "font": {
             "family": "Fira Sans Medium",
             "size": 13
            },
            "standoff": 10
           }
          },
          "yaxis": {
           "automargin": true,
           "fixedrange": true,
           "gridcolor": "lightgray",
           "gridwidth": 1,
           "title": {
            "font": {
             "family": "Fira Sans Medium",
             "size": 13
            },
            "standoff": 10
           }
          }
         }
        },
        "title": {
         "text": "Submissions Numbers since 2020"
        },
        "width": 750,
        "xaxis": {
         "anchor": "y",
         "domain": [
          0,
          1
         ],
         "title": {
          "text": "Number of Submissions"
         }
        },
        "yaxis": {
         "anchor": "x",
         "autorange": "reversed",
         "domain": [
          0,
          1
         ],
         "tickmode": "linear",
         "title": {
          "text": "Year"
         }
        }
       }
      }
     },
     "metadata": {},
     "output_type": "display_data"
    }
   ],
   "source": [
    "fig = px.bar(totals,\n",
    "    y='year',\n",
    "    x='count', \n",
    "    orientation = 'h',\n",
    "    labels={'count':'Number of Submissions', 'year':'Year'},\n",
    "    text = 'count',\n",
    ").update_layout(\n",
    "    yaxis=dict(autorange=\"reversed\", tickmode='linear'),\n",
    "    title = 'Submissions Numbers since 2020',\n",
    "    xaxis_title = 'Number of Submissions',\n",
    "    **aspect(0.35)\n",
    ")\n",
    "\n",
    "fig.show(config=config)"
   ]
  },
  {
   "cell_type": "markdown",
   "id": "47e5c024",
   "metadata": {},
   "source": [
    "#### Acceptance Rates\n",
    "\n",
    "Acceptance rates have fluctuated lightly from 2020-2023 (26.8%, 24.9%, 26.1% and 25.8%) though there **was** a dip (24.4%) in 2021. \n",
    "For 2024, we see a rather sharp drop off to 22.4%, which is partially caused by a lower first-round acceptance rate (23.2%) and amplified by 3 second-round rejects. \n",
    "\n",
    "This trend might mean that the reviewers want higher-quality articles, which would be good if the research field was becoming more stable and reached a steady state, or that they become more conservative, which would be detrimental to the development of novel less consensual research directions. We hope the VSC will enquire more deeply and provide guidelines to the OPC and reviewers to steer the conference in the right direction.\n",
    "\n",
    "Comment Alex: here it would be good to get input from the OPCs. I don't know whether we should sepculate on reasons in this report. "
   ]
  },
  {
   "cell_type": "code",
   "execution_count": 52,
   "id": "113e194e",
   "metadata": {
    "pycharm": {
     "name": "#%%\n"
    }
   },
   "outputs": [
    {
     "data": {
      "application/vnd.plotly.v1+json": {
       "config": {
        "displayModeBar": false,
        "plotlyServerURL": "https://plot.ly",
        "responsive": false,
        "scrollZoom": false
       },
       "data": [
        {
         "alignmentgroup": "True",
         "customdata": [
          [
           "Accept",
           157
          ],
          [
           "Accept",
           139
          ],
          [
           "Accept",
           122
          ],
          [
           "Accept",
           120
          ],
          [
           "Accept",
           110
          ]
         ],
         "hovertemplate": "%{customdata[1]} submissions in %{y} have decision %{customdata[0]}<extra></extra>",
         "legendgroup": "Accept",
         "marker": {
          "color": "#4C78A8",
          "pattern": {
           "shape": ""
          }
         },
         "name": "Accept",
         "offsetgroup": "Accept",
         "orientation": "h",
         "showlegend": true,
         "text": [
          26.8,
          25.8,
          22.4,
          26.1,
          24.9
         ],
         "textposition": "auto",
         "type": "bar",
         "x": [
          26.8,
          25.8,
          22.4,
          26.1,
          24.9
         ],
         "xaxis": "x",
         "y": [
          2020,
          2023,
          2024,
          2022,
          2021
         ],
         "yaxis": "y"
        },
        {
         "alignmentgroup": "True",
         "customdata": [
          [
           "Reject",
           428
          ],
          [
           "Reject",
           419
          ],
          [
           "Reject",
           400
          ],
          [
           "Reject",
           340
          ],
          [
           "Reject",
           332
          ]
         ],
         "hovertemplate": "%{customdata[1]} submissions in %{y} have decision %{customdata[0]}<extra></extra>",
         "legendgroup": "Reject",
         "marker": {
          "color": "#F58518",
          "pattern": {
           "shape": ""
          }
         },
         "name": "Reject",
         "offsetgroup": "Reject",
         "orientation": "h",
         "showlegend": true,
         "text": [
          73.2,
          77,
          74.2,
          73.9,
          75.1
         ],
         "textposition": "auto",
         "type": "bar",
         "x": [
          73.2,
          77,
          74.2,
          73.9,
          75.1
         ],
         "xaxis": "x",
         "y": [
          2020,
          2024,
          2023,
          2022,
          2021
         ],
         "yaxis": "y"
        },
        {
         "alignmentgroup": "True",
         "customdata": [
          [
           "R2-S",
           3
          ]
         ],
         "hovertemplate": "%{customdata[1]} submissions in %{y} have decision %{customdata[0]}<extra></extra>",
         "legendgroup": "R2-S",
         "marker": {
          "color": "#E45756",
          "pattern": {
           "shape": ""
          }
         },
         "name": "R2-S",
         "offsetgroup": "R2-S",
         "orientation": "h",
         "showlegend": true,
         "text": [
          0.6
         ],
         "textposition": "auto",
         "type": "bar",
         "x": [
          0.6
         ],
         "xaxis": "x",
         "y": [
          2024
         ],
         "yaxis": "y"
        }
       ],
       "layout": {
        "barmode": "stack",
        "height": 262,
        "legend": {
         "title": {
          "text": "FinalDecision"
         },
         "tracegroupgap": 0
        },
        "margin": {
         "t": 60
        },
        "template": {
         "data": {
          "bar": [
           {
            "insidetextanchor": "middle",
            "textfont": {
             "size": 12
            },
            "textposition": "inside",
            "type": "bar"
           }
          ]
         },
         "layout": {
          "colorway": [
           "#4C78A8",
           "#F58518",
           "#E45756",
           "#72B7B2",
           "#54A24B",
           "#EECA3B",
           "#B279A2",
           "#FF9DA6",
           "#9D755D",
           "#BAB0AC"
          ],
          "font": {
           "color": "black",
           "family": "Fira Sans",
           "size": 13
          },
          "hoverlabel": {
           "bgcolor": "white",
           "bordercolor": "lightgray",
           "font": {
            "color": "black",
            "family": "Fira Sans"
           }
          },
          "hovermode": "closest",
          "legend": {
           "title": {
            "font": {
             "family": "Fira Sans Medium"
            }
           }
          },
          "margin": {
           "pad": 10
          },
          "paper_bgcolor": "rgba(255,255,255,0)",
          "plot_bgcolor": "rgba(255,255,255,0)",
          "title": {
           "font": {
            "size": 14
           }
          },
          "xaxis": {
           "automargin": true,
           "fixedrange": true,
           "gridcolor": "lightgray",
           "gridwidth": 1,
           "title": {
            "font": {
             "family": "Fira Sans Medium",
             "size": 13
            },
            "standoff": 10
           }
          },
          "yaxis": {
           "automargin": true,
           "fixedrange": true,
           "gridcolor": "lightgray",
           "gridwidth": 1,
           "title": {
            "font": {
             "family": "Fira Sans Medium",
             "size": 13
            },
            "standoff": 10
           }
          }
         }
        },
        "title": {
         "text": "Acceptance Rates since 2020"
        },
        "width": 750,
        "xaxis": {
         "anchor": "y",
         "domain": [
          0,
          1
         ],
         "title": {
          "text": "Percentage of Submissions"
         }
        },
        "yaxis": {
         "anchor": "x",
         "autorange": "reversed",
         "domain": [
          0,
          1
         ],
         "tickmode": "linear",
         "title": {
          "text": "year"
         }
        }
       }
      }
     },
     "metadata": {},
     "output_type": "display_data"
    }
   ],
   "source": [
    "fig = px.bar(rates_decision_final,\n",
    "    x = 'Percentage',\n",
    "    y = 'year',\n",
    "    barmode = 'stack',\n",
    "    orientation = 'h',\n",
    "    color = 'FinalDecision',\n",
    "    text = 'Percentage',\n",
    "    custom_data = ['FinalDecision','count'],\n",
    ").update_layout(\n",
    "    yaxis=dict(autorange=\"reversed\", tickmode='linear'),\n",
    "    title = 'Acceptance Rates since 2020',\n",
    "    xaxis_title = 'Percentage of Submissions',\n",
    "    **aspect(0.35)\n",
    ").update_traces(\n",
    "    hovertemplate = '%{customdata[1]} submissions in %{y} have decision %{customdata[0]}<extra></extra>',\n",
    ").show(config=config)\n",
    "\n"
   ]
  },
  {
   "cell_type": "markdown",
   "id": "1bb1d3fa",
   "metadata": {
    "pycharm": {
     "name": "#%% md\n"
    }
   },
   "source": [
    "#### Distributions in Areas"
   ]
  },
  {
   "cell_type": "code",
   "execution_count": 56,
   "id": "65e8b660",
   "metadata": {
    "pycharm": {
     "name": "#%%\n"
    }
   },
   "outputs": [
    {
     "data": {
      "application/vnd.plotly.v1+json": {
       "config": {
        "plotlyServerURL": "https://plot.ly"
       },
       "data": [
        {
         "customdata": [
          "Reject",
          "Reject",
          "Reject",
          "Reject",
          "Reject",
          "Reject",
          "Accept",
          "Accept",
          "Accept",
          "Accept",
          "Accept",
          "Accept"
         ],
         "hovertemplate": "%{y} papers were %{customdata} in",
         "name": "2021",
         "offsetgroup": "1",
         "type": "bar",
         "x": [
          "Applications",
          "Theoretical & Empirical",
          "Representations & Interaction",
          "Analytics & Decisions",
          "Data Transformations",
          "Systems & Rendering",
          "Applications",
          "Theoretical & Empirical",
          "Representations & Interaction",
          "Analytics & Decisions",
          "Data Transformations",
          "Systems & Rendering"
         ],
         "y": [
          76,
          61,
          60,
          60,
          40,
          35,
          24,
          24,
          19,
          18,
          14,
          11
         ]
        },
        {
         "customdata": [
          "Reject",
          "Reject",
          "Reject",
          "Reject",
          "Reject",
          "Accept",
          "Reject",
          "Accept",
          "Accept",
          "Accept",
          "Accept",
          "Accept"
         ],
         "hovertemplate": "%{y} papers were %{customdata} in",
         "name": "2022",
         "offsetgroup": "2",
         "type": "bar",
         "x": [
          "Applications",
          "Analytics & Decisions",
          "Theoretical & Empirical",
          "Representations & Interaction",
          "Data Transformations",
          "Theoretical & Empirical",
          "Systems & Rendering",
          "Applications",
          "Analytics & Decisions",
          "Representations & Interaction",
          "Data Transformations",
          "Systems & Rendering"
         ],
         "y": [
          78,
          73,
          67,
          59,
          32,
          31,
          31,
          25,
          21,
          16,
          15,
          12
         ]
        },
        {
         "customdata": [
          "Reject",
          "Reject",
          "Reject",
          "Reject",
          "Reject",
          "Reject",
          "Accept",
          "Accept",
          "Accept",
          "Accept",
          "Accept",
          "Accept"
         ],
         "hovertemplate": "%{y} papers were %{customdata} in",
         "name": "2023",
         "offsetgroup": "3",
         "type": "bar",
         "x": [
          "Applications",
          "Theoretical & Empirical",
          "Representations & Interaction",
          "Analytics & Decisions",
          "Data Transformations",
          "Systems & Rendering",
          "Applications",
          "Theoretical & Empirical",
          "Data Transformations",
          "Representations & Interaction",
          "Systems & Rendering",
          "Analytics & Decisions"
         ],
         "y": [
          90,
          90,
          67,
          66,
          49,
          38,
          33,
          33,
          19,
          19,
          19,
          16
         ]
        },
        {
         "customdata": [
          "Reject",
          "Reject",
          "Reject",
          "Reject",
          "Reject",
          "Reject",
          "Accept",
          "Accept",
          "Accept",
          "Accept",
          "Accept",
          "Accept",
          "R2-S"
         ],
         "hovertemplate": "%{y} papers were %{customdata} in",
         "name": "2024",
         "offsetgroup": "4",
         "type": "bar",
         "x": [
          "Applications",
          "Representations & Interaction",
          "Theoretical & Empirical",
          "Analytics & Decisions",
          "Systems & Rendering",
          "Data Transformations",
          "Applications",
          "Theoretical & Empirical",
          "Representations & Interaction",
          "Data Transformations",
          "Analytics & Decisions",
          "Systems & Rendering",
          "Representations & Interaction"
         ],
         "y": [
          117,
          81,
          80,
          64,
          40,
          37,
          32,
          31,
          24,
          14,
          13,
          8,
          3
         ]
        }
       ],
       "layout": {
        "template": {
         "data": {
          "bar": [
           {
            "error_x": {
             "color": "#2a3f5f"
            },
            "error_y": {
             "color": "#2a3f5f"
            },
            "marker": {
             "line": {
              "color": "#E5ECF6",
              "width": 0.5
             },
             "pattern": {
              "fillmode": "overlay",
              "size": 10,
              "solidity": 0.2
             }
            },
            "type": "bar"
           }
          ],
          "barpolar": [
           {
            "marker": {
             "line": {
              "color": "#E5ECF6",
              "width": 0.5
             },
             "pattern": {
              "fillmode": "overlay",
              "size": 10,
              "solidity": 0.2
             }
            },
            "type": "barpolar"
           }
          ],
          "carpet": [
           {
            "aaxis": {
             "endlinecolor": "#2a3f5f",
             "gridcolor": "white",
             "linecolor": "white",
             "minorgridcolor": "white",
             "startlinecolor": "#2a3f5f"
            },
            "baxis": {
             "endlinecolor": "#2a3f5f",
             "gridcolor": "white",
             "linecolor": "white",
             "minorgridcolor": "white",
             "startlinecolor": "#2a3f5f"
            },
            "type": "carpet"
           }
          ],
          "choropleth": [
           {
            "colorbar": {
             "outlinewidth": 0,
             "ticks": ""
            },
            "type": "choropleth"
           }
          ],
          "contour": [
           {
            "colorbar": {
             "outlinewidth": 0,
             "ticks": ""
            },
            "colorscale": [
             [
              0,
              "#0d0887"
             ],
             [
              0.1111111111111111,
              "#46039f"
             ],
             [
              0.2222222222222222,
              "#7201a8"
             ],
             [
              0.3333333333333333,
              "#9c179e"
             ],
             [
              0.4444444444444444,
              "#bd3786"
             ],
             [
              0.5555555555555556,
              "#d8576b"
             ],
             [
              0.6666666666666666,
              "#ed7953"
             ],
             [
              0.7777777777777778,
              "#fb9f3a"
             ],
             [
              0.8888888888888888,
              "#fdca26"
             ],
             [
              1,
              "#f0f921"
             ]
            ],
            "type": "contour"
           }
          ],
          "contourcarpet": [
           {
            "colorbar": {
             "outlinewidth": 0,
             "ticks": ""
            },
            "type": "contourcarpet"
           }
          ],
          "heatmap": [
           {
            "colorbar": {
             "outlinewidth": 0,
             "ticks": ""
            },
            "colorscale": [
             [
              0,
              "#0d0887"
             ],
             [
              0.1111111111111111,
              "#46039f"
             ],
             [
              0.2222222222222222,
              "#7201a8"
             ],
             [
              0.3333333333333333,
              "#9c179e"
             ],
             [
              0.4444444444444444,
              "#bd3786"
             ],
             [
              0.5555555555555556,
              "#d8576b"
             ],
             [
              0.6666666666666666,
              "#ed7953"
             ],
             [
              0.7777777777777778,
              "#fb9f3a"
             ],
             [
              0.8888888888888888,
              "#fdca26"
             ],
             [
              1,
              "#f0f921"
             ]
            ],
            "type": "heatmap"
           }
          ],
          "heatmapgl": [
           {
            "colorbar": {
             "outlinewidth": 0,
             "ticks": ""
            },
            "colorscale": [
             [
              0,
              "#0d0887"
             ],
             [
              0.1111111111111111,
              "#46039f"
             ],
             [
              0.2222222222222222,
              "#7201a8"
             ],
             [
              0.3333333333333333,
              "#9c179e"
             ],
             [
              0.4444444444444444,
              "#bd3786"
             ],
             [
              0.5555555555555556,
              "#d8576b"
             ],
             [
              0.6666666666666666,
              "#ed7953"
             ],
             [
              0.7777777777777778,
              "#fb9f3a"
             ],
             [
              0.8888888888888888,
              "#fdca26"
             ],
             [
              1,
              "#f0f921"
             ]
            ],
            "type": "heatmapgl"
           }
          ],
          "histogram": [
           {
            "marker": {
             "pattern": {
              "fillmode": "overlay",
              "size": 10,
              "solidity": 0.2
             }
            },
            "type": "histogram"
           }
          ],
          "histogram2d": [
           {
            "colorbar": {
             "outlinewidth": 0,
             "ticks": ""
            },
            "colorscale": [
             [
              0,
              "#0d0887"
             ],
             [
              0.1111111111111111,
              "#46039f"
             ],
             [
              0.2222222222222222,
              "#7201a8"
             ],
             [
              0.3333333333333333,
              "#9c179e"
             ],
             [
              0.4444444444444444,
              "#bd3786"
             ],
             [
              0.5555555555555556,
              "#d8576b"
             ],
             [
              0.6666666666666666,
              "#ed7953"
             ],
             [
              0.7777777777777778,
              "#fb9f3a"
             ],
             [
              0.8888888888888888,
              "#fdca26"
             ],
             [
              1,
              "#f0f921"
             ]
            ],
            "type": "histogram2d"
           }
          ],
          "histogram2dcontour": [
           {
            "colorbar": {
             "outlinewidth": 0,
             "ticks": ""
            },
            "colorscale": [
             [
              0,
              "#0d0887"
             ],
             [
              0.1111111111111111,
              "#46039f"
             ],
             [
              0.2222222222222222,
              "#7201a8"
             ],
             [
              0.3333333333333333,
              "#9c179e"
             ],
             [
              0.4444444444444444,
              "#bd3786"
             ],
             [
              0.5555555555555556,
              "#d8576b"
             ],
             [
              0.6666666666666666,
              "#ed7953"
             ],
             [
              0.7777777777777778,
              "#fb9f3a"
             ],
             [
              0.8888888888888888,
              "#fdca26"
             ],
             [
              1,
              "#f0f921"
             ]
            ],
            "type": "histogram2dcontour"
           }
          ],
          "mesh3d": [
           {
            "colorbar": {
             "outlinewidth": 0,
             "ticks": ""
            },
            "type": "mesh3d"
           }
          ],
          "parcoords": [
           {
            "line": {
             "colorbar": {
              "outlinewidth": 0,
              "ticks": ""
             }
            },
            "type": "parcoords"
           }
          ],
          "pie": [
           {
            "automargin": true,
            "type": "pie"
           }
          ],
          "scatter": [
           {
            "fillpattern": {
             "fillmode": "overlay",
             "size": 10,
             "solidity": 0.2
            },
            "type": "scatter"
           }
          ],
          "scatter3d": [
           {
            "line": {
             "colorbar": {
              "outlinewidth": 0,
              "ticks": ""
             }
            },
            "marker": {
             "colorbar": {
              "outlinewidth": 0,
              "ticks": ""
             }
            },
            "type": "scatter3d"
           }
          ],
          "scattercarpet": [
           {
            "marker": {
             "colorbar": {
              "outlinewidth": 0,
              "ticks": ""
             }
            },
            "type": "scattercarpet"
           }
          ],
          "scattergeo": [
           {
            "marker": {
             "colorbar": {
              "outlinewidth": 0,
              "ticks": ""
             }
            },
            "type": "scattergeo"
           }
          ],
          "scattergl": [
           {
            "marker": {
             "colorbar": {
              "outlinewidth": 0,
              "ticks": ""
             }
            },
            "type": "scattergl"
           }
          ],
          "scattermapbox": [
           {
            "marker": {
             "colorbar": {
              "outlinewidth": 0,
              "ticks": ""
             }
            },
            "type": "scattermapbox"
           }
          ],
          "scatterpolar": [
           {
            "marker": {
             "colorbar": {
              "outlinewidth": 0,
              "ticks": ""
             }
            },
            "type": "scatterpolar"
           }
          ],
          "scatterpolargl": [
           {
            "marker": {
             "colorbar": {
              "outlinewidth": 0,
              "ticks": ""
             }
            },
            "type": "scatterpolargl"
           }
          ],
          "scatterternary": [
           {
            "marker": {
             "colorbar": {
              "outlinewidth": 0,
              "ticks": ""
             }
            },
            "type": "scatterternary"
           }
          ],
          "surface": [
           {
            "colorbar": {
             "outlinewidth": 0,
             "ticks": ""
            },
            "colorscale": [
             [
              0,
              "#0d0887"
             ],
             [
              0.1111111111111111,
              "#46039f"
             ],
             [
              0.2222222222222222,
              "#7201a8"
             ],
             [
              0.3333333333333333,
              "#9c179e"
             ],
             [
              0.4444444444444444,
              "#bd3786"
             ],
             [
              0.5555555555555556,
              "#d8576b"
             ],
             [
              0.6666666666666666,
              "#ed7953"
             ],
             [
              0.7777777777777778,
              "#fb9f3a"
             ],
             [
              0.8888888888888888,
              "#fdca26"
             ],
             [
              1,
              "#f0f921"
             ]
            ],
            "type": "surface"
           }
          ],
          "table": [
           {
            "cells": {
             "fill": {
              "color": "#EBF0F8"
             },
             "line": {
              "color": "white"
             }
            },
            "header": {
             "fill": {
              "color": "#C8D4E3"
             },
             "line": {
              "color": "white"
             }
            },
            "type": "table"
           }
          ]
         },
         "layout": {
          "annotationdefaults": {
           "arrowcolor": "#2a3f5f",
           "arrowhead": 0,
           "arrowwidth": 1
          },
          "autotypenumbers": "strict",
          "coloraxis": {
           "colorbar": {
            "outlinewidth": 0,
            "ticks": ""
           }
          },
          "colorscale": {
           "diverging": [
            [
             0,
             "#8e0152"
            ],
            [
             0.1,
             "#c51b7d"
            ],
            [
             0.2,
             "#de77ae"
            ],
            [
             0.3,
             "#f1b6da"
            ],
            [
             0.4,
             "#fde0ef"
            ],
            [
             0.5,
             "#f7f7f7"
            ],
            [
             0.6,
             "#e6f5d0"
            ],
            [
             0.7,
             "#b8e186"
            ],
            [
             0.8,
             "#7fbc41"
            ],
            [
             0.9,
             "#4d9221"
            ],
            [
             1,
             "#276419"
            ]
           ],
           "sequential": [
            [
             0,
             "#0d0887"
            ],
            [
             0.1111111111111111,
             "#46039f"
            ],
            [
             0.2222222222222222,
             "#7201a8"
            ],
            [
             0.3333333333333333,
             "#9c179e"
            ],
            [
             0.4444444444444444,
             "#bd3786"
            ],
            [
             0.5555555555555556,
             "#d8576b"
            ],
            [
             0.6666666666666666,
             "#ed7953"
            ],
            [
             0.7777777777777778,
             "#fb9f3a"
            ],
            [
             0.8888888888888888,
             "#fdca26"
            ],
            [
             1,
             "#f0f921"
            ]
           ],
           "sequentialminus": [
            [
             0,
             "#0d0887"
            ],
            [
             0.1111111111111111,
             "#46039f"
            ],
            [
             0.2222222222222222,
             "#7201a8"
            ],
            [
             0.3333333333333333,
             "#9c179e"
            ],
            [
             0.4444444444444444,
             "#bd3786"
            ],
            [
             0.5555555555555556,
             "#d8576b"
            ],
            [
             0.6666666666666666,
             "#ed7953"
            ],
            [
             0.7777777777777778,
             "#fb9f3a"
            ],
            [
             0.8888888888888888,
             "#fdca26"
            ],
            [
             1,
             "#f0f921"
            ]
           ]
          },
          "colorway": [
           "#636efa",
           "#EF553B",
           "#00cc96",
           "#ab63fa",
           "#FFA15A",
           "#19d3f3",
           "#FF6692",
           "#B6E880",
           "#FF97FF",
           "#FECB52"
          ],
          "font": {
           "color": "#2a3f5f"
          },
          "geo": {
           "bgcolor": "white",
           "lakecolor": "white",
           "landcolor": "#E5ECF6",
           "showlakes": true,
           "showland": true,
           "subunitcolor": "white"
          },
          "hoverlabel": {
           "align": "left"
          },
          "hovermode": "closest",
          "mapbox": {
           "style": "light"
          },
          "paper_bgcolor": "white",
          "plot_bgcolor": "#E5ECF6",
          "polar": {
           "angularaxis": {
            "gridcolor": "white",
            "linecolor": "white",
            "ticks": ""
           },
           "bgcolor": "#E5ECF6",
           "radialaxis": {
            "gridcolor": "white",
            "linecolor": "white",
            "ticks": ""
           }
          },
          "scene": {
           "xaxis": {
            "backgroundcolor": "#E5ECF6",
            "gridcolor": "white",
            "gridwidth": 2,
            "linecolor": "white",
            "showbackground": true,
            "ticks": "",
            "zerolinecolor": "white"
           },
           "yaxis": {
            "backgroundcolor": "#E5ECF6",
            "gridcolor": "white",
            "gridwidth": 2,
            "linecolor": "white",
            "showbackground": true,
            "ticks": "",
            "zerolinecolor": "white"
           },
           "zaxis": {
            "backgroundcolor": "#E5ECF6",
            "gridcolor": "white",
            "gridwidth": 2,
            "linecolor": "white",
            "showbackground": true,
            "ticks": "",
            "zerolinecolor": "white"
           }
          },
          "shapedefaults": {
           "line": {
            "color": "#2a3f5f"
           }
          },
          "ternary": {
           "aaxis": {
            "gridcolor": "white",
            "linecolor": "white",
            "ticks": ""
           },
           "baxis": {
            "gridcolor": "white",
            "linecolor": "white",
            "ticks": ""
           },
           "bgcolor": "#E5ECF6",
           "caxis": {
            "gridcolor": "white",
            "linecolor": "white",
            "ticks": ""
           }
          },
          "title": {
           "x": 0.05
          },
          "xaxis": {
           "automargin": true,
           "gridcolor": "white",
           "linecolor": "white",
           "ticks": "",
           "title": {
            "standoff": 15
           },
           "zerolinecolor": "white",
           "zerolinewidth": 2
          },
          "yaxis": {
           "automargin": true,
           "gridcolor": "white",
           "linecolor": "white",
           "ticks": "",
           "title": {
            "standoff": 15
           },
           "zerolinecolor": "white",
           "zerolinewidth": 2
          }
         }
        },
        "title": {
         "text": "Comparing # submissions 2021, 2022. 2023, and 2024"
        },
        "xaxis": {
         "title": {
          "text": "Areas"
         }
        }
       }
      }
     },
     "metadata": {},
     "output_type": "display_data"
    }
   ],
   "source": [
    "tmp = (submissions\n",
    "    .value_counts(['Area', 'FinalDecision', 'year'])\n",
    "    .reset_index()\n",
    "    .rename(columns = {0: 'count'})\n",
    ")\n",
    "\n",
    "data=[]\n",
    "count=0\n",
    "recent_years = [2021, 2022, 2023, 2024]\n",
    "for my_year in recent_years:\n",
    "    count=count+1\n",
    "    trace1=go.Bar(\n",
    "        x=tmp[tmp['year']==my_year][\"Area\"],\n",
    "        y=tmp[tmp['year']==my_year]['count'],\n",
    "        customdata = tmp[tmp['year']==my_year]['FinalDecision'],\n",
    "        hovertemplate=\"%{y} papers were %{customdata} in\",\n",
    "        name=f\"{my_year}\",\n",
    "        offsetgroup=count,\n",
    "    )\n",
    "    data.append(trace1)\n",
    "\n",
    "fig2 = go.Figure(\n",
    "    data=data,\n",
    "    layout=go.Layout(\n",
    "        title=\"Comparing # submissions 2021, 2022. 2023, and 2024\",\n",
    "        xaxis_title=\"Areas\"\n",
    "    )\n",
    ")\n",
    "fig2.show()"
   ]
  },
  {
   "cell_type": "markdown",
   "id": "cca77a25",
   "metadata": {},
   "source": [
    "Submissions across the (reformulated) areas are relatively stable between 2021 and 2024 with some notable exceptions. Applications has been a large area since the start of the area model (100 submissions in 2021), but has seen growth in 2023 (123 submissions) and especially in 2024 (149). Applications is hence three times as large as the smaller areas Data Transformations and Systems & Rendering, indicating an uneven load for the area paper chairs. \n",
    "\n",
    "The other larger areas, Theoretical & Empirical has seen a slight dip in 2024; while Representations & Interaction has seen a rise from 86 submissions to 108 papers. However, these numbers remain in the desired range of submissions handled by a team of APCs. \n"
   ]
  },
  {
   "cell_type": "markdown",
   "id": "0b1a47dc",
   "metadata": {
    "pycharm": {
     "name": "#%% md\n"
    }
   },
   "source": [
    "#### Acceptance Rates in Areas\n"
   ]
  },
  {
   "cell_type": "code",
   "execution_count": 76,
   "id": "746623f2",
   "metadata": {
    "pycharm": {
     "name": "#%%\n"
    }
   },
   "outputs": [
    {
     "data": {
      "application/vnd.plotly.v1+json": {
       "config": {
        "displayModeBar": false,
        "plotlyServerURL": "https://plot.ly",
        "responsive": false,
        "scrollZoom": false
       },
       "data": [
        {
         "alignmentgroup": "True",
         "customdata": [
          [
           "Reject"
          ],
          [
           "Reject"
          ],
          [
           "Reject"
          ],
          [
           "Reject"
          ]
         ],
         "hovertemplate": "%{y}% of submissions in %{x} have decision %{customdata[0]}<extra></extra>",
         "legendgroup": "Reject",
         "marker": {
          "color": "#4C78A8",
          "pattern": {
           "shape": ""
          }
         },
         "name": "Reject",
         "offsetgroup": "Reject",
         "orientation": "v",
         "showlegend": true,
         "text": [
          78.5,
          73.2,
          75.7,
          76
         ],
         "textposition": "auto",
         "type": "bar",
         "x": [
          2024,
          2023,
          2022,
          2021
         ],
         "xaxis": "x",
         "y": [
          78.5,
          73.2,
          75.7,
          76
         ],
         "yaxis": "y"
        },
        {
         "alignmentgroup": "True",
         "customdata": [
          [
           "Reject"
          ],
          [
           "Reject"
          ],
          [
           "Reject"
          ],
          [
           "Reject"
          ]
         ],
         "hovertemplate": "%{y}% of submissions in %{x} have decision %{customdata[0]}<extra></extra>",
         "legendgroup": "Reject",
         "marker": {
          "color": "#4C78A8",
          "pattern": {
           "shape": ""
          }
         },
         "name": "Reject",
         "offsetgroup": "Reject",
         "orientation": "v",
         "showlegend": false,
         "text": [
          73.2,
          72.1,
          68.4,
          71.8
         ],
         "textposition": "auto",
         "type": "bar",
         "x": [
          2023,
          2024,
          2022,
          2021
         ],
         "xaxis": "x2",
         "y": [
          73.2,
          72.1,
          68.4,
          71.8
         ],
         "yaxis": "y2"
        },
        {
         "alignmentgroup": "True",
         "customdata": [
          [
           "Reject"
          ],
          [
           "Reject"
          ],
          [
           "Reject"
          ],
          [
           "Reject"
          ]
         ],
         "hovertemplate": "%{y}% of submissions in %{x} have decision %{customdata[0]}<extra></extra>",
         "legendgroup": "Reject",
         "marker": {
          "color": "#4C78A8",
          "pattern": {
           "shape": ""
          }
         },
         "name": "Reject",
         "offsetgroup": "Reject",
         "orientation": "v",
         "showlegend": false,
         "text": [
          75,
          77.9,
          75.9,
          78.7
         ],
         "textposition": "auto",
         "type": "bar",
         "x": [
          2024,
          2023,
          2021,
          2022
         ],
         "xaxis": "x3",
         "y": [
          75,
          77.9,
          75.9,
          78.7
         ],
         "yaxis": "y3"
        },
        {
         "alignmentgroup": "True",
         "customdata": [
          [
           "Reject"
          ],
          [
           "Reject"
          ],
          [
           "Reject"
          ],
          [
           "Reject"
          ]
         ],
         "hovertemplate": "%{y}% of submissions in %{x} have decision %{customdata[0]}<extra></extra>",
         "legendgroup": "Reject",
         "marker": {
          "color": "#4C78A8",
          "pattern": {
           "shape": ""
          }
         },
         "name": "Reject",
         "offsetgroup": "Reject",
         "orientation": "v",
         "showlegend": false,
         "text": [
          77.7,
          80.5,
          83.1,
          76.9
         ],
         "textposition": "auto",
         "type": "bar",
         "x": [
          2022,
          2023,
          2024,
          2021
         ],
         "xaxis": "x4",
         "y": [
          77.7,
          80.5,
          83.1,
          76.9
         ],
         "yaxis": "y4"
        },
        {
         "alignmentgroup": "True",
         "customdata": [
          [
           "Reject"
          ],
          [
           "Reject"
          ],
          [
           "Reject"
          ],
          [
           "Reject"
          ]
         ],
         "hovertemplate": "%{y}% of submissions in %{x} have decision %{customdata[0]}<extra></extra>",
         "legendgroup": "Reject",
         "marker": {
          "color": "#4C78A8",
          "pattern": {
           "shape": ""
          }
         },
         "name": "Reject",
         "offsetgroup": "Reject",
         "orientation": "v",
         "showlegend": false,
         "text": [
          72.1,
          74.1,
          72.5,
          68.1
         ],
         "textposition": "auto",
         "type": "bar",
         "x": [
          2023,
          2021,
          2024,
          2022
         ],
         "xaxis": "x5",
         "y": [
          72.1,
          74.1,
          72.5,
          68.1
         ],
         "yaxis": "y5"
        },
        {
         "alignmentgroup": "True",
         "customdata": [
          [
           "Reject"
          ],
          [
           "Reject"
          ],
          [
           "Reject"
          ],
          [
           "Reject"
          ]
         ],
         "hovertemplate": "%{y}% of submissions in %{x} have decision %{customdata[0]}<extra></extra>",
         "legendgroup": "Reject",
         "marker": {
          "color": "#4C78A8",
          "pattern": {
           "shape": ""
          }
         },
         "name": "Reject",
         "offsetgroup": "Reject",
         "orientation": "v",
         "showlegend": false,
         "text": [
          83.3,
          66.7,
          76.1,
          72.1
         ],
         "textposition": "auto",
         "type": "bar",
         "x": [
          2024,
          2023,
          2021,
          2022
         ],
         "xaxis": "x6",
         "y": [
          83.3,
          66.7,
          76.1,
          72.1
         ],
         "yaxis": "y6"
        },
        {
         "alignmentgroup": "True",
         "customdata": [
          [
           "Accept"
          ],
          [
           "Accept"
          ],
          [
           "Accept"
          ],
          [
           "Accept"
          ]
         ],
         "hovertemplate": "%{y}% of submissions in %{x} have decision %{customdata[0]}<extra></extra>",
         "legendgroup": "Accept",
         "marker": {
          "color": "#F58518",
          "pattern": {
           "shape": ""
          }
         },
         "name": "Accept",
         "offsetgroup": "Accept",
         "orientation": "v",
         "showlegend": true,
         "text": [
          26.8,
          21.5,
          24.3,
          24
         ],
         "textposition": "auto",
         "type": "bar",
         "x": [
          2023,
          2024,
          2022,
          2021
         ],
         "xaxis": "x",
         "y": [
          26.8,
          21.5,
          24.3,
          24
         ],
         "yaxis": "y"
        },
        {
         "alignmentgroup": "True",
         "customdata": [
          [
           "Accept"
          ],
          [
           "Accept"
          ],
          [
           "Accept"
          ],
          [
           "Accept"
          ]
         ],
         "hovertemplate": "%{y}% of submissions in %{x} have decision %{customdata[0]}<extra></extra>",
         "legendgroup": "Accept",
         "marker": {
          "color": "#F58518",
          "pattern": {
           "shape": ""
          }
         },
         "name": "Accept",
         "offsetgroup": "Accept",
         "orientation": "v",
         "showlegend": false,
         "text": [
          26.8,
          31.6,
          27.9,
          28.2
         ],
         "textposition": "auto",
         "type": "bar",
         "x": [
          2023,
          2022,
          2024,
          2021
         ],
         "xaxis": "x2",
         "y": [
          26.8,
          31.6,
          27.9,
          28.2
         ],
         "yaxis": "y2"
        },
        {
         "alignmentgroup": "True",
         "customdata": [
          [
           "Accept"
          ],
          [
           "Accept"
          ],
          [
           "Accept"
          ],
          [
           "Accept"
          ]
         ],
         "hovertemplate": "%{y}% of submissions in %{x} have decision %{customdata[0]}<extra></extra>",
         "legendgroup": "Accept",
         "marker": {
          "color": "#F58518",
          "pattern": {
           "shape": ""
          }
         },
         "name": "Accept",
         "offsetgroup": "Accept",
         "orientation": "v",
         "showlegend": false,
         "text": [
          22.2,
          24.1,
          22.1,
          21.3
         ],
         "textposition": "auto",
         "type": "bar",
         "x": [
          2024,
          2021,
          2023,
          2022
         ],
         "xaxis": "x3",
         "y": [
          22.2,
          24.1,
          22.1,
          21.3
         ],
         "yaxis": "y3"
        },
        {
         "alignmentgroup": "True",
         "customdata": [
          [
           "Accept"
          ],
          [
           "Accept"
          ],
          [
           "Accept"
          ],
          [
           "Accept"
          ]
         ],
         "hovertemplate": "%{y}% of submissions in %{x} have decision %{customdata[0]}<extra></extra>",
         "legendgroup": "Accept",
         "marker": {
          "color": "#F58518",
          "pattern": {
           "shape": ""
          }
         },
         "name": "Accept",
         "offsetgroup": "Accept",
         "orientation": "v",
         "showlegend": false,
         "text": [
          22.3,
          23.1,
          19.5,
          16.9
         ],
         "textposition": "auto",
         "type": "bar",
         "x": [
          2022,
          2021,
          2023,
          2024
         ],
         "xaxis": "x4",
         "y": [
          22.3,
          23.1,
          19.5,
          16.9
         ],
         "yaxis": "y4"
        },
        {
         "alignmentgroup": "True",
         "customdata": [
          [
           "Accept"
          ],
          [
           "Accept"
          ],
          [
           "Accept"
          ],
          [
           "Accept"
          ]
         ],
         "hovertemplate": "%{y}% of submissions in %{x} have decision %{customdata[0]}<extra></extra>",
         "legendgroup": "Accept",
         "marker": {
          "color": "#F58518",
          "pattern": {
           "shape": ""
          }
         },
         "name": "Accept",
         "offsetgroup": "Accept",
         "orientation": "v",
         "showlegend": false,
         "text": [
          27.9,
          31.9,
          27.5,
          25.9
         ],
         "textposition": "auto",
         "type": "bar",
         "x": [
          2023,
          2022,
          2024,
          2021
         ],
         "xaxis": "x5",
         "y": [
          27.9,
          31.9,
          27.5,
          25.9
         ],
         "yaxis": "y5"
        },
        {
         "alignmentgroup": "True",
         "customdata": [
          [
           "Accept"
          ],
          [
           "Accept"
          ],
          [
           "Accept"
          ],
          [
           "Accept"
          ]
         ],
         "hovertemplate": "%{y}% of submissions in %{x} have decision %{customdata[0]}<extra></extra>",
         "legendgroup": "Accept",
         "marker": {
          "color": "#F58518",
          "pattern": {
           "shape": ""
          }
         },
         "name": "Accept",
         "offsetgroup": "Accept",
         "orientation": "v",
         "showlegend": false,
         "text": [
          33.3,
          27.9,
          23.9,
          16.7
         ],
         "textposition": "auto",
         "type": "bar",
         "x": [
          2023,
          2022,
          2021,
          2024
         ],
         "xaxis": "x6",
         "y": [
          33.3,
          27.9,
          23.9,
          16.7
         ],
         "yaxis": "y6"
        },
        {
         "alignmentgroup": "True",
         "customdata": [
          [
           "R2-S"
          ]
         ],
         "hovertemplate": "%{y}% of submissions in %{x} have decision %{customdata[0]}<extra></extra>",
         "legendgroup": "R2-S",
         "marker": {
          "color": "#E45756",
          "pattern": {
           "shape": ""
          }
         },
         "name": "R2-S",
         "offsetgroup": "R2-S",
         "orientation": "v",
         "showlegend": true,
         "text": [
          2.8
         ],
         "textposition": "auto",
         "type": "bar",
         "x": [
          2024
         ],
         "xaxis": "x3",
         "y": [
          2.8
         ],
         "yaxis": "y3"
        }
       ],
       "layout": {
        "annotations": [
         {
          "showarrow": false,
          "text": "Applications",
          "x": 0.05833333333333333,
          "xanchor": "center",
          "xref": "paper",
          "y": 1,
          "yanchor": "bottom",
          "yref": "paper"
         },
         {
          "showarrow": false,
          "text": "Theoretical & Empirical",
          "x": 0.23499999999999996,
          "xanchor": "center",
          "xref": "paper",
          "y": 1,
          "yanchor": "bottom",
          "yref": "paper",
          "yshift": -15
         },
         {
          "showarrow": false,
          "text": "Representations & Interaction",
          "x": 0.4116666666666666,
          "xanchor": "center",
          "xref": "paper",
          "y": 1,
          "yanchor": "bottom",
          "yref": "paper"
         },
         {
          "showarrow": false,
          "text": "Analytics & Decisions",
          "x": 0.5883333333333334,
          "xanchor": "center",
          "xref": "paper",
          "y": 1,
          "yanchor": "bottom",
          "yref": "paper",
          "yshift": -15
         },
         {
          "showarrow": false,
          "text": "Data Transformations",
          "x": 0.7649999999999999,
          "xanchor": "center",
          "xref": "paper",
          "y": 1,
          "yanchor": "bottom",
          "yref": "paper"
         },
         {
          "showarrow": false,
          "text": "Systems & Rendering",
          "x": 0.9416666666666667,
          "xanchor": "center",
          "xref": "paper",
          "y": 1,
          "yanchor": "bottom",
          "yref": "paper",
          "yshift": -15
         },
         {
          "font": {
           "color": "Black",
           "size": 12
          },
          "showarrow": false,
          "text": "75% Threshold",
          "x": 1,
          "xanchor": "left",
          "xref": "paper",
          "y": 75,
          "yanchor": "middle",
          "yref": "y"
         }
        ],
        "barmode": "stack",
        "height": 600,
        "legend": {
         "title": {
          "text": "FinalDecision"
         },
         "tracegroupgap": 0,
         "x": 1.08,
         "xanchor": "left",
         "y": 1,
         "yanchor": "top"
        },
        "margin": {
         "t": 60
        },
        "shapes": [
         {
          "line": {
           "color": "Darkgray",
           "width": 2
          },
          "type": "line",
          "x0": 0,
          "x1": 1,
          "xref": "paper",
          "y0": 75,
          "y1": 75,
          "yref": "y"
         }
        ],
        "template": {
         "data": {
          "bar": [
           {
            "insidetextanchor": "middle",
            "textfont": {
             "size": 12
            },
            "textposition": "inside",
            "type": "bar"
           }
          ]
         },
         "layout": {
          "colorway": [
           "#4C78A8",
           "#F58518",
           "#E45756",
           "#72B7B2",
           "#54A24B",
           "#EECA3B",
           "#B279A2",
           "#FF9DA6",
           "#9D755D",
           "#BAB0AC"
          ],
          "font": {
           "color": "black",
           "family": "Fira Sans",
           "size": 13
          },
          "hoverlabel": {
           "bgcolor": "white",
           "bordercolor": "lightgray",
           "font": {
            "color": "black",
            "family": "Fira Sans"
           }
          },
          "hovermode": "closest",
          "legend": {
           "title": {
            "font": {
             "family": "Fira Sans Medium"
            }
           }
          },
          "margin": {
           "pad": 10
          },
          "paper_bgcolor": "rgba(255,255,255,0)",
          "plot_bgcolor": "rgba(255,255,255,0)",
          "title": {
           "font": {
            "size": 14
           }
          },
          "xaxis": {
           "automargin": true,
           "fixedrange": true,
           "gridcolor": "lightgray",
           "gridwidth": 1,
           "title": {
            "font": {
             "family": "Fira Sans Medium",
             "size": 13
            },
            "standoff": 10
           }
          },
          "yaxis": {
           "automargin": true,
           "fixedrange": true,
           "gridcolor": "lightgray",
           "gridwidth": 1,
           "title": {
            "font": {
             "family": "Fira Sans Medium",
             "size": 13
            },
            "standoff": 10
           }
          }
         }
        },
        "title": {
         "text": "Submissions by area and year"
        },
        "width": 750,
        "xaxis": {
         "anchor": "y",
         "categoryarray": [
          2021,
          2022,
          2023,
          2024
         ],
         "categoryorder": "array",
         "domain": [
          0,
          0.11666666666666665
         ],
         "title": {
          "text": "year"
         },
         "type": "category"
        },
        "xaxis2": {
         "anchor": "y2",
         "categoryarray": [
          2021,
          2022,
          2023,
          2024
         ],
         "categoryorder": "array",
         "domain": [
          0.17666666666666664,
          0.2933333333333333
         ],
         "matches": "x",
         "title": {
          "text": "year"
         },
         "type": "category"
        },
        "xaxis3": {
         "anchor": "y3",
         "categoryarray": [
          2021,
          2022,
          2023,
          2024
         ],
         "categoryorder": "array",
         "domain": [
          0.3533333333333333,
          0.4699999999999999
         ],
         "matches": "x",
         "title": {
          "text": "year"
         },
         "type": "category"
        },
        "xaxis4": {
         "anchor": "y4",
         "categoryarray": [
          2021,
          2022,
          2023,
          2024
         ],
         "categoryorder": "array",
         "domain": [
          0.53,
          0.6466666666666667
         ],
         "matches": "x",
         "title": {
          "text": "year"
         },
         "type": "category"
        },
        "xaxis5": {
         "anchor": "y5",
         "categoryarray": [
          2021,
          2022,
          2023,
          2024
         ],
         "categoryorder": "array",
         "domain": [
          0.7066666666666666,
          0.8233333333333333
         ],
         "matches": "x",
         "title": {
          "text": "year"
         },
         "type": "category"
        },
        "xaxis6": {
         "anchor": "y6",
         "categoryarray": [
          2021,
          2022,
          2023,
          2024
         ],
         "categoryorder": "array",
         "domain": [
          0.8833333333333333,
          1
         ],
         "matches": "x",
         "title": {
          "text": "year"
         },
         "type": "category"
        },
        "yaxis": {
         "anchor": "x",
         "domain": [
          0,
          1
         ],
         "title": {
          "text": "percentage"
         }
        },
        "yaxis2": {
         "anchor": "x2",
         "domain": [
          0,
          1
         ],
         "matches": "y",
         "showticklabels": false
        },
        "yaxis3": {
         "anchor": "x3",
         "domain": [
          0,
          1
         ],
         "matches": "y",
         "showticklabels": false
        },
        "yaxis4": {
         "anchor": "x4",
         "domain": [
          0,
          1
         ],
         "matches": "y",
         "showticklabels": false
        },
        "yaxis5": {
         "anchor": "x5",
         "domain": [
          0,
          1
         ],
         "matches": "y",
         "showticklabels": false
        },
        "yaxis6": {
         "anchor": "x6",
         "domain": [
          0,
          1
         ],
         "matches": "y",
         "showticklabels": false
        }
       }
      }
     },
     "metadata": {},
     "output_type": "display_data"
    }
   ],
   "source": [
    "recent_submissions = submissions[submissions['year'] != 2020]\n",
    "tmptotal = (recent_submissions\n",
    "    .value_counts(['Area', 'year'])\n",
    "    .reset_index()\n",
    "    .rename(columns = {'count': 'total'})\n",
    ")\n",
    "tmp = (recent_submissions\n",
    "    .value_counts(['Area', 'FinalDecision', 'year'])\n",
    "    .reset_index()\n",
    "    # .rename(columns = {0: 'count'})\n",
    ")\n",
    "tmpfinal = pd.merge(left=tmp, right=tmptotal, on=['Area','year'])\n",
    "tmpfinal['percentage']= round(tmpfinal['count']/tmpfinal['total'] *1000)/10.0\n",
    "fig = px.bar(tmpfinal,\n",
    "    x = 'year',\n",
    "    y = 'percentage',\n",
    "    barmode = 'stack',\n",
    "    orientation = 'v',\n",
    "    color = 'FinalDecision',\n",
    "    text = 'percentage',\n",
    "    custom_data = ['FinalDecision'],\n",
    "    facet_col='Area',\n",
    "    category_orders = {\"year\": [2021,2022, 2023, 2024]},\n",
    "    facet_col_spacing=0.06, # default is 0.03\n",
    "    ).update_layout(\n",
    "        title = 'Submissions by area and year',\n",
    "        xaxis_title = 'year',\n",
    "        legend=dict(\n",
    "            yanchor=\"top\",\n",
    "            y=1,  # Adjust legends y-position\n",
    "            xanchor=\"left\",\n",
    "            x=1.08,  # ... and x-position to avoid overlapping\n",
    "        ),\n",
    "        **aspect(0.8)\n",
    "    ).update_xaxes(type='category').update_traces(\n",
    "        hovertemplate = '%{y}% of submissions in %{x} have decision %{customdata[0]}<extra></extra>',\n",
    "    )\n",
    "fig.for_each_annotation(lambda a: a.update(text=a.text.split(\"=\")[-1]))\n",
    "for i,a in enumerate(fig.layout.annotations):\n",
    "    if (i%2):\n",
    "        a.update(yshift=-15)\n",
    "\n",
    "# Add horizontal line at 75% for each subplot\n",
    "fig.add_shape(\n",
    "    type=\"line\",\n",
    "    x0=0, x1=1,  # from the left to the right of the plot\n",
    "    y0=75, y1=75,  # at y = 75% on the y-axis\n",
    "    xref='paper',  # relative to the entire plot width\n",
    "    yref='y',  # relative to the y-axis\n",
    "    line=dict(color=\"Darkgray\", width=2),\n",
    ")\n",
    "# Add a label next to the line at 75%\n",
    "fig.add_annotation(\n",
    "    x=1,  # Position near the end of the plot (right side)\n",
    "    y=75,  # Position at 75% on the y-axis\n",
    "    xref='paper',  # Relative to the entire plot width\n",
    "    yref='y',  # Relative to the y-axis\n",
    "    text=\"75% Threshold\",  # The label text\n",
    "    showarrow=False,  # No arrow, just text\n",
    "    font=dict(size=12, color=\"Black\"),  # Customize the font size and color\n",
    "    xanchor='left',  # Anchor the text to the left side of the x-position\n",
    "    yanchor='middle'  # Center the text vertically on the y-position\n",
    ")\n",
    "fig.show(config=config)"
   ]
  },
  {
   "cell_type": "markdown",
   "id": "df19aa5f",
   "metadata": {},
   "source": [
    "Acceptance rates have been fairly consistent across areas in 2021, but not so in 2022, 2023, and 2024. \n",
    "\n",
    "Generally, Theoretical & Empirical seems to have higher acceptance rates than other areas. **Analytics & Decisions** seems to become substantially more selective every year, accepting only 16.9% of all submissions in 2024. Systems & Rendering fluctuates over time, with 33.3% accepted in 2023 but only 16.7% in 2024. It is notable that Systems & Rendering is one of the smallest areas, hence, these fluctiations are caused by a relatively small number of papers. "
   ]
  },
  {
   "cell_type": "markdown",
   "id": "42e8aab2",
   "metadata": {
    "pycharm": {
     "name": "#%% md\n"
    }
   },
   "source": [
    "#### Keywords \n",
    "\n",
    "And frequencies of the use of keywords range from 5 to 120. The keywords with the highest number of occurrences are not very useful for categorizing papers, but they are very meaningful, and differentiation works effectively with accompanying keywords.  We believe that having five papers that use a keyword is sufficient to warrant retaining it. \n"
   ]
  },
  {
   "cell_type": "code",
   "execution_count": 81,
   "id": "e000b436",
   "metadata": {},
   "outputs": [
    {
     "data": {
      "application/vnd.plotly.v1+json": {
       "config": {
        "displayModeBar": false,
        "plotlyServerURL": "https://plot.ly",
        "responsive": false,
        "scrollZoom": false
       },
       "data": [
        {
         "hovertemplate": "'%{x}' specified in %{y} submissions<extra></extra>",
         "legendgroup": "2024",
         "marker": {
          "color": "#4C78A8",
          "symbol": "circle"
         },
         "mode": "markers",
         "name": "2024",
         "orientation": "h",
         "showlegend": true,
         "type": "scatter",
         "x": [
          4.906808672499049,
          4.678585013313047,
          3.765690376569038,
          3.689615823507037,
          3.575503993914036,
          3.2712057816660325,
          3.1190566755420313,
          2.8527957398250288,
          2.396348421453024,
          2.1681247622670217,
          2.1300874857360212,
          2.092050209205021,
          2.092050209205021,
          2.0540129326740204,
          2.0540129326740204,
          1.9399011030810196,
          1.9399011030810196,
          1.9399011030810196,
          1.901863826550019,
          1.8257892734880183,
          1.8257892734880183,
          1.8257892734880183,
          1.787751996957018,
          1.7116774438950173,
          1.6736401673640167,
          1.6736401673640167,
          1.6356028908330162,
          1.6356028908330162,
          1.5595283377710156,
          1.5595283377710156,
          1.5595283377710156,
          1.5214910612400152,
          1.5214910612400152,
          1.3693419551160138,
          1.3693419551160138,
          1.293267402054013,
          1.2552301255230125,
          1.1791555724610117,
          1.0270064663370102,
          0.9889691898060099,
          0.9509319132750095,
          0.9128946367440092,
          0.8748573602130088,
          0.8368200836820083,
          0.798782807151008,
          0.798782807151008,
          0.7227082540890073,
          0.7227082540890073,
          0.6846709775580069,
          0.6466337010270065,
          0.6466337010270065,
          0.6085964244960061,
          0.6085964244960061,
          0.5325218714340053,
          0.5325218714340053,
          0.49448459490300495,
          0.49448459490300495,
          0.4564473183720046,
          0.41841004184100417,
          0.3803727653100038,
          0.3803727653100038,
          0.34233548877900344,
          0.34233548877900344,
          0.34233548877900344,
          0.34233548877900344,
          0.26626093571700266,
          0.2282236591860023,
          0.15214910612400154,
          0.07607455306200077,
          0.038037276531000384
         ],
         "xaxis": "x",
         "y": [
          "Application",
          "AnalyzeDecide",
          "ML",
          "HumanQual",
          "VisDesign",
          "MLStatsModel",
          "HumanQuant",
          "Algorithm",
          "Time",
          "Perception",
          "SocHum",
          "Features",
          "Network",
          "Charts",
          "Storytelling",
          "HD",
          "Methodology",
          "Text",
          "LifeBio",
          "Software",
          "Theory",
          "Displays",
          "ImageVideo",
          "MultiView",
          "NAApp",
          "Workflow",
          "GenPublic",
          "MixedInit",
          "Geospatial",
          "Comparison",
          "Guidelines",
          "Scalar",
          "Tabular",
          "CompBenchmark",
          "Interaction",
          "Domain_Task",
          "DimRed",
          "BigData",
          "CompSystems",
          "ClusterAgg",
          "Uncertainty",
          "ScienceEngr",
          "Systems",
          "CompTop",
          "Datasets",
          "DataAbstr",
          "DataMgmt",
          "NAData",
          "OtherApp",
          "Models",
          "Maps",
          "Collab",
          "Color",
          "Graphics",
          "Art",
          "OtherData",
          "ImageProcessing",
          "Motion",
          "Flow",
          "Volumes",
          "Vector_Tensor",
          "Math",
          "MultiRes",
          "Deployment",
          "PersonalVis",
          "Isosurfaces",
          "STAR",
          "OtherTopic",
          "Hardware",
          "OtherContrib"
         ],
         "yaxis": "y"
        },
        {
         "hovertemplate": "'%{x}' specified in %{y} submissions<extra></extra>",
         "legendgroup": "2023",
         "marker": {
          "color": "#F58518",
          "symbol": "circle"
         },
         "mode": "markers",
         "name": "2023",
         "orientation": "h",
         "showlegend": true,
         "type": "scatter",
         "x": [
          5.2493438320209975,
          4.611923509561304,
          3.374578177727784,
          3.149606299212598,
          3.0371203599550056,
          2.924634420697413,
          2.924634420697413,
          2.699662542182227,
          2.3997000374953132,
          2.3997000374953132,
          2.324709411323585,
          2.1747281589801273,
          2.099737532808399,
          1.9122609673790776,
          1.8747656542932134,
          1.837270341207349,
          1.837270341207349,
          1.837270341207349,
          1.799775028121485,
          1.799775028121485,
          1.687289088863892,
          1.687289088863892,
          1.687289088863892,
          1.6497937757780277,
          1.6497937757780277,
          1.6122984626921637,
          1.574803149606299,
          1.4998125234345707,
          1.4998125234345707,
          1.4623172103487065,
          1.4248218972628421,
          1.4248218972628421,
          1.3873265841769777,
          1.3498312710911136,
          1.3123359580052494,
          1.3123359580052494,
          1.2373453318335208,
          1.2373453318335208,
          1.1998500187476566,
          1.1623547056617924,
          1.1623547056617924,
          1.0873640794900636,
          1.0123734533183353,
          0.974878140232471,
          0.8998875140607425,
          0.8998875140607425,
          0.8623922009748781,
          0.8623922009748781,
          0.7874015748031495,
          0.7499062617172854,
          0.7499062617172854,
          0.7124109486314211,
          0.6749156355455568,
          0.6749156355455568,
          0.6749156355455568,
          0.6374203224596925,
          0.5999250093738283,
          0.5999250093738283,
          0.5999250093738283,
          0.44994375703037126,
          0.4124484439445069,
          0.4124484439445069,
          0.3374578177727784,
          0.29996250468691416,
          0.29996250468691416,
          0.29996250468691416,
          0.29996250468691416,
          0.26246719160104987,
          0.22497187851518563,
          0.14998125234345708
         ],
         "xaxis": "x",
         "y": [
          "Application",
          "AnalyzeDecide",
          "Algorithm",
          "HumanQuant",
          "ML",
          "VisDesign",
          "HumanQual",
          "Time",
          "MLStatsModel",
          "SocHum",
          "Charts",
          "Network",
          "Features",
          "HD",
          "Storytelling",
          "MultiView",
          "Scalar",
          "Perception",
          "Methodology",
          "Displays",
          "Theory",
          "Geospatial",
          "Comparison",
          "Interaction",
          "Guidelines",
          "Software",
          "Tabular",
          "NAApp",
          "GenPublic",
          "ImageVideo",
          "Workflow",
          "LifeBio",
          "DataAbstr",
          "MixedInit",
          "BigData",
          "Text",
          "DimRed",
          "ScienceEngr",
          "Models",
          "Domain_Task",
          "ClusterAgg",
          "CompBenchmark",
          "NAData",
          "OtherApp",
          "Uncertainty",
          "CompTop",
          "DataMgmt",
          "Systems",
          "MultiRes",
          "CompSystems",
          "Vector_Tensor",
          "Graphics",
          "Flow",
          "Maps",
          "Volumes",
          "Collab",
          "Color",
          "Datasets",
          "Motion",
          "Math",
          "ImageProcessing",
          "OtherTopic",
          "Deployment",
          "STAR",
          "Isosurfaces",
          "OtherContrib",
          "OtherData",
          "PersonalVis",
          "Art",
          "Hardware"
         ],
         "yaxis": "y"
        },
        {
         "hovertemplate": "'%{x}' specified in %{y} submissions<extra></extra>",
         "legendgroup": "2022",
         "marker": {
          "color": "#E45756",
          "symbol": "circle"
         },
         "mode": "markers",
         "name": "2022",
         "orientation": "h",
         "showlegend": true,
         "type": "scatter",
         "x": [
          5.4469273743016755,
          4.981378026070764,
          3.7709497206703912,
          3.4916201117318435,
          3.165735567970205,
          3.026070763500931,
          3.026070763500931,
          2.9329608938547485,
          2.793296089385475,
          2.5139664804469275,
          2.3277467411545625,
          2.281191806331471,
          2.2346368715083798,
          2.1415270018621975,
          2.0484171322160147,
          2.001862197392924,
          1.86219739292365,
          1.86219739292365,
          1.8156424581005588,
          1.8156424581005588,
          1.7690875232774672,
          1.7690875232774672,
          1.7690875232774672,
          1.5828677839851024,
          1.536312849162011,
          1.536312849162011,
          1.536312849162011,
          1.3966480446927374,
          1.350093109869646,
          1.303538175046555,
          1.303538175046555,
          1.2104283054003724,
          1.1638733705772812,
          1.1638733705772812,
          1.1173184357541899,
          1.0707635009310987,
          1.0242085661080074,
          1.0242085661080074,
          0.9776536312849162,
          0.931098696461825,
          0.931098696461825,
          0.931098696461825,
          0.8845437616387336,
          0.8845437616387336,
          0.8379888268156425,
          0.7914338919925512,
          0.7914338919925512,
          0.7914338919925512,
          0.7914338919925512,
          0.7914338919925512,
          0.74487895716946,
          0.74487895716946,
          0.74487895716946,
          0.74487895716946,
          0.6052141527001862,
          0.6052141527001862,
          0.5121042830540037,
          0.5121042830540037,
          0.5121042830540037,
          0.5121042830540037,
          0.4655493482309125,
          0.4655493482309125,
          0.41899441340782123,
          0.37243947858473,
          0.3258845437616387,
          0.3258845437616387,
          0.3258845437616387,
          0.3258845437616387,
          0.13966480446927373,
          0.0931098696461825
         ],
         "xaxis": "x",
         "y": [
          "Application",
          "AnalyzeDecide",
          "ML",
          "Algorithm",
          "VisDesign",
          "HumanQuant",
          "Time",
          "HumanQual",
          "MLStatsModel",
          "Charts",
          "Storytelling",
          "GenPublic",
          "SocHum",
          "Network",
          "MultiView",
          "Perception",
          "Features",
          "MixedInit",
          "Theory",
          "HD",
          "LifeBio",
          "Workflow",
          "Software",
          "Scalar",
          "Tabular",
          "Guidelines",
          "ImageVideo",
          "ScienceEngr",
          "Methodology",
          "Interaction",
          "Geospatial",
          "BigData",
          "Models",
          "NAApp",
          "DataAbstr",
          "NAData",
          "Systems",
          "DimRed",
          "Text",
          "Comparison",
          "Uncertainty",
          "CompTop",
          "Displays",
          "CompSystems",
          "ClusterAgg",
          "Vector_Tensor",
          "Art",
          "Collab",
          "Graphics",
          "CompBenchmark",
          "Domain_Task",
          "Flow",
          "OtherApp",
          "DataMgmt",
          "Maps",
          "PersonalVis",
          "MultiRes",
          "OtherData",
          "Math",
          "Volumes",
          "Motion",
          "OtherTopic",
          "ImageProcessing",
          "Datasets",
          "STAR",
          "Isosurfaces",
          "OtherContrib",
          "Color",
          "Deployment",
          "Hardware"
         ],
         "yaxis": "y"
        },
        {
         "hovertemplate": "'%{x}' specified in %{y} submissions<extra></extra>",
         "legendgroup": "2021",
         "marker": {
          "color": "#72B7B2",
          "symbol": "circle"
         },
         "mode": "markers",
         "name": "2021",
         "orientation": "h",
         "showlegend": true,
         "type": "scatter",
         "x": [
          5.186915887850467,
          4.205607476635514,
          3.411214953271028,
          3.2242990654205608,
          3.08411214953271,
          3.0373831775700935,
          2.9439252336448596,
          2.663551401869159,
          2.6168224299065423,
          2.383177570093458,
          2.196261682242991,
          2.196261682242991,
          2.0560747663551404,
          2.0093457943925235,
          2.0093457943925235,
          2.0093457943925235,
          1.9158878504672898,
          1.9158878504672898,
          1.8691588785046727,
          1.7757009345794394,
          1.7757009345794394,
          1.7757009345794394,
          1.7289719626168223,
          1.7289719626168223,
          1.6822429906542056,
          1.6822429906542056,
          1.6355140186915886,
          1.6355140186915886,
          1.588785046728972,
          1.4953271028037385,
          1.4485981308411215,
          1.4485981308411215,
          1.355140186915888,
          1.355140186915888,
          1.3084112149532712,
          1.2616822429906542,
          1.2149532710280373,
          1.1214953271028036,
          1.1214953271028036,
          1.1214953271028036,
          1.074766355140187,
          0.9813084112149533,
          0.9345794392523363,
          0.9345794392523363,
          0.8878504672897197,
          0.8411214953271028,
          0.8411214953271028,
          0.794392523364486,
          0.794392523364486,
          0.7476635514018692,
          0.7476635514018692,
          0.7009345794392523,
          0.6074766355140186,
          0.6074766355140186,
          0.5607476635514018,
          0.5607476635514018,
          0.5607476635514018,
          0.5607476635514018,
          0.5607476635514018,
          0.5140186915887851,
          0.5140186915887851,
          0.4205607476635514,
          0.3738317757009346,
          0.3738317757009346,
          0.3271028037383178,
          0.3271028037383178,
          0.23364485981308408,
          0.23364485981308408,
          0.1869158878504673
         ],
         "xaxis": "x",
         "y": [
          "Application",
          "AnalyzeDecide",
          "ML",
          "VisDesign",
          "Algorithm",
          "MLStatsModel",
          "HumanQuant",
          "Time",
          "HumanQual",
          "MultiView",
          "SocHum",
          "Charts",
          "NAApp",
          "Theory",
          "Storytelling",
          "Network",
          "HD",
          "ClusterAgg",
          "ImageVideo",
          "GenPublic",
          "Interaction",
          "Workflow",
          "Features",
          "Tabular",
          "Methodology",
          "Perception",
          "DimRed",
          "Software",
          "LifeBio",
          "Comparison",
          "Scalar",
          "Geospatial",
          "BigData",
          "Text",
          "ScienceEngr",
          "Displays",
          "MixedInit",
          "DataAbstr",
          "OtherApp",
          "Models",
          "NAData",
          "MultiRes",
          "CompSystems",
          "OtherData",
          "Systems",
          "Guidelines",
          "Art",
          "Color",
          "Uncertainty",
          "Domain_Task",
          "Motion",
          "DataMgmt",
          "Flow",
          "OtherTopic",
          "Vector_Tensor",
          "CompBenchmark",
          "Graphics",
          "CompTop",
          "Datasets",
          "Maps",
          "PersonalVis",
          "ImageProcessing",
          "STAR",
          "Collab",
          "Volumes",
          "Math",
          "Deployment",
          "OtherContrib",
          "Hardware"
         ],
         "yaxis": "y"
        },
        {
         "hovertemplate": "'%{x}' specified in %{y} submissions<extra></extra>",
         "legendgroup": "2020",
         "marker": {
          "color": "#54A24B",
          "symbol": "circle"
         },
         "mode": "markers",
         "name": "2020",
         "orientation": "h",
         "showlegend": true,
         "type": "scatter",
         "x": [
          5.821138211382114,
          4.32520325203252,
          4.2926829268292686,
          4.195121951219512,
          2.959349593495935,
          2.9268292682926833,
          2.861788617886179,
          2.731707317073171,
          2.666666666666667,
          2.4715447154471546,
          2.341463414634146,
          2.2764227642276422,
          2.178861788617886,
          2.178861788617886,
          2.1463414634146343,
          2.113821138211382,
          2.08130081300813,
          1.8861788617886182,
          1.788617886178862,
          1.6585365853658538,
          1.6260162601626018,
          1.6260162601626018,
          1.5934959349593496,
          1.5934959349593496,
          1.4634146341463417,
          1.3983739837398375,
          1.3658536585365855,
          1.3333333333333335,
          1.3333333333333335,
          1.2682926829268293,
          1.2682926829268293,
          1.2032520325203253,
          1.2032520325203253,
          1.2032520325203253,
          1.170731707317073,
          1.1382113821138211,
          1.1056910569105691,
          1.040650406504065,
          1.040650406504065,
          0.975609756097561,
          0.9430894308943091,
          0.9430894308943091,
          0.9430894308943091,
          0.9105691056910569,
          0.878048780487805,
          0.8455284552845529,
          0.8455284552845529,
          0.8130081300813009,
          0.7804878048780488,
          0.7479674796747967,
          0.7479674796747967,
          0.6829268292682927,
          0.6829268292682927,
          0.6829268292682927,
          0.6829268292682927,
          0.6178861788617886,
          0.6178861788617886,
          0.5853658536585366,
          0.5528455284552846,
          0.4878048780487805,
          0.42276422764227645,
          0.3902439024390244,
          0.3902439024390244,
          0.3902439024390244,
          0.35772357723577236,
          0.3252032520325203,
          0.2926829268292683,
          0.22764227642276422,
          0.1951219512195122,
          0.16260162601626016
         ],
         "xaxis": "x",
         "y": [
          "Application",
          "Algorithm",
          "AnalyzeDecide",
          "Time",
          "ML",
          "HumanQuant",
          "HumanQual",
          "MultiView",
          "VisDesign",
          "MLStatsModel",
          "Charts",
          "Features",
          "Network",
          "Perception",
          "Geospatial",
          "HD",
          "SocHum",
          "Comparison",
          "NAApp",
          "DimRed",
          "Software",
          "ClusterAgg",
          "LifeBio",
          "ScienceEngr",
          "DataAbstr",
          "Text",
          "Storytelling",
          "Scalar",
          "Guidelines",
          "GenPublic",
          "Theory",
          "Tabular",
          "Methodology",
          "MixedInit",
          "BigData",
          "Workflow",
          "NAData",
          "Vector_Tensor",
          "Displays",
          "MultiRes",
          "Interaction",
          "OtherApp",
          "CompBenchmark",
          "Models",
          "ImageVideo",
          "Flow",
          "Maps",
          "Domain_Task",
          "OtherData",
          "Uncertainty",
          "CompSystems",
          "Volumes",
          "DataMgmt",
          "Color",
          "Graphics",
          "Systems",
          "CompTop",
          "Math",
          "Datasets",
          "OtherTopic",
          "PersonalVis",
          "ImageProcessing",
          "Collab",
          "Motion",
          "Art",
          "Deployment",
          "OtherContrib",
          "STAR",
          "Isosurfaces",
          "Hardware"
         ],
         "yaxis": "y"
        }
       ],
       "layout": {
        "height": 750,
        "hovermode": "closest",
        "legend": {
         "title": {
          "text": "Year"
         },
         "tracegroupgap": 0
        },
        "margin": {
         "t": 60
        },
        "template": {
         "data": {
          "bar": [
           {
            "insidetextanchor": "middle",
            "textfont": {
             "size": 12
            },
            "textposition": "inside",
            "type": "bar"
           }
          ]
         },
         "layout": {
          "colorway": [
           "#4C78A8",
           "#F58518",
           "#E45756",
           "#72B7B2",
           "#54A24B",
           "#EECA3B",
           "#B279A2",
           "#FF9DA6",
           "#9D755D",
           "#BAB0AC"
          ],
          "font": {
           "color": "black",
           "family": "Fira Sans",
           "size": 13
          },
          "hoverlabel": {
           "bgcolor": "white",
           "bordercolor": "lightgray",
           "font": {
            "color": "black",
            "family": "Fira Sans"
           }
          },
          "hovermode": "closest",
          "legend": {
           "title": {
            "font": {
             "family": "Fira Sans Medium"
            }
           }
          },
          "margin": {
           "pad": 10
          },
          "paper_bgcolor": "rgba(255,255,255,0)",
          "plot_bgcolor": "rgba(255,255,255,0)",
          "title": {
           "font": {
            "size": 14
           }
          },
          "xaxis": {
           "automargin": true,
           "fixedrange": true,
           "gridcolor": "lightgray",
           "gridwidth": 1,
           "title": {
            "font": {
             "family": "Fira Sans Medium",
             "size": 13
            },
            "standoff": 10
           }
          },
          "yaxis": {
           "automargin": true,
           "fixedrange": true,
           "gridcolor": "lightgray",
           "gridwidth": 1,
           "title": {
            "font": {
             "family": "Fira Sans Medium",
             "size": 13
            },
            "standoff": 10
           }
          }
         }
        },
        "title": {
         "text": "Frequency of keywords across submissions"
        },
        "width": 750,
        "xaxis": {
         "anchor": "y",
         "domain": [
          0,
          1
         ],
         "title": {
          "text": "Submission %"
         }
        },
        "yaxis": {
         "anchor": "x",
         "domain": [
          0,
          1
         ],
         "dtick": 1,
         "tickfont": {
          "size": 8
         },
         "tickmode": "linear",
         "title": {
          "text": "Short Name"
         }
        }
       }
      }
     },
     "metadata": {},
     "output_type": "display_data"
    }
   ],
   "source": [
    "# do a manual histogram to include non-specified keywords\n",
    "# \n",
    "k_total['Submission %'] = k_total.groupby(['year'])['# Submissions'].transform(lambda x: x/x.sum()*100)\n",
    "k_total['Year'] = k_total['year'].astype(str)  # to get categorical colors\n",
    "k_year = k_total.pivot(index=\"year\", values=\"Submission %\", columns=\"Short Name\").T\n",
    "\n",
    "px.scatter(k_total,\n",
    "    y = 'Short Name',\n",
    "    x = 'Submission %',  # 'Submission %',\n",
    "    color = 'Year',\n",
    "    category_orders={\"Year\": [\"2024\", \"2023\", \"2022\", \"2021\", \"2020\"]}\n",
    "    # facet_row='year',\n",
    "    # category_orders={'year':  reversed([2020, 2021, 2022, 2023, 2024])},\n",
    ").update_traces(\n",
    "    hovertemplate = \"'%{x}' specified in %{y} submissions<extra></extra>\",\n",
    ").update_layout(\n",
    "    yaxis_tickfont_size = 8,\n",
    "    yaxis_dtick = 1,\n",
    "    yaxis_tickmode = 'linear',\n",
    "    # yaxis_dtick = 50,\n",
    "    hovermode = 'closest',\n",
    "    title = 'Frequency of keywords across submissions',\n",
    "    **aspect(1)\n",
    ").show(config=config)"
   ]
  },
  {
   "cell_type": "code",
   "execution_count": 78,
   "id": "87224922",
   "metadata": {
    "pycharm": {
     "name": "#%%\n"
    }
   },
   "outputs": [
    {
     "data": {
      "application/vnd.plotly.v1+json": {
       "config": {
        "displayModeBar": false,
        "plotlyServerURL": "https://plot.ly",
        "responsive": false,
        "scrollZoom": false
       },
       "data": [
        {
         "hovertemplate": "'%{x}' specified in %{y} submissions<extra></extra>",
         "legendgroup": "2024",
         "marker": {
          "color": "#4C78A8",
          "symbol": "circle"
         },
         "mode": "markers",
         "name": "2024",
         "orientation": "v",
         "showlegend": true,
         "type": "scatter",
         "x": [
          "Application",
          "AnalyzeDecide",
          "ML",
          "HumanQual",
          "VisDesign",
          "MLStatsModel",
          "HumanQuant",
          "Algorithm",
          "Time",
          "Perception",
          "SocHum",
          "Features",
          "Network",
          "Charts",
          "Storytelling",
          "HD",
          "Methodology",
          "Text",
          "LifeBio",
          "Software",
          "Theory",
          "Displays",
          "ImageVideo",
          "MultiView",
          "NAApp",
          "Workflow",
          "GenPublic",
          "MixedInit",
          "Geospatial",
          "Comparison",
          "Guidelines",
          "Scalar",
          "Tabular",
          "CompBenchmark",
          "Interaction",
          "Domain_Task",
          "DimRed",
          "BigData",
          "CompSystems",
          "ClusterAgg",
          "Uncertainty",
          "ScienceEngr",
          "Systems",
          "CompTop",
          "Datasets",
          "DataAbstr",
          "DataMgmt",
          "NAData",
          "OtherApp",
          "Models",
          "Maps",
          "Collab",
          "Color",
          "Graphics",
          "Art",
          "OtherData",
          "ImageProcessing",
          "Motion",
          "Flow",
          "Volumes",
          "Vector_Tensor",
          "Math",
          "MultiRes",
          "Deployment",
          "PersonalVis",
          "Isosurfaces",
          "STAR",
          "OtherTopic",
          "Hardware",
          "OtherContrib"
         ],
         "xaxis": "x",
         "y": [
          4.906808672499049,
          4.678585013313047,
          3.765690376569038,
          3.689615823507037,
          3.575503993914036,
          3.2712057816660325,
          3.1190566755420313,
          2.8527957398250288,
          2.396348421453024,
          2.1681247622670217,
          2.1300874857360212,
          2.092050209205021,
          2.092050209205021,
          2.0540129326740204,
          2.0540129326740204,
          1.9399011030810196,
          1.9399011030810196,
          1.9399011030810196,
          1.901863826550019,
          1.8257892734880183,
          1.8257892734880183,
          1.8257892734880183,
          1.787751996957018,
          1.7116774438950173,
          1.6736401673640167,
          1.6736401673640167,
          1.6356028908330162,
          1.6356028908330162,
          1.5595283377710156,
          1.5595283377710156,
          1.5595283377710156,
          1.5214910612400152,
          1.5214910612400152,
          1.3693419551160138,
          1.3693419551160138,
          1.293267402054013,
          1.2552301255230125,
          1.1791555724610117,
          1.0270064663370102,
          0.9889691898060099,
          0.9509319132750095,
          0.9128946367440092,
          0.8748573602130088,
          0.8368200836820083,
          0.798782807151008,
          0.798782807151008,
          0.7227082540890073,
          0.7227082540890073,
          0.6846709775580069,
          0.6466337010270065,
          0.6466337010270065,
          0.6085964244960061,
          0.6085964244960061,
          0.5325218714340053,
          0.5325218714340053,
          0.49448459490300495,
          0.49448459490300495,
          0.4564473183720046,
          0.41841004184100417,
          0.3803727653100038,
          0.3803727653100038,
          0.34233548877900344,
          0.34233548877900344,
          0.34233548877900344,
          0.34233548877900344,
          0.26626093571700266,
          0.2282236591860023,
          0.15214910612400154,
          0.07607455306200077,
          0.038037276531000384
         ],
         "yaxis": "y"
        },
        {
         "hovertemplate": "'%{x}' specified in %{y} submissions<extra></extra>",
         "legendgroup": "2023",
         "marker": {
          "color": "#F58518",
          "symbol": "circle"
         },
         "mode": "markers",
         "name": "2023",
         "orientation": "v",
         "showlegend": true,
         "type": "scatter",
         "x": [
          "Application",
          "AnalyzeDecide",
          "Algorithm",
          "HumanQuant",
          "ML",
          "VisDesign",
          "HumanQual",
          "Time",
          "MLStatsModel",
          "SocHum",
          "Charts",
          "Network",
          "Features",
          "HD",
          "Storytelling",
          "MultiView",
          "Scalar",
          "Perception",
          "Methodology",
          "Displays",
          "Theory",
          "Geospatial",
          "Comparison",
          "Interaction",
          "Guidelines",
          "Software",
          "Tabular",
          "NAApp",
          "GenPublic",
          "ImageVideo",
          "Workflow",
          "LifeBio",
          "DataAbstr",
          "MixedInit",
          "BigData",
          "Text",
          "DimRed",
          "ScienceEngr",
          "Models",
          "Domain_Task",
          "ClusterAgg",
          "CompBenchmark",
          "NAData",
          "OtherApp",
          "Uncertainty",
          "CompTop",
          "DataMgmt",
          "Systems",
          "MultiRes",
          "CompSystems",
          "Vector_Tensor",
          "Graphics",
          "Flow",
          "Maps",
          "Volumes",
          "Collab",
          "Color",
          "Datasets",
          "Motion",
          "Math",
          "ImageProcessing",
          "OtherTopic",
          "Deployment",
          "STAR",
          "Isosurfaces",
          "OtherContrib",
          "OtherData",
          "PersonalVis",
          "Art",
          "Hardware"
         ],
         "xaxis": "x",
         "y": [
          5.2493438320209975,
          4.611923509561304,
          3.374578177727784,
          3.149606299212598,
          3.0371203599550056,
          2.924634420697413,
          2.924634420697413,
          2.699662542182227,
          2.3997000374953132,
          2.3997000374953132,
          2.324709411323585,
          2.1747281589801273,
          2.099737532808399,
          1.9122609673790776,
          1.8747656542932134,
          1.837270341207349,
          1.837270341207349,
          1.837270341207349,
          1.799775028121485,
          1.799775028121485,
          1.687289088863892,
          1.687289088863892,
          1.687289088863892,
          1.6497937757780277,
          1.6497937757780277,
          1.6122984626921637,
          1.574803149606299,
          1.4998125234345707,
          1.4998125234345707,
          1.4623172103487065,
          1.4248218972628421,
          1.4248218972628421,
          1.3873265841769777,
          1.3498312710911136,
          1.3123359580052494,
          1.3123359580052494,
          1.2373453318335208,
          1.2373453318335208,
          1.1998500187476566,
          1.1623547056617924,
          1.1623547056617924,
          1.0873640794900636,
          1.0123734533183353,
          0.974878140232471,
          0.8998875140607425,
          0.8998875140607425,
          0.8623922009748781,
          0.8623922009748781,
          0.7874015748031495,
          0.7499062617172854,
          0.7499062617172854,
          0.7124109486314211,
          0.6749156355455568,
          0.6749156355455568,
          0.6749156355455568,
          0.6374203224596925,
          0.5999250093738283,
          0.5999250093738283,
          0.5999250093738283,
          0.44994375703037126,
          0.4124484439445069,
          0.4124484439445069,
          0.3374578177727784,
          0.29996250468691416,
          0.29996250468691416,
          0.29996250468691416,
          0.29996250468691416,
          0.26246719160104987,
          0.22497187851518563,
          0.14998125234345708
         ],
         "yaxis": "y"
        },
        {
         "hovertemplate": "'%{x}' specified in %{y} submissions<extra></extra>",
         "legendgroup": "2022",
         "marker": {
          "color": "#E45756",
          "symbol": "circle"
         },
         "mode": "markers",
         "name": "2022",
         "orientation": "v",
         "showlegend": true,
         "type": "scatter",
         "x": [
          "Application",
          "AnalyzeDecide",
          "ML",
          "Algorithm",
          "VisDesign",
          "HumanQuant",
          "Time",
          "HumanQual",
          "MLStatsModel",
          "Charts",
          "Storytelling",
          "GenPublic",
          "SocHum",
          "Network",
          "MultiView",
          "Perception",
          "Features",
          "MixedInit",
          "Theory",
          "HD",
          "LifeBio",
          "Workflow",
          "Software",
          "Scalar",
          "Tabular",
          "Guidelines",
          "ImageVideo",
          "ScienceEngr",
          "Methodology",
          "Interaction",
          "Geospatial",
          "BigData",
          "Models",
          "NAApp",
          "DataAbstr",
          "NAData",
          "Systems",
          "DimRed",
          "Text",
          "Comparison",
          "Uncertainty",
          "CompTop",
          "Displays",
          "CompSystems",
          "ClusterAgg",
          "Vector_Tensor",
          "Art",
          "Collab",
          "Graphics",
          "CompBenchmark",
          "Domain_Task",
          "Flow",
          "OtherApp",
          "DataMgmt",
          "Maps",
          "PersonalVis",
          "MultiRes",
          "OtherData",
          "Math",
          "Volumes",
          "Motion",
          "OtherTopic",
          "ImageProcessing",
          "Datasets",
          "STAR",
          "Isosurfaces",
          "OtherContrib",
          "Color",
          "Deployment",
          "Hardware"
         ],
         "xaxis": "x",
         "y": [
          5.4469273743016755,
          4.981378026070764,
          3.7709497206703912,
          3.4916201117318435,
          3.165735567970205,
          3.026070763500931,
          3.026070763500931,
          2.9329608938547485,
          2.793296089385475,
          2.5139664804469275,
          2.3277467411545625,
          2.281191806331471,
          2.2346368715083798,
          2.1415270018621975,
          2.0484171322160147,
          2.001862197392924,
          1.86219739292365,
          1.86219739292365,
          1.8156424581005588,
          1.8156424581005588,
          1.7690875232774672,
          1.7690875232774672,
          1.7690875232774672,
          1.5828677839851024,
          1.536312849162011,
          1.536312849162011,
          1.536312849162011,
          1.3966480446927374,
          1.350093109869646,
          1.303538175046555,
          1.303538175046555,
          1.2104283054003724,
          1.1638733705772812,
          1.1638733705772812,
          1.1173184357541899,
          1.0707635009310987,
          1.0242085661080074,
          1.0242085661080074,
          0.9776536312849162,
          0.931098696461825,
          0.931098696461825,
          0.931098696461825,
          0.8845437616387336,
          0.8845437616387336,
          0.8379888268156425,
          0.7914338919925512,
          0.7914338919925512,
          0.7914338919925512,
          0.7914338919925512,
          0.7914338919925512,
          0.74487895716946,
          0.74487895716946,
          0.74487895716946,
          0.74487895716946,
          0.6052141527001862,
          0.6052141527001862,
          0.5121042830540037,
          0.5121042830540037,
          0.5121042830540037,
          0.5121042830540037,
          0.4655493482309125,
          0.4655493482309125,
          0.41899441340782123,
          0.37243947858473,
          0.3258845437616387,
          0.3258845437616387,
          0.3258845437616387,
          0.3258845437616387,
          0.13966480446927373,
          0.0931098696461825
         ],
         "yaxis": "y"
        },
        {
         "hovertemplate": "'%{x}' specified in %{y} submissions<extra></extra>",
         "legendgroup": "2021",
         "marker": {
          "color": "#72B7B2",
          "symbol": "circle"
         },
         "mode": "markers",
         "name": "2021",
         "orientation": "v",
         "showlegend": true,
         "type": "scatter",
         "x": [
          "Application",
          "AnalyzeDecide",
          "ML",
          "VisDesign",
          "Algorithm",
          "MLStatsModel",
          "HumanQuant",
          "Time",
          "HumanQual",
          "MultiView",
          "SocHum",
          "Charts",
          "NAApp",
          "Theory",
          "Storytelling",
          "Network",
          "HD",
          "ClusterAgg",
          "ImageVideo",
          "GenPublic",
          "Interaction",
          "Workflow",
          "Features",
          "Tabular",
          "Methodology",
          "Perception",
          "DimRed",
          "Software",
          "LifeBio",
          "Comparison",
          "Scalar",
          "Geospatial",
          "BigData",
          "Text",
          "ScienceEngr",
          "Displays",
          "MixedInit",
          "DataAbstr",
          "OtherApp",
          "Models",
          "NAData",
          "MultiRes",
          "CompSystems",
          "OtherData",
          "Systems",
          "Guidelines",
          "Art",
          "Color",
          "Uncertainty",
          "Domain_Task",
          "Motion",
          "DataMgmt",
          "Flow",
          "OtherTopic",
          "Vector_Tensor",
          "CompBenchmark",
          "Graphics",
          "CompTop",
          "Datasets",
          "Maps",
          "PersonalVis",
          "ImageProcessing",
          "STAR",
          "Collab",
          "Volumes",
          "Math",
          "Deployment",
          "OtherContrib",
          "Hardware"
         ],
         "xaxis": "x",
         "y": [
          5.186915887850467,
          4.205607476635514,
          3.411214953271028,
          3.2242990654205608,
          3.08411214953271,
          3.0373831775700935,
          2.9439252336448596,
          2.663551401869159,
          2.6168224299065423,
          2.383177570093458,
          2.196261682242991,
          2.196261682242991,
          2.0560747663551404,
          2.0093457943925235,
          2.0093457943925235,
          2.0093457943925235,
          1.9158878504672898,
          1.9158878504672898,
          1.8691588785046727,
          1.7757009345794394,
          1.7757009345794394,
          1.7757009345794394,
          1.7289719626168223,
          1.7289719626168223,
          1.6822429906542056,
          1.6822429906542056,
          1.6355140186915886,
          1.6355140186915886,
          1.588785046728972,
          1.4953271028037385,
          1.4485981308411215,
          1.4485981308411215,
          1.355140186915888,
          1.355140186915888,
          1.3084112149532712,
          1.2616822429906542,
          1.2149532710280373,
          1.1214953271028036,
          1.1214953271028036,
          1.1214953271028036,
          1.074766355140187,
          0.9813084112149533,
          0.9345794392523363,
          0.9345794392523363,
          0.8878504672897197,
          0.8411214953271028,
          0.8411214953271028,
          0.794392523364486,
          0.794392523364486,
          0.7476635514018692,
          0.7476635514018692,
          0.7009345794392523,
          0.6074766355140186,
          0.6074766355140186,
          0.5607476635514018,
          0.5607476635514018,
          0.5607476635514018,
          0.5607476635514018,
          0.5607476635514018,
          0.5140186915887851,
          0.5140186915887851,
          0.4205607476635514,
          0.3738317757009346,
          0.3738317757009346,
          0.3271028037383178,
          0.3271028037383178,
          0.23364485981308408,
          0.23364485981308408,
          0.1869158878504673
         ],
         "yaxis": "y"
        },
        {
         "hovertemplate": "'%{x}' specified in %{y} submissions<extra></extra>",
         "legendgroup": "2020",
         "marker": {
          "color": "#54A24B",
          "symbol": "circle"
         },
         "mode": "markers",
         "name": "2020",
         "orientation": "v",
         "showlegend": true,
         "type": "scatter",
         "x": [
          "Application",
          "Algorithm",
          "AnalyzeDecide",
          "Time",
          "ML",
          "HumanQuant",
          "HumanQual",
          "MultiView",
          "VisDesign",
          "MLStatsModel",
          "Charts",
          "Features",
          "Network",
          "Perception",
          "Geospatial",
          "HD",
          "SocHum",
          "Comparison",
          "NAApp",
          "DimRed",
          "Software",
          "ClusterAgg",
          "LifeBio",
          "ScienceEngr",
          "DataAbstr",
          "Text",
          "Storytelling",
          "Scalar",
          "Guidelines",
          "GenPublic",
          "Theory",
          "Tabular",
          "Methodology",
          "MixedInit",
          "BigData",
          "Workflow",
          "NAData",
          "Vector_Tensor",
          "Displays",
          "MultiRes",
          "Interaction",
          "OtherApp",
          "CompBenchmark",
          "Models",
          "ImageVideo",
          "Flow",
          "Maps",
          "Domain_Task",
          "OtherData",
          "Uncertainty",
          "CompSystems",
          "Volumes",
          "DataMgmt",
          "Color",
          "Graphics",
          "Systems",
          "CompTop",
          "Math",
          "Datasets",
          "OtherTopic",
          "PersonalVis",
          "ImageProcessing",
          "Collab",
          "Motion",
          "Art",
          "Deployment",
          "OtherContrib",
          "STAR",
          "Isosurfaces",
          "Hardware"
         ],
         "xaxis": "x",
         "y": [
          5.821138211382114,
          4.32520325203252,
          4.2926829268292686,
          4.195121951219512,
          2.959349593495935,
          2.9268292682926833,
          2.861788617886179,
          2.731707317073171,
          2.666666666666667,
          2.4715447154471546,
          2.341463414634146,
          2.2764227642276422,
          2.178861788617886,
          2.178861788617886,
          2.1463414634146343,
          2.113821138211382,
          2.08130081300813,
          1.8861788617886182,
          1.788617886178862,
          1.6585365853658538,
          1.6260162601626018,
          1.6260162601626018,
          1.5934959349593496,
          1.5934959349593496,
          1.4634146341463417,
          1.3983739837398375,
          1.3658536585365855,
          1.3333333333333335,
          1.3333333333333335,
          1.2682926829268293,
          1.2682926829268293,
          1.2032520325203253,
          1.2032520325203253,
          1.2032520325203253,
          1.170731707317073,
          1.1382113821138211,
          1.1056910569105691,
          1.040650406504065,
          1.040650406504065,
          0.975609756097561,
          0.9430894308943091,
          0.9430894308943091,
          0.9430894308943091,
          0.9105691056910569,
          0.878048780487805,
          0.8455284552845529,
          0.8455284552845529,
          0.8130081300813009,
          0.7804878048780488,
          0.7479674796747967,
          0.7479674796747967,
          0.6829268292682927,
          0.6829268292682927,
          0.6829268292682927,
          0.6829268292682927,
          0.6178861788617886,
          0.6178861788617886,
          0.5853658536585366,
          0.5528455284552846,
          0.4878048780487805,
          0.42276422764227645,
          0.3902439024390244,
          0.3902439024390244,
          0.3902439024390244,
          0.35772357723577236,
          0.3252032520325203,
          0.2926829268292683,
          0.22764227642276422,
          0.1951219512195122,
          0.16260162601626016
         ],
         "yaxis": "y"
        }
       ],
       "layout": {
        "height": 600,
        "hovermode": "closest",
        "legend": {
         "title": {
          "text": "Year"
         },
         "tracegroupgap": 0
        },
        "margin": {
         "t": 60
        },
        "template": {
         "data": {
          "bar": [
           {
            "insidetextanchor": "middle",
            "textfont": {
             "size": 12
            },
            "textposition": "inside",
            "type": "bar"
           }
          ]
         },
         "layout": {
          "colorway": [
           "#4C78A8",
           "#F58518",
           "#E45756",
           "#72B7B2",
           "#54A24B",
           "#EECA3B",
           "#B279A2",
           "#FF9DA6",
           "#9D755D",
           "#BAB0AC"
          ],
          "font": {
           "color": "black",
           "family": "Fira Sans",
           "size": 13
          },
          "hoverlabel": {
           "bgcolor": "white",
           "bordercolor": "lightgray",
           "font": {
            "color": "black",
            "family": "Fira Sans"
           }
          },
          "hovermode": "closest",
          "legend": {
           "title": {
            "font": {
             "family": "Fira Sans Medium"
            }
           }
          },
          "margin": {
           "pad": 10
          },
          "paper_bgcolor": "rgba(255,255,255,0)",
          "plot_bgcolor": "rgba(255,255,255,0)",
          "title": {
           "font": {
            "size": 14
           }
          },
          "xaxis": {
           "automargin": true,
           "fixedrange": true,
           "gridcolor": "lightgray",
           "gridwidth": 1,
           "title": {
            "font": {
             "family": "Fira Sans Medium",
             "size": 13
            },
            "standoff": 10
           }
          },
          "yaxis": {
           "automargin": true,
           "fixedrange": true,
           "gridcolor": "lightgray",
           "gridwidth": 1,
           "title": {
            "font": {
             "family": "Fira Sans Medium",
             "size": 13
            },
            "standoff": 10
           }
          }
         }
        },
        "title": {
         "text": "Frequency of keywords across submissions"
        },
        "width": 750,
        "xaxis": {
         "anchor": "y",
         "domain": [
          0,
          1
         ],
         "dtick": 1,
         "tickfont": {
          "size": 8
         },
         "title": {
          "text": "Short Name"
         }
        },
        "yaxis": {
         "anchor": "x",
         "domain": [
          0,
          1
         ],
         "title": {
          "text": "Submission %"
         }
        }
       }
      }
     },
     "metadata": {},
     "output_type": "display_data"
    }
   ],
   "source": [
    "# do a manual histogram to include non-specified keywords\n",
    "# \n",
    "k_total['Submission %'] = k_total.groupby(['year'])['# Submissions'].transform(lambda x: x/x.sum()*100)\n",
    "k_total['Year'] = k_total['year'].astype(str)  # to get categorical colors\n",
    "k_year = k_total.pivot(index=\"year\", values=\"Submission %\", columns=\"Short Name\").T\n",
    "\n",
    "px.scatter(k_total,\n",
    "    x = 'Short Name',\n",
    "    y = 'Submission %',  # 'Submission %',\n",
    "    color = 'Year',\n",
    "    category_orders={\"Year\": [\"2024\", \"2023\", \"2022\", \"2021\", \"2020\"]}\n",
    "    # facet_row='year',\n",
    "    # category_orders={'year':  reversed([2020, 2021, 2022, 2023, 2024])},\n",
    ").update_traces(\n",
    "    hovertemplate = \"'%{x}' specified in %{y} submissions<extra></extra>\",\n",
    ").update_layout(\n",
    "    xaxis_tickfont_size = 8,\n",
    "    xaxis_dtick = 1,\n",
    "    # yaxis_dtick = 50,\n",
    "    hovermode = 'closest',\n",
    "    title = 'Frequency of keywords across submissions',\n",
    "    **aspect(0.8)\n",
    ").show(config=config)"
   ]
  },
  {
   "cell_type": "markdown",
   "id": "83b76f73",
   "metadata": {
    "pycharm": {
     "name": "#%% md\n"
    }
   },
   "source": [
    "All the areas showed growth from 2022 to 2024 except for \"Analytics & Decisions\", though that area showed significant growth in 2022. The areas for \"Applications\" and \"Representation & Interaction\" have grown significantly. \"Applications\" has surpassed 120 submissions in 2024 which might eventually arguing for action.\n",
    "***More to write?***"
   ]
  },
  {
   "cell_type": "code",
   "execution_count": 82,
   "id": "ebf9266d",
   "metadata": {
    "pycharm": {
     "name": "#%%\n"
    }
   },
   "outputs": [
    {
     "data": {
      "application/vnd.plotly.v1+json": {
       "config": {
        "displayModeBar": false,
        "plotlyServerURL": "https://plot.ly",
        "responsive": false,
        "scrollZoom": false
       },
       "data": [
        {
         "alignmentgroup": "True",
         "customdata": [
          [
           "Reject"
          ],
          [
           "Accept"
          ]
         ],
         "hovertemplate": "%{x} submissions in %{y} have decision %{customdata[0]}<extra></extra>",
         "legendgroup": "2024",
         "marker": {
          "color": "#4C78A8",
          "pattern": {
           "shape": ""
          }
         },
         "name": "2024",
         "offsetgroup": "2024",
         "orientation": "v",
         "showlegend": true,
         "text": [
          117,
          32
         ],
         "textposition": "auto",
         "type": "bar",
         "x": [
          2024,
          2024
         ],
         "xaxis": "x",
         "y": [
          117,
          32
         ],
         "yaxis": "y"
        },
        {
         "alignmentgroup": "True",
         "customdata": [
          [
           "Reject"
          ],
          [
           "Accept"
          ]
         ],
         "hovertemplate": "%{x} submissions in %{y} have decision %{customdata[0]}<extra></extra>",
         "legendgroup": "2024",
         "marker": {
          "color": "#4C78A8",
          "pattern": {
           "shape": ""
          }
         },
         "name": "2024",
         "offsetgroup": "2024",
         "orientation": "v",
         "showlegend": false,
         "text": [
          80,
          31
         ],
         "textposition": "auto",
         "type": "bar",
         "x": [
          2024,
          2024
         ],
         "xaxis": "x2",
         "y": [
          80,
          31
         ],
         "yaxis": "y2"
        },
        {
         "alignmentgroup": "True",
         "customdata": [
          [
           "Reject"
          ],
          [
           "Accept"
          ],
          [
           "R2-S"
          ]
         ],
         "hovertemplate": "%{x} submissions in %{y} have decision %{customdata[0]}<extra></extra>",
         "legendgroup": "2024",
         "marker": {
          "color": "#4C78A8",
          "pattern": {
           "shape": ""
          }
         },
         "name": "2024",
         "offsetgroup": "2024",
         "orientation": "v",
         "showlegend": false,
         "text": [
          81,
          24,
          3
         ],
         "textposition": "auto",
         "type": "bar",
         "x": [
          2024,
          2024,
          2024
         ],
         "xaxis": "x3",
         "y": [
          81,
          24,
          3
         ],
         "yaxis": "y3"
        },
        {
         "alignmentgroup": "True",
         "customdata": [
          [
           "Reject"
          ],
          [
           "Accept"
          ]
         ],
         "hovertemplate": "%{x} submissions in %{y} have decision %{customdata[0]}<extra></extra>",
         "legendgroup": "2024",
         "marker": {
          "color": "#4C78A8",
          "pattern": {
           "shape": ""
          }
         },
         "name": "2024",
         "offsetgroup": "2024",
         "orientation": "v",
         "showlegend": false,
         "text": [
          64,
          13
         ],
         "textposition": "auto",
         "type": "bar",
         "x": [
          2024,
          2024
         ],
         "xaxis": "x4",
         "y": [
          64,
          13
         ],
         "yaxis": "y4"
        },
        {
         "alignmentgroup": "True",
         "customdata": [
          [
           "Reject"
          ],
          [
           "Accept"
          ]
         ],
         "hovertemplate": "%{x} submissions in %{y} have decision %{customdata[0]}<extra></extra>",
         "legendgroup": "2024",
         "marker": {
          "color": "#4C78A8",
          "pattern": {
           "shape": ""
          }
         },
         "name": "2024",
         "offsetgroup": "2024",
         "orientation": "v",
         "showlegend": false,
         "text": [
          37,
          14
         ],
         "textposition": "auto",
         "type": "bar",
         "x": [
          2024,
          2024
         ],
         "xaxis": "x5",
         "y": [
          37,
          14
         ],
         "yaxis": "y5"
        },
        {
         "alignmentgroup": "True",
         "customdata": [
          [
           "Reject"
          ],
          [
           "Accept"
          ]
         ],
         "hovertemplate": "%{x} submissions in %{y} have decision %{customdata[0]}<extra></extra>",
         "legendgroup": "2024",
         "marker": {
          "color": "#4C78A8",
          "pattern": {
           "shape": ""
          }
         },
         "name": "2024",
         "offsetgroup": "2024",
         "orientation": "v",
         "showlegend": false,
         "text": [
          40,
          8
         ],
         "textposition": "auto",
         "type": "bar",
         "x": [
          2024,
          2024
         ],
         "xaxis": "x6",
         "y": [
          40,
          8
         ],
         "yaxis": "y6"
        },
        {
         "alignmentgroup": "True",
         "customdata": [
          [
           "Reject"
          ],
          [
           "Accept"
          ]
         ],
         "hovertemplate": "%{x} submissions in %{y} have decision %{customdata[0]}<extra></extra>",
         "legendgroup": "2023",
         "marker": {
          "color": "#F58518",
          "pattern": {
           "shape": ""
          }
         },
         "name": "2023",
         "offsetgroup": "2023",
         "orientation": "v",
         "showlegend": true,
         "text": [
          90,
          33
         ],
         "textposition": "auto",
         "type": "bar",
         "x": [
          2023,
          2023
         ],
         "xaxis": "x",
         "y": [
          90,
          33
         ],
         "yaxis": "y"
        },
        {
         "alignmentgroup": "True",
         "customdata": [
          [
           "Reject"
          ],
          [
           "Accept"
          ]
         ],
         "hovertemplate": "%{x} submissions in %{y} have decision %{customdata[0]}<extra></extra>",
         "legendgroup": "2023",
         "marker": {
          "color": "#F58518",
          "pattern": {
           "shape": ""
          }
         },
         "name": "2023",
         "offsetgroup": "2023",
         "orientation": "v",
         "showlegend": false,
         "text": [
          90,
          33
         ],
         "textposition": "auto",
         "type": "bar",
         "x": [
          2023,
          2023
         ],
         "xaxis": "x2",
         "y": [
          90,
          33
         ],
         "yaxis": "y2"
        },
        {
         "alignmentgroup": "True",
         "customdata": [
          [
           "Reject"
          ],
          [
           "Accept"
          ]
         ],
         "hovertemplate": "%{x} submissions in %{y} have decision %{customdata[0]}<extra></extra>",
         "legendgroup": "2023",
         "marker": {
          "color": "#F58518",
          "pattern": {
           "shape": ""
          }
         },
         "name": "2023",
         "offsetgroup": "2023",
         "orientation": "v",
         "showlegend": false,
         "text": [
          67,
          19
         ],
         "textposition": "auto",
         "type": "bar",
         "x": [
          2023,
          2023
         ],
         "xaxis": "x3",
         "y": [
          67,
          19
         ],
         "yaxis": "y3"
        },
        {
         "alignmentgroup": "True",
         "customdata": [
          [
           "Reject"
          ],
          [
           "Accept"
          ]
         ],
         "hovertemplate": "%{x} submissions in %{y} have decision %{customdata[0]}<extra></extra>",
         "legendgroup": "2023",
         "marker": {
          "color": "#F58518",
          "pattern": {
           "shape": ""
          }
         },
         "name": "2023",
         "offsetgroup": "2023",
         "orientation": "v",
         "showlegend": false,
         "text": [
          66,
          16
         ],
         "textposition": "auto",
         "type": "bar",
         "x": [
          2023,
          2023
         ],
         "xaxis": "x4",
         "y": [
          66,
          16
         ],
         "yaxis": "y4"
        },
        {
         "alignmentgroup": "True",
         "customdata": [
          [
           "Reject"
          ],
          [
           "Accept"
          ]
         ],
         "hovertemplate": "%{x} submissions in %{y} have decision %{customdata[0]}<extra></extra>",
         "legendgroup": "2023",
         "marker": {
          "color": "#F58518",
          "pattern": {
           "shape": ""
          }
         },
         "name": "2023",
         "offsetgroup": "2023",
         "orientation": "v",
         "showlegend": false,
         "text": [
          49,
          19
         ],
         "textposition": "auto",
         "type": "bar",
         "x": [
          2023,
          2023
         ],
         "xaxis": "x5",
         "y": [
          49,
          19
         ],
         "yaxis": "y5"
        },
        {
         "alignmentgroup": "True",
         "customdata": [
          [
           "Reject"
          ],
          [
           "Accept"
          ]
         ],
         "hovertemplate": "%{x} submissions in %{y} have decision %{customdata[0]}<extra></extra>",
         "legendgroup": "2023",
         "marker": {
          "color": "#F58518",
          "pattern": {
           "shape": ""
          }
         },
         "name": "2023",
         "offsetgroup": "2023",
         "orientation": "v",
         "showlegend": false,
         "text": [
          38,
          19
         ],
         "textposition": "auto",
         "type": "bar",
         "x": [
          2023,
          2023
         ],
         "xaxis": "x6",
         "y": [
          38,
          19
         ],
         "yaxis": "y6"
        },
        {
         "alignmentgroup": "True",
         "customdata": [
          [
           "Reject"
          ],
          [
           "Accept"
          ]
         ],
         "hovertemplate": "%{x} submissions in %{y} have decision %{customdata[0]}<extra></extra>",
         "legendgroup": "2022",
         "marker": {
          "color": "#E45756",
          "pattern": {
           "shape": ""
          }
         },
         "name": "2022",
         "offsetgroup": "2022",
         "orientation": "v",
         "showlegend": true,
         "text": [
          78,
          25
         ],
         "textposition": "auto",
         "type": "bar",
         "x": [
          2022,
          2022
         ],
         "xaxis": "x",
         "y": [
          78,
          25
         ],
         "yaxis": "y"
        },
        {
         "alignmentgroup": "True",
         "customdata": [
          [
           "Reject"
          ],
          [
           "Accept"
          ]
         ],
         "hovertemplate": "%{x} submissions in %{y} have decision %{customdata[0]}<extra></extra>",
         "legendgroup": "2022",
         "marker": {
          "color": "#E45756",
          "pattern": {
           "shape": ""
          }
         },
         "name": "2022",
         "offsetgroup": "2022",
         "orientation": "v",
         "showlegend": false,
         "text": [
          67,
          31
         ],
         "textposition": "auto",
         "type": "bar",
         "x": [
          2022,
          2022
         ],
         "xaxis": "x2",
         "y": [
          67,
          31
         ],
         "yaxis": "y2"
        },
        {
         "alignmentgroup": "True",
         "customdata": [
          [
           "Reject"
          ],
          [
           "Accept"
          ]
         ],
         "hovertemplate": "%{x} submissions in %{y} have decision %{customdata[0]}<extra></extra>",
         "legendgroup": "2022",
         "marker": {
          "color": "#E45756",
          "pattern": {
           "shape": ""
          }
         },
         "name": "2022",
         "offsetgroup": "2022",
         "orientation": "v",
         "showlegend": false,
         "text": [
          59,
          16
         ],
         "textposition": "auto",
         "type": "bar",
         "x": [
          2022,
          2022
         ],
         "xaxis": "x3",
         "y": [
          59,
          16
         ],
         "yaxis": "y3"
        },
        {
         "alignmentgroup": "True",
         "customdata": [
          [
           "Reject"
          ],
          [
           "Accept"
          ]
         ],
         "hovertemplate": "%{x} submissions in %{y} have decision %{customdata[0]}<extra></extra>",
         "legendgroup": "2022",
         "marker": {
          "color": "#E45756",
          "pattern": {
           "shape": ""
          }
         },
         "name": "2022",
         "offsetgroup": "2022",
         "orientation": "v",
         "showlegend": false,
         "text": [
          73,
          21
         ],
         "textposition": "auto",
         "type": "bar",
         "x": [
          2022,
          2022
         ],
         "xaxis": "x4",
         "y": [
          73,
          21
         ],
         "yaxis": "y4"
        },
        {
         "alignmentgroup": "True",
         "customdata": [
          [
           "Reject"
          ],
          [
           "Accept"
          ]
         ],
         "hovertemplate": "%{x} submissions in %{y} have decision %{customdata[0]}<extra></extra>",
         "legendgroup": "2022",
         "marker": {
          "color": "#E45756",
          "pattern": {
           "shape": ""
          }
         },
         "name": "2022",
         "offsetgroup": "2022",
         "orientation": "v",
         "showlegend": false,
         "text": [
          32,
          15
         ],
         "textposition": "auto",
         "type": "bar",
         "x": [
          2022,
          2022
         ],
         "xaxis": "x5",
         "y": [
          32,
          15
         ],
         "yaxis": "y5"
        },
        {
         "alignmentgroup": "True",
         "customdata": [
          [
           "Reject"
          ],
          [
           "Accept"
          ]
         ],
         "hovertemplate": "%{x} submissions in %{y} have decision %{customdata[0]}<extra></extra>",
         "legendgroup": "2022",
         "marker": {
          "color": "#E45756",
          "pattern": {
           "shape": ""
          }
         },
         "name": "2022",
         "offsetgroup": "2022",
         "orientation": "v",
         "showlegend": false,
         "text": [
          31,
          12
         ],
         "textposition": "auto",
         "type": "bar",
         "x": [
          2022,
          2022
         ],
         "xaxis": "x6",
         "y": [
          31,
          12
         ],
         "yaxis": "y6"
        },
        {
         "alignmentgroup": "True",
         "customdata": [
          [
           "Reject"
          ],
          [
           "Accept"
          ]
         ],
         "hovertemplate": "%{x} submissions in %{y} have decision %{customdata[0]}<extra></extra>",
         "legendgroup": "2021",
         "marker": {
          "color": "#72B7B2",
          "pattern": {
           "shape": ""
          }
         },
         "name": "2021",
         "offsetgroup": "2021",
         "orientation": "v",
         "showlegend": true,
         "text": [
          76,
          24
         ],
         "textposition": "auto",
         "type": "bar",
         "x": [
          2021,
          2021
         ],
         "xaxis": "x",
         "y": [
          76,
          24
         ],
         "yaxis": "y"
        },
        {
         "alignmentgroup": "True",
         "customdata": [
          [
           "Reject"
          ],
          [
           "Accept"
          ]
         ],
         "hovertemplate": "%{x} submissions in %{y} have decision %{customdata[0]}<extra></extra>",
         "legendgroup": "2021",
         "marker": {
          "color": "#72B7B2",
          "pattern": {
           "shape": ""
          }
         },
         "name": "2021",
         "offsetgroup": "2021",
         "orientation": "v",
         "showlegend": false,
         "text": [
          61,
          24
         ],
         "textposition": "auto",
         "type": "bar",
         "x": [
          2021,
          2021
         ],
         "xaxis": "x2",
         "y": [
          61,
          24
         ],
         "yaxis": "y2"
        },
        {
         "alignmentgroup": "True",
         "customdata": [
          [
           "Reject"
          ],
          [
           "Accept"
          ]
         ],
         "hovertemplate": "%{x} submissions in %{y} have decision %{customdata[0]}<extra></extra>",
         "legendgroup": "2021",
         "marker": {
          "color": "#72B7B2",
          "pattern": {
           "shape": ""
          }
         },
         "name": "2021",
         "offsetgroup": "2021",
         "orientation": "v",
         "showlegend": false,
         "text": [
          60,
          19
         ],
         "textposition": "auto",
         "type": "bar",
         "x": [
          2021,
          2021
         ],
         "xaxis": "x3",
         "y": [
          60,
          19
         ],
         "yaxis": "y3"
        },
        {
         "alignmentgroup": "True",
         "customdata": [
          [
           "Reject"
          ],
          [
           "Accept"
          ]
         ],
         "hovertemplate": "%{x} submissions in %{y} have decision %{customdata[0]}<extra></extra>",
         "legendgroup": "2021",
         "marker": {
          "color": "#72B7B2",
          "pattern": {
           "shape": ""
          }
         },
         "name": "2021",
         "offsetgroup": "2021",
         "orientation": "v",
         "showlegend": false,
         "text": [
          60,
          18
         ],
         "textposition": "auto",
         "type": "bar",
         "x": [
          2021,
          2021
         ],
         "xaxis": "x4",
         "y": [
          60,
          18
         ],
         "yaxis": "y4"
        },
        {
         "alignmentgroup": "True",
         "customdata": [
          [
           "Reject"
          ],
          [
           "Accept"
          ]
         ],
         "hovertemplate": "%{x} submissions in %{y} have decision %{customdata[0]}<extra></extra>",
         "legendgroup": "2021",
         "marker": {
          "color": "#72B7B2",
          "pattern": {
           "shape": ""
          }
         },
         "name": "2021",
         "offsetgroup": "2021",
         "orientation": "v",
         "showlegend": false,
         "text": [
          40,
          14
         ],
         "textposition": "auto",
         "type": "bar",
         "x": [
          2021,
          2021
         ],
         "xaxis": "x5",
         "y": [
          40,
          14
         ],
         "yaxis": "y5"
        },
        {
         "alignmentgroup": "True",
         "customdata": [
          [
           "Reject"
          ],
          [
           "Accept"
          ]
         ],
         "hovertemplate": "%{x} submissions in %{y} have decision %{customdata[0]}<extra></extra>",
         "legendgroup": "2021",
         "marker": {
          "color": "#72B7B2",
          "pattern": {
           "shape": ""
          }
         },
         "name": "2021",
         "offsetgroup": "2021",
         "orientation": "v",
         "showlegend": false,
         "text": [
          35,
          11
         ],
         "textposition": "auto",
         "type": "bar",
         "x": [
          2021,
          2021
         ],
         "xaxis": "x6",
         "y": [
          35,
          11
         ],
         "yaxis": "y6"
        }
       ],
       "layout": {
        "annotations": [
         {
          "font": {},
          "showarrow": false,
          "text": "Applications",
          "x": 0.05833333333333333,
          "xanchor": "center",
          "xref": "paper",
          "y": 1,
          "yanchor": "bottom",
          "yref": "paper"
         },
         {
          "font": {},
          "showarrow": false,
          "text": "Theoretical & Empirical",
          "x": 0.23499999999999996,
          "xanchor": "center",
          "xref": "paper",
          "y": 1,
          "yanchor": "bottom",
          "yref": "paper",
          "yshift": -15
         },
         {
          "font": {},
          "showarrow": false,
          "text": "Representations & Interaction",
          "x": 0.4116666666666666,
          "xanchor": "center",
          "xref": "paper",
          "y": 1,
          "yanchor": "bottom",
          "yref": "paper"
         },
         {
          "font": {},
          "showarrow": false,
          "text": "Analytics & Decisions",
          "x": 0.5883333333333334,
          "xanchor": "center",
          "xref": "paper",
          "y": 1,
          "yanchor": "bottom",
          "yref": "paper",
          "yshift": -15
         },
         {
          "font": {},
          "showarrow": false,
          "text": "Data Transformations",
          "x": 0.7649999999999999,
          "xanchor": "center",
          "xref": "paper",
          "y": 1,
          "yanchor": "bottom",
          "yref": "paper"
         },
         {
          "font": {},
          "showarrow": false,
          "text": "Systems & Rendering",
          "x": 0.9416666666666667,
          "xanchor": "center",
          "xref": "paper",
          "y": 1,
          "yanchor": "bottom",
          "yref": "paper",
          "yshift": -15
         }
        ],
        "barmode": "stack",
        "height": 600,
        "legend": {
         "title": {
          "text": "yearcat"
         },
         "tracegroupgap": 0
        },
        "margin": {
         "t": 60
        },
        "template": {
         "data": {
          "bar": [
           {
            "insidetextanchor": "middle",
            "textfont": {
             "size": 12
            },
            "textposition": "inside",
            "type": "bar"
           }
          ]
         },
         "layout": {
          "colorway": [
           "#4C78A8",
           "#F58518",
           "#E45756",
           "#72B7B2",
           "#54A24B",
           "#EECA3B",
           "#B279A2",
           "#FF9DA6",
           "#9D755D",
           "#BAB0AC"
          ],
          "font": {
           "color": "black",
           "family": "Fira Sans",
           "size": 13
          },
          "hoverlabel": {
           "bgcolor": "white",
           "bordercolor": "lightgray",
           "font": {
            "color": "black",
            "family": "Fira Sans"
           }
          },
          "hovermode": "closest",
          "legend": {
           "title": {
            "font": {
             "family": "Fira Sans Medium"
            }
           }
          },
          "margin": {
           "pad": 10
          },
          "paper_bgcolor": "rgba(255,255,255,0)",
          "plot_bgcolor": "rgba(255,255,255,0)",
          "title": {
           "font": {
            "size": 14
           }
          },
          "xaxis": {
           "automargin": true,
           "fixedrange": true,
           "gridcolor": "lightgray",
           "gridwidth": 1,
           "title": {
            "font": {
             "family": "Fira Sans Medium",
             "size": 13
            },
            "standoff": 10
           }
          },
          "yaxis": {
           "automargin": true,
           "fixedrange": true,
           "gridcolor": "lightgray",
           "gridwidth": 1,
           "title": {
            "font": {
             "family": "Fira Sans Medium",
             "size": 13
            },
            "standoff": 10
           }
          }
         }
        },
        "title": {
         "text": "Submissions by area and year"
        },
        "width": 750,
        "xaxis": {
         "anchor": "y",
         "categoryarray": [
          2021,
          2022,
          2023,
          2024
         ],
         "categoryorder": "array",
         "domain": [
          0,
          0.11666666666666665
         ],
         "title": {
          "text": "year"
         },
         "type": "category"
        },
        "xaxis2": {
         "anchor": "y2",
         "categoryarray": [
          2021,
          2022,
          2023,
          2024
         ],
         "categoryorder": "array",
         "domain": [
          0.17666666666666664,
          0.2933333333333333
         ],
         "matches": "x",
         "title": {
          "text": "year"
         },
         "type": "category"
        },
        "xaxis3": {
         "anchor": "y3",
         "categoryarray": [
          2021,
          2022,
          2023,
          2024
         ],
         "categoryorder": "array",
         "domain": [
          0.3533333333333333,
          0.4699999999999999
         ],
         "matches": "x",
         "title": {
          "text": "year"
         },
         "type": "category"
        },
        "xaxis4": {
         "anchor": "y4",
         "categoryarray": [
          2021,
          2022,
          2023,
          2024
         ],
         "categoryorder": "array",
         "domain": [
          0.53,
          0.6466666666666667
         ],
         "matches": "x",
         "title": {
          "text": "year"
         },
         "type": "category"
        },
        "xaxis5": {
         "anchor": "y5",
         "categoryarray": [
          2021,
          2022,
          2023,
          2024
         ],
         "categoryorder": "array",
         "domain": [
          0.7066666666666666,
          0.8233333333333333
         ],
         "matches": "x",
         "title": {
          "text": "year"
         },
         "type": "category"
        },
        "xaxis6": {
         "anchor": "y6",
         "categoryarray": [
          2021,
          2022,
          2023,
          2024
         ],
         "categoryorder": "array",
         "domain": [
          0.8833333333333333,
          1
         ],
         "matches": "x",
         "title": {
          "text": "year"
         },
         "type": "category"
        },
        "yaxis": {
         "anchor": "x",
         "domain": [
          0,
          1
         ],
         "title": {
          "text": "count"
         }
        },
        "yaxis2": {
         "anchor": "x2",
         "domain": [
          0,
          1
         ],
         "matches": "y",
         "showticklabels": false
        },
        "yaxis3": {
         "anchor": "x3",
         "domain": [
          0,
          1
         ],
         "matches": "y",
         "showticklabels": false
        },
        "yaxis4": {
         "anchor": "x4",
         "domain": [
          0,
          1
         ],
         "matches": "y",
         "showticklabels": false
        },
        "yaxis5": {
         "anchor": "x5",
         "domain": [
          0,
          1
         ],
         "matches": "y",
         "showticklabels": false
        },
        "yaxis6": {
         "anchor": "x6",
         "domain": [
          0,
          1
         ],
         "matches": "y",
         "showticklabels": false
        }
       }
      }
     },
     "metadata": {},
     "output_type": "display_data"
    }
   ],
   "source": [
    "recent_submissions = submissions[submissions['year'] != 2020]\n",
    "tmptotal = (recent_submissions\n",
    "    .value_counts(['Area', 'year'])\n",
    "    .reset_index()\n",
    "    .rename(columns = {'count': 'total'})\n",
    ")\n",
    "tmp = (recent_submissions\n",
    "    .value_counts(['Area', 'FinalDecision', 'year'])\n",
    "    .reset_index()\n",
    "    # .rename(columns = {0: 'count'}) #[jdf] no need to rename, the count is already in the 'count' attribute.\n",
    ")\n",
    "tmpfinal = pd.merge(left=tmp, right=tmptotal, on=['Area','year'])\n",
    "tmpfinal['percentage']= round(tmpfinal['count']/tmpfinal['total'] *1000)/10.0\n",
    "tmpfinal['yearcat'] = tmpfinal['year'].astype('category')\n",
    "fig = px.bar(tmpfinal,\n",
    "    x = 'year',\n",
    "    y = 'count',\n",
    "    barmode = 'stack',\n",
    "    orientation = 'v',\n",
    "    color = 'yearcat',\n",
    "    text = 'count',\n",
    "    custom_data = ['FinalDecision'],\n",
    "    facet_col='Area',\n",
    "    category_orders = {\"year\": [2021,2022, 2023, 2024]},\n",
    "    facet_col_spacing=0.06, # default is 0.03\n",
    "    ).update_layout(\n",
    "        title = 'Submissions by area and year',\n",
    "        xaxis_title = 'year',\n",
    "        **aspect(0.8)\n",
    "    ).update_xaxes(type='category').update_traces(\n",
    "        hovertemplate = '%{x} submissions in %{y} have decision %{customdata[0]}<extra></extra>',\n",
    "    )\n",
    "fig.for_each_annotation(lambda a: a.update(text=a.text.split(\"=\")[-1]))\n",
    "for i,a in enumerate(fig.layout.annotations):\n",
    "    if (i%2):\n",
    "        a.update(yshift=-15)\n",
    "fig.show(config=config)"
   ]
  },
  {
   "cell_type": "markdown",
   "id": "b4b93ee6",
   "metadata": {
    "pycharm": {
     "name": "#%% md\n"
    }
   },
   "source": [
    "<style>\n",
    "@font-face {\n",
    "  font-family: 'Fira Sans';\n",
    "  font-style: normal;\n",
    "  font-weight: 400;\n",
    "  src: url(https://fonts.gstatic.com/s/firasans/v11/va9E4kDNxMZdWfMOD5Vvl4jLazX3dA.woff2) format('woff2');\n",
    "  unicode-range: U+0000-00FF, U+0131, U+0152-0153, U+02BB-02BC, U+02C6, U+02DA, U+02DC, U+2000-206F, U+2074, U+20AC, U+2122, U+2191, U+2193, U+2212, U+2215, U+FEFF, U+FFFD;\n",
    "}\n",
    "\n",
    "@font-face {\n",
    "  font-family: 'Fira Sans Medium';\n",
    "  font-style: normal;\n",
    "  font-weight: 500;\n",
    "  font-display: swap;\n",
    "  src: url(https://fonts.gstatic.com/s/firasans/v11/va9B4kDNxMZdWfMOD5VnZKveRhf6Xl7Glw.woff2) format('woff2');\n",
    "  unicode-range: U+0000-00FF, U+0131, U+0152-0153, U+02BB-02BC, U+02C6, U+02DA, U+02DC, U+2000-206F, U+2074, U+20AC, U+2122, U+2191, U+2193, U+2212, U+2215, U+FEFF, U+FFFD;\n",
    "}</style>\n",
    "\n",
    "# Deeper data investigation\n",
    "\n",
    "This report is generated by members of the ACC for the current year, and prepared for the VSC. Upon review, it will be linked from the IEEE VIS website. The conclusions and discussion points are based on submission and reviewer data from IEEE VIS 2024 (and previous years). The report and analysis performed is focused on the use of keywords, areas, and reviewer matching. Thus, there are likely other aspects of conference organization which are not covered (but could be considered). \n",
    "\n",
    "The report is broken down into the following sections. After the summary at the beginning, the data and analysis process is described. It shows which data we used, where it is stored, and how it is obtained. These processes can be adapted for future years of this committee. \n",
    "\n",
    "(NB: Some of the plots shown above are repeated here from the highlights for the sake of completeness.)\n",
    "\n",
    "\n",
    "## Data and Process\n",
    "\n",
    "We analyzed anonymized data containing information about the full paper submissions to VIS 2024, the reviews of these submissions, and the IPC bidding preferences. We analyzed this data to understand how well the areas and keywords characterize the body of work submitted this year. We also analyzed the IPC bidding information to understand how well the expertise of the IPC members covers the submissions. Below, we show highlights of our findings.\n",
    "\n",
    "Note that in the the analysis that follows, the submission/paper IDs and reviewer IDs are anonymized through a randomizer, and are _not_ the IDs used in PCS submissions and reviewers.\n",
    "\n",
    "The data used to perform this analysis is a combination of paper submission data and reviewer bidding data. Both sets were anonymized to minimize the ability to identify IPC members, authors, or reviewers. The analysis of the data in this year uses the anonymized CSV files obtained directly from PCS. You can see the source code used to process and generate the plots in this document by clicking on the \"Code\" buttons, which will fold out the Python code used. The anonymization script that was used is located in the anonymization-scripts folder (and may be needed to be updated to correspond with changes made in PCS). In order to get ALL the data, it is current run by James at PCS who sends the resultant anonymized files to the ocmmittee where they are stored in the corresponding year folder.\n",
    "\n",
    "In order to facilitate longitudinal studies of this data, we are also providing a `sqlite` database with the 2020, 2021, and 2022 data in an attempt to make it easier to incorporate future years. \n",
    "This database (as well as the source code of this document) can be found [here](https://github.com/ieee-vgtc/ieeevis-area-chair-committee-data/)\n",
    "\n",
    "## Sanity Checks\n",
    "\n",
    "We include some sanity checks on the data in order to make sure the data has been processed correctly. In 2024, we should have:\n",
    "\n",
    "* 139 papers accepted after the second round\n",
    "* 236 papers rejected after the first round\n",
    "* 9 papers desk rejected\n"
   ]
  },
  {
   "cell_type": "code",
   "execution_count": null,
   "id": "51d8f847",
   "metadata": {
    "pycharm": {
     "name": "#%%\n"
    }
   },
   "outputs": [],
   "source": [
    "#rates_decision computes the acceptance rates (and total number of papers) per year\n",
    "#rates_decision: (index), Decision, year, count, Percentage\n",
    "rates_decision = (submissions\n",
    "    .value_counts(['Decision', 'year'])\n",
    "    .reset_index()\n",
    "    # .rename(columns = {0: 'count'}) #[jdf] no need to rename, the count is already in the 'count' attribute.\n",
    ")\n",
    "rates_decision['Percentage'] = rates_decision.groupby(['year'])['count'].transform(lambda x: x/x.sum()*100)\n",
    "rates_decision = rates_decision.round({'Percentage': 1})\n",
    "#rates_decision computes the acceptance rates (and total number of papers) per year\n",
    "#rates_decision: (index), Decision, year, count, Percentage\n",
    "rates_decision_final = (submissions\n",
    "    .value_counts(['FinalDecision', 'year'])\n",
    "    .reset_index()\n",
    "    # .rename(columns = {0: 'count'}) #[jdf] no need to rename, the count is already in the 'count' attribute.\n",
    ")\n",
    "rates_decision_final['Percentage'] = rates_decision_final.groupby(['year'])['count'].transform(lambda x: x/x.sum()*100)\n",
    "rates_decision_final = rates_decision_final.round({'Percentage': 1})\n",
    "#| output: true\n",
    "rates_decision_final.sort_values(by=['year', 'FinalDecision'], ascending=[False, True], ignore_index=True)\n",
    "\n",
    "fig = px.bar(rates_decision,\n",
    "    x = 'count',\n",
    "    y = 'year',\n",
    "    barmode = 'stack',\n",
    "    orientation = 'h',\n",
    "    color = 'Decision',\n",
    "    text = 'count',\n",
    "    custom_data = ['Decision'],\n",
    ").update_layout(\n",
    "    yaxis=dict(autorange=\"reversed\"),\n",
    "    title = 'Submissions',\n",
    "    xaxis_title = 'Number of Submissions',\n",
    "    **aspect(0.45)\n",
    ").update_traces(\n",
    "    hovertemplate = '%{x} submissions in %{y} have decision %{customdata[0]}<extra></extra>',\n",
    ").show(config=config)\n",
    "\n",
    "fig = px.bar(rates_decision,\n",
    "    x = 'Percentage',\n",
    "    y = 'year',\n",
    "    barmode = 'stack',\n",
    "    orientation = 'h',\n",
    "    color = 'Decision',\n",
    "    text = 'Percentage',\n",
    "    custom_data = ['Decision','count'],\n",
    ").update_layout(\n",
    "    yaxis=dict(autorange=\"reversed\"),\n",
    "    title = 'Submissions',\n",
    "    xaxis_title = 'Percentage of Submissions',\n",
    "    **aspect(0.45)\n",
    ").update_traces(\n",
    "    hovertemplate = '%{customdata[1]} submissions in %{y} have decision %{customdata[0]}<extra></extra>',\n",
    ").show(config=config)"
   ]
  },
  {
   "cell_type": "markdown",
   "id": "843aaa85",
   "metadata": {
    "pycharm": {
     "name": "#%% md\n"
    }
   },
   "source": [
    "The wide ranges of decisions can be collapsed into more straightforward Accept or Reject (where Reject includes desk rejects, admin rejects, and rejections in round 1 or 2).\n",
    "The acceptance rate dropping off is a visible trend.\n"
   ]
  },
  {
   "cell_type": "code",
   "execution_count": null,
   "id": "0d4db70c",
   "metadata": {
    "pycharm": {
     "name": "#%%\n"
    }
   },
   "outputs": [],
   "source": [
    "fig = px.bar(rates_decision_final,\n",
    "    x = 'count',\n",
    "    y = 'year',\n",
    "    barmode = 'stack',\n",
    "    orientation = 'h',\n",
    "    color = 'FinalDecision',\n",
    "    text = 'count',\n",
    "    custom_data = ['FinalDecision'],\n",
    ").update_layout(\n",
    "    yaxis=dict(autorange=\"reversed\"),\n",
    "    title = 'Submissions',\n",
    "    xaxis_title = 'Number of Submissions',\n",
    "    **aspect(0.45)\n",
    ").update_traces(\n",
    "    hovertemplate = '%{x} submissions in %{y} have decision %{customdata[0]}<extra></extra>',\n",
    ").show(config=config)\n",
    "\n",
    "fig = px.bar(rates_decision_final,\n",
    "    x = 'Percentage',\n",
    "    y = 'year',\n",
    "    barmode = 'stack',\n",
    "    orientation = 'h',\n",
    "    color = 'FinalDecision',\n",
    "    text = 'Percentage',\n",
    "    custom_data = ['FinalDecision','count'],\n",
    ").update_layout(\n",
    "    yaxis=dict(autorange=\"reversed\"),\n",
    "    title = 'Submissions',\n",
    "    xaxis_title = 'Percentage of Submissions',\n",
    "    **aspect(0.35)\n",
    ").update_traces(\n",
    "    hovertemplate = '%{customdata[1]} submissions in %{y} have decision %{customdata[0]}<extra></extra>',\n",
    ").show(config=config)"
   ]
  },
  {
   "cell_type": "markdown",
   "id": "997d7368",
   "metadata": {
    "pycharm": {
     "name": "#%% md\n"
    }
   },
   "source": [
    "## Submissions per Area. \n",
    "\n",
    "We wanted to understand how submissions were distributed by area, including acceptance decisions. Submissions to each area were within reasonable upper and lower limits, and decisions did not appear partial to any individual area.\n"
   ]
  },
  {
   "cell_type": "code",
   "execution_count": null,
   "id": "ba91fdce",
   "metadata": {
    "pycharm": {
     "name": "#%%\n"
    }
   },
   "outputs": [],
   "source": [
    "\n",
    "def group_stat(g):\n",
    "    return pd.DataFrame({\n",
    "        '# Submissions': g,\n",
    "        '% Submissions': round(g/g.sum()*100,1),\n",
    "        'Total': g.sum()\n",
    "    })\n",
    "\n",
    "tmp = (submissions[submissions.year > 2020]\n",
    "    .value_counts(['Area', 'Decision', 'year'])\n",
    "    .reset_index()\n",
    "    .rename(columns = {0: 'count'})\n",
    ")\n",
    "\n",
    "fig = px.bar(tmp,\n",
    "    x = 'count',\n",
    "    y = 'Area',\n",
    "    barmode = 'stack',\n",
    "    orientation = 'h',\n",
    "    color = 'Decision',\n",
    "    text = 'count',\n",
    "    custom_data = ['Decision'],\n",
    "    facet_row='year',\n",
    "    category_orders={'year': [2024,2023,2022, 2021]}, #, 2020]},\n",
    ").update_layout(\n",
    "    title = 'Submissions by area and year',\n",
    "    xaxis_title = 'Number of Submissions',\n",
    "    yaxis=dict(\n",
    "        autorange=\"reversed\",\n",
    "        tickfont=dict(size=12),  # Adjust y-label fontsize \n",
    "    ),\n",
    "    **aspect(1.3)\n",
    ").update_traces(\n",
    "    hovertemplate = '%{x} submissions in %{y} have decision %{customdata[0]}<extra></extra>',\n",
    "    texttemplate='%{text}',\n",
    "    textangle=0  # Force labels to have horizontal orientation\n",
    ").show(config=config)\n",
    "\n",
    "fig = px.bar(tmp,\n",
    "    x = 'count',\n",
    "    y = 'Area',\n",
    "    barmode = 'stack',\n",
    "    orientation = 'h',\n",
    "    color = 'Decision',\n",
    "    text = 'count',\n",
    "    custom_data = ['Decision'],\n",
    ").update_layout(\n",
    "    title = 'Submissions by area all years',\n",
    "    xaxis_title = 'Number of Submissions all years',\n",
    "    yaxis=dict(\n",
    "        autorange=\"reversed\",\n",
    "        tickfont=dict(size=12),  # Adjust y-label fontsize \n",
    "    ),\n",
    "    **aspect(0.5)\n",
    ").update_traces(\n",
    "    hovertemplate = '%{x} submissions in %{y} have decision %{customdata[0]}<extra></extra>',\n",
    ").show(config=config)\n",
    "\n",
    "data=[]\n",
    "count=0\n",
    "for my_year in all_years:\n",
    "    count=count+1\n",
    "    trace1=go.Bar(\n",
    "        x=tmp[tmp['year']==my_year][\"Area\"],\n",
    "        y=tmp[tmp['year']==my_year]['count'],\n",
    "        customdata = tmp[tmp['year']==my_year]['Decision'],\n",
    "        hovertemplate=\"%{y} papers were %{customdata[0]} in\",\n",
    "        name=f\"{my_year}\",\n",
    "        offsetgroup=count,\n",
    "    )\n",
    "    data.append(trace1)\n",
    "\n",
    "fig2 = go.Figure(\n",
    "    data=data,\n",
    "    layout=go.Layout(\n",
    "        title=\"Comparing # submissions 2021, 2022, 2023, and 2024\",\n",
    "        xaxis_title=\"Areas\"\n",
    "    )\n",
    ")\n",
    "fig2.show()"
   ]
  },
  {
   "cell_type": "code",
   "execution_count": null,
   "id": "6d6ce725",
   "metadata": {
    "pycharm": {
     "name": "#%%\n"
    }
   },
   "outputs": [],
   "source": [
    "recent_submissions = submissions[submissions['year'] != 2020]\n",
    "tmptotal = (recent_submissions\n",
    "    .value_counts(['Area', 'year'])\n",
    "    .reset_index()\n",
    "    .rename(columns = {'count': 'total'})\n",
    ")\n",
    "tmp = (recent_submissions\n",
    "    .value_counts(['Area', 'FinalDecision', 'year'])\n",
    "    .reset_index()\n",
    "    # .rename(columns = {0: 'count'})\n",
    ")\n",
    "tmpfinal = pd.merge(left=tmp, right=tmptotal, on=['Area','year']).sort_values(\"year\")\n",
    "tmpfinal['percentage']= round(tmpfinal['count']/tmpfinal['total'] *1000)/10.0\n",
    "fig = px.bar(tmpfinal,\n",
    "    x = 'percentage',\n",
    "    y = 'Area',\n",
    "    barmode = 'stack',\n",
    "    orientation = 'h',\n",
    "    color = 'FinalDecision',\n",
    "    text = 'percentage',\n",
    "    custom_data = ['FinalDecision'],\n",
    "    facet_row='year',\n",
    ").update_layout(\n",
    "    yaxis=dict(autorange=\"reversed\"),\n",
    "    title = 'Submissions by area and year',\n",
    "    xaxis_title = 'Number of Submissions',\n",
    "    **aspect(0.8)\n",
    ").update_traces(\n",
    "    hovertemplate = '%{x} submissions in %{y} have decision %{customdata[0]}<extra></extra>',\n",
    "    texttemplate='%{text}',\n",
    "    textangle=0  # Force labels to have horizontal orientation\n",
    ").show(config=config)\n",
    "\n",
    "\n",
    "\n",
    "tmpfinal2 = tmpfinal.groupby(['Area','FinalDecision']).sum().reset_index()\n",
    "tmpfinal2['newpercentage'] = round(tmpfinal['count']/tmpfinal['total']*1000)/10\n",
    "\n",
    "fig = px.bar(tmpfinal2,\n",
    "    x = 'newpercentage',\n",
    "    y = 'Area',\n",
    "    barmode = 'stack',\n",
    "    orientation = 'h',\n",
    "    color = 'FinalDecision',\n",
    "    text = 'newpercentage',\n",
    "    custom_data = ['FinalDecision'],\n",
    ").update_layout(\n",
    "    yaxis=dict(autorange=\"reversed\"),\n",
    "    title = 'Submissions by area for all recent years',\n",
    "    xaxis_title = 'Number of Submissions for all recent years',\n",
    "    **aspect(0.35)\n",
    ").update_traces(\n",
    "    hovertemplate = '%{x} submissions in %{y} have decision %{customdata[0]}<extra></extra>',\n",
    "    texttemplate='%{text}',\n",
    "    textangle=0  # Force labels to have horizontal orientation\n",
    ").show(config=config)\n",
    "\n",
    "data=[]\n",
    "count=0\n",
    "recent_years = all_years[all_years != 2020]\n",
    "for my_year in recent_years:\n",
    "    count=count+1\n",
    "    trace1=go.Bar(\n",
    "        x=tmp[tmp['year']==my_year][\"Area\"],\n",
    "        y=tmp[tmp['year']==my_year]['count'],\n",
    "        customdata = tmp[tmp['year']==my_year]['FinalDecision'],\n",
    "        hovertemplate=\"%{y} papers were %{customdata} in\",\n",
    "        name=f\"{my_year}\",\n",
    "        offsetgroup=count,\n",
    "    )\n",
    "    data.append(trace1)\n",
    "\n",
    "fig2 = go.Figure(\n",
    "    data=data,\n",
    "    layout=go.Layout(\n",
    "        title=\"Comparing # submissions 2021, 2022, 2023, and 2024\",\n",
    "        xaxis_title=\"Areas\"\n",
    "    )\n",
    ")\n",
    "fig2.show()"
   ]
  },
  {
   "cell_type": "markdown",
   "id": "9373d858",
   "metadata": {
    "pycharm": {
     "name": "#%% md\n"
    }
   },
   "source": [
    "## Submissions and Keywords used\n",
    "\n",
    " We also analyzed how often keywords were used in the submissions. The frequency of keywords used is reasonable. The keywords at the tail of the distibution may require actions.\n",
    "\n",
    "How many papers were submitted to each area, and what is the breakdown of decisions?\n",
    "***Anything else to add?***"
   ]
  },
  {
   "cell_type": "code",
   "execution_count": null,
   "id": "7981ad95",
   "metadata": {
    "pycharm": {
     "name": "#%%\n"
    }
   },
   "outputs": [],
   "source": [
    "# do a manual histogram to include non-specified keywords\n",
    "\n",
    "px.scatter(k_total,\n",
    "    x = 'Short Name',\n",
    "    y = 'Submission %',  # 'Submission %',\n",
    "    color = 'Year',\n",
    "    category_orders={\"Year\": [\"2024\", \"2023\", \"2022\", \"2021\", \"2020\"]}\n",
    "    # facet_row='year',\n",
    "    # category_orders={'year':  reversed([2020, 2021, 2022, 2023, 2024])},\n",
    ").update_traces(\n",
    "    hovertemplate = \"'%{x}' specified in %{y} submissions<extra></extra>\",\n",
    ").update_layout(\n",
    "    xaxis_tickfont_size = 8,\n",
    "    xaxis_dtick = 1,\n",
    "    # yaxis_dtick = 50,\n",
    "    hovermode = 'closest',\n",
    "    title = 'Frequency of keywords across submissions',\n",
    "    **aspect(0.8)\n",
    ").show(config=config)"
   ]
  },
  {
   "cell_type": "markdown",
   "id": "01d2b207-30d8-488e-acdf-3f116be0e18f",
   "metadata": {},
   "source": [
    "Keywords with strong variations between 2023 and 2024 are listed here, with their historical differences. Despite the variations, there is no strong trend over the four years. Mostly yearly variations."
   ]
  },
  {
   "cell_type": "code",
   "execution_count": null,
   "id": "d22ff986-f1ff-4a1f-ba0d-af2e37df6b9b",
   "metadata": {},
   "outputs": [],
   "source": [
    "\n",
    "pd.set_option('display.max_rows', None)\n",
    "kw_df = k_year.diff(axis=1).sort_values(by=2024, ascending=False)\n",
    "kw_df.drop([2020], axis=1, inplace=True)\n",
    "# maxval = max(-kw_df.min(axis=None), kw_df.max(axis=None))\n",
    "kw_df[kw_df[2024].abs() > 0.3].style\\\n",
    "    .format('{:.2f}', na_rep=\"\")\\\n",
    "    .text_gradient(cmap=\"RdYlBu\", vmin=-1, vmax=1)"
   ]
  },
  {
   "cell_type": "code",
   "execution_count": null,
   "id": "bf5ecb5c",
   "metadata": {
    "pycharm": {
     "name": "#%%\n"
    }
   },
   "outputs": [],
   "source": [
    "# do a manual histogram to include non-specified keywords\n",
    "\n",
    "px.bar(k_total,\n",
    "    x = 'Short Name',\n",
    "    y = '# Submissions',\n",
    "    color = 'Category',\n",
    "    facet_row='year',\n",
    "    category_orders={'year': reversed([2020, 2021, 2022, 2023, 2024])},\n",
    ").update_traces(\n",
    "    hovertemplate = \"'%{x}' specified in %{y} submissions<extra></extra>\",\n",
    ").update_layout(\n",
    "    xaxis_tickfont_size = 8,\n",
    "    xaxis_dtick = 1,\n",
    "    yaxis_dtick = 50,\n",
    "    hovermode = 'closest',\n",
    "    title = 'Frequency of keywords across submissions',\n",
    "    **aspect(0.8)\n",
    ").show(config=config)"
   ]
  },
  {
   "cell_type": "code",
   "execution_count": null,
   "id": "fd77e402",
   "metadata": {
    "pycharm": {
     "name": "#%%\n"
    }
   },
   "outputs": [],
   "source": [
    "k_cnt = staticdata['keywords'].merge(\n",
    "    pd.DataFrame(staticdata['area'].values(), columns = ['Area']), \n",
    "    how = 'cross'\n",
    ").merge(\n",
    "    k_all\n",
    "        .value_counts(['Short Name', 'Area'])\n",
    "        .groupby(level=0)\n",
    "        .apply(group_stat)\n",
    "        .droplevel(level=0)  #[jdf] Needed to avoid duplicate 'Short Name' column\n",
    "        .reset_index(),\n",
    "    how = 'outer'\n",
    ").fillna(1e-10) # needed for sorting, Plotly bug?\n",
    "# do manual histogram without 2020 areas\n",
    "k_cnt_new=k_cnt[~k_cnt.Area.isin(['VAST', 'SciVis', 'InfoVis'])]\n",
    "# with 2020 absolute\n",
    "px.bar(k_cnt,\n",
    "    x = 'Short Name',\n",
    "    y = '# Submissions',\n",
    "    color = 'Area',\n",
    "    custom_data = ['Area']\n",
    ").update_traces(\n",
    "    hovertemplate = 'Keyword \"%{x}\" specified by %{y} submissions from area \"%{customdata}\"<extra></extra>'\n",
    ").update_layout(\n",
    "    barmode = 'stack',\n",
    "    xaxis_dtick = 1,\n",
    "    xaxis_tickfont_size = 8,\n",
    "    xaxis_fixedrange = True,\n",
    "    yaxis_fixedrange = True,\n",
    "    xaxis_categoryorder = 'total descending',\n",
    "    title = 'Frequency of keywords across submissions, by area (for all years)',\n",
    "    **aspect(0.5),\n",
    "    \n",
    ").show(config=config)\n",
    "\n",
    "k_cnt['Submissions_pct'] = k_cnt.groupby(['Short Name'])['# Submissions'].transform(lambda x: x/x.sum()*100)\n",
    "k_cnt = k_cnt.round({'Percentage': 1})\n",
    "\n",
    "# make sure order is consistent over absolute & percentage plot\n",
    "k_cnt['Totals']=k_cnt.groupby(['Short Name'])['# Submissions'].transform(lambda x: x.sum())\n",
    "k_cnt=k_cnt.sort_values('Totals', ascending=False)\n",
    "\n",
    "# with 2020 in percent\n",
    "px.bar(k_cnt,\n",
    "    x = 'Short Name',\n",
    "    y = 'Submissions_pct',\n",
    "    color = 'Area',\n",
    "    custom_data = ['Area']\n",
    ").update_traces(\n",
    "    hovertemplate = 'Keyword \"%{x}\" specified by %{y} submissions from area \"%{customdata}\"<extra></extra>'\n",
    ").update_layout(\n",
    "    barmode = 'stack',\n",
    "    xaxis_dtick = 1,\n",
    "    xaxis_tickfont_size = 8,\n",
    "    xaxis_fixedrange = True,\n",
    "    yaxis_fixedrange = True,\n",
    "    xaxis_categoryorder = 'trace',\n",
    "    title = 'Frequency of keywords across submissions, by area (for all years)',\n",
    "    yaxis_title = '% of Submissions',\n",
    "    **aspect(0.5)\n",
    ").show(config=config)\n",
    "\n",
    "# without 2020 absolute\n",
    "px.bar(k_cnt_new,\n",
    "    x = 'Short Name',\n",
    "    y = '# Submissions',\n",
    "    color = 'Area',\n",
    "    custom_data = ['Area']\n",
    ").update_traces(\n",
    "    hovertemplate = 'Keyword \"%{x}\" specified by %{y} submissions from area \"%{customdata}\"<extra></extra>'\n",
    ").update_layout(\n",
    "    barmode = 'stack',\n",
    "    xaxis_dtick = 1,\n",
    "    xaxis_tickfont_size = 8,\n",
    "    xaxis_fixedrange = True,\n",
    "    yaxis_fixedrange = True,\n",
    "    xaxis_categoryorder = 'total descending',\n",
    "    title = 'Frequency of keywords across submissions, by area (excluding 2020)',\n",
    "    **aspect(0.5)\n",
    ").show(config=config)\n",
    "\n",
    "\n",
    "k_cnt_new['Submissions_pct'] = k_cnt_new.groupby(['Short Name'])['# Submissions'].transform(lambda x: x/x.sum()*100)\n",
    "k_cnt_new = k_cnt_new.round({'Percentage': 1})\n",
    "\n",
    "# make sure order is consistent over absolute & percentage plot\n",
    "k_cnt_new['Totals']=k_cnt_new.groupby(['Short Name'])['# Submissions'].transform(lambda x: x.sum())\n",
    "k_cnt_new=k_cnt_new.sort_values('Totals', ascending=False)\n",
    "\n",
    "# without 2020 in percent\n",
    "px.bar(k_cnt_new,\n",
    "    x = 'Short Name',\n",
    "    y = 'Submissions_pct',\n",
    "    color = 'Area',\n",
    "    custom_data = ['Area']\n",
    ").update_traces(\n",
    "    hovertemplate = 'Keyword \"%{x}\" specified by %{y} submissions from area \"%{customdata}\"<extra></extra>'\n",
    ").update_layout(\n",
    "    barmode = 'stack',\n",
    "    xaxis_dtick = 1,\n",
    "    xaxis_tickfont_size = 8,\n",
    "    xaxis_fixedrange = True,\n",
    "    yaxis_fixedrange = True,\n",
    "    xaxis_categoryorder = 'trace',\n",
    "    title = 'Frequency of keywords across submissions, by area (excluding 2020)',\n",
    "    yaxis_title = '% of Submissions',\n",
    "    **aspect(0.5)\n",
    ").show(config=config)"
   ]
  },
  {
   "cell_type": "markdown",
   "id": "048f283f",
   "metadata": {
    "pycharm": {
     "name": "#%% md\n"
    }
   },
   "source": [
    "How are keywords distributed across areas?\n"
   ]
  },
  {
   "cell_type": "code",
   "execution_count": null,
   "id": "8be74ff0",
   "metadata": {
    "pycharm": {
     "name": "#%%\n"
    }
   },
   "outputs": [],
   "source": [
    "# do a manual histogram to include non-specified keywords\n",
    "k_cnt = staticdata['keywords'].merge(\n",
    "    pd.DataFrame(staticdata['area'].values(), columns = ['Area']), \n",
    "    how = 'cross'\n",
    ").merge(\n",
    "    k_all\n",
    "        .value_counts(['Short Name', 'Area'])\n",
    "        .rename('# Submissions')\n",
    "        .reset_index(),\n",
    "    how = 'outer'\n",
    ").fillna(1e-10) # needed for sorting, Plotly bug?\n",
    "\n",
    "px.bar(k_cnt,\n",
    "    x = 'Short Name',\n",
    "    y = '# Submissions',\n",
    "    color = 'Area',\n",
    "    custom_data = ['Area']\n",
    ").update_traces(\n",
    "    hovertemplate = 'Keyword \"%{x}\" specified by %{y} submissions from area \"%{customdata}\"<extra></extra>'\n",
    ").update_layout(\n",
    "    barmode = 'stack',\n",
    "    xaxis_dtick = 1,\n",
    "    xaxis_tickfont_size = 8,\n",
    "    xaxis_fixedrange = True,\n",
    "    yaxis_fixedrange = True,\n",
    "    xaxis_categoryorder = 'total descending',\n",
    "    title = 'Frequency of keywords across submissions, by area',\n",
    "    **aspect(0.5)\n",
    ").show(config=config)"
   ]
  },
  {
   "cell_type": "markdown",
   "id": "e770180c",
   "metadata": {
    "pycharm": {
     "name": "#%% md\n"
    }
   },
   "source": [
    "How many submissions specified a given number of keywords?\n"
   ]
  },
  {
   "cell_type": "code",
   "execution_count": null,
   "id": "55e18179",
   "metadata": {
    "pycharm": {
     "name": "#%%\n"
    }
   },
   "outputs": [],
   "source": [
    "tmp = (submissions\n",
    "    .value_counts(['# Keywords', 'Area'])\n",
    "    .rename('# Submissions')\n",
    "    .reset_index()\n",
    ")\n",
    "\n",
    "px.bar(tmp,\n",
    "    x = '# Keywords', \n",
    "    y = '# Submissions',\n",
    "    barmode = 'stack',\n",
    "    color = 'Area',\n",
    "    custom_data=['Area'],\n",
    ").update_traces(\n",
    "    hovertemplate = '%{y} submissions specified %{x} keywords in area \"%{customdata}\"<extra></extra>',\n",
    ").update_layout(\n",
    "    xaxis_dtick = 1,\n",
    "    title = 'Keyword count per submission',\n",
    "    **aspect(0.5)\n",
    ").show(config=config)"
   ]
  },
  {
   "cell_type": "markdown",
   "id": "6bb55c56",
   "metadata": {
    "pycharm": {
     "name": "#%% md\n"
    }
   },
   "source": [
    "Does keyword count correlate with decision?\n"
   ]
  },
  {
   "cell_type": "code",
   "execution_count": null,
   "id": "f73d009f",
   "metadata": {
    "pycharm": {
     "name": "#%%\n"
    }
   },
   "outputs": [],
   "source": [
    "tmp = (submissions\n",
    "    .assign(**{'# Keywords':\n",
    "        submissions['# Keywords']\n",
    "            .map(lambda x: str(x) if x < 10 else '≥10')\n",
    "    })\n",
    "    .value_counts(['# Keywords', 'Decision'])\n",
    "    .groupby(level=0)\n",
    "    .apply(group_stat)\n",
    "    .droplevel(0)  # [jdf] avoid duplicate column\n",
    "    .reset_index()\n",
    ")\n",
    "\n",
    "px.bar(tmp,\n",
    "    x = '# Keywords', \n",
    "    y = '# Submissions',\n",
    "    barmode = 'stack',\n",
    "    color = 'Decision',\n",
    "    custom_data=['Decision', '% Submissions', 'Total'],\n",
    ").update_traces(\n",
    "    hovertemplate = '%{y} (%{customdata[1]}%) of %{customdata[2]} submissions with %{x} keywords had decision \"%{customdata[0]}\"<extra></extra>',\n",
    ").update_layout(\n",
    "    xaxis_dtick = 1,\n",
    "    xaxis_type = 'category',\n",
    "    xaxis_categoryorder = 'category ascending',\n",
    "    title = 'Decisions by keyword count',\n",
    "    **aspect(0.5)\n",
    ").show(config=config)\n",
    "\n",
    "\n",
    "px.bar(tmp,\n",
    "    x = '# Keywords', \n",
    "    y = '% Submissions',\n",
    "    barmode = 'stack',\n",
    "    color = 'Decision',\n",
    "    custom_data=['Decision', '# Submissions', 'Total'],\n",
    ").update_traces(\n",
    "    hovertemplate = '%{y}% (%{customdata[1]} in total) of %{customdata[2]} submissions with %{x} keywords had decision \"%{customdata[0]}\"<extra></extra>',\n",
    ").update_layout(\n",
    "    xaxis_dtick = 1,\n",
    "    xaxis_type = 'category',\n",
    "    xaxis_categoryorder = 'category ascending',\n",
    "    title = 'Decisions by keyword count',\n",
    "    **aspect(0.5)\n",
    ").show(config=config)"
   ]
  },
  {
   "cell_type": "markdown",
   "id": "4cfcbac4",
   "metadata": {
    "pycharm": {
     "name": "#%% md\n"
    }
   },
   "source": [
    "Do specific keywords correlate with decision?\n"
   ]
  },
  {
   "cell_type": "code",
   "execution_count": null,
   "id": "3c7a21c2",
   "metadata": {
    "pycharm": {
     "name": "#%%\n"
    }
   },
   "outputs": [],
   "source": [
    "# do a manual histogram to include non-specified keywords\n",
    "\n",
    "\n",
    "k_dec = (pd.crosstab(k_all[\"Short Name\"], k_all[\"FinalDecision\"]).stack() ## changed this from value_counts to crosstab, to include counts of 0, which plotly's sorting seems to need to work correctly\n",
    "    .groupby(level = 0)\n",
    "    .apply(group_stat)\n",
    "    .droplevel(level=0)\n",
    "    .reset_index()\n",
    ")\n",
    "\n",
    "\n",
    "k_dec=k_dec.sort_values('Total', ascending=False)\n",
    "\n",
    "\n",
    "px.bar(k_dec,\n",
    "    x = 'Short Name',\n",
    "    y = '# Submissions',\n",
    "    color = 'FinalDecision',\n",
    "    custom_data = ['FinalDecision', '% Submissions', 'Total'],\n",
    ").update_layout(\n",
    "    xaxis_dtick = 1,\n",
    "    xaxis_tickfont_size = 8,\n",
    "    title = 'Decision by presence of keyword',\n",
    "    **aspect(0.4),\n",
    "    xaxis_categoryorder = 'trace' \n",
    ").update_traces(\n",
    "    hovertemplate = \"%{y} of %{customdata[2]} submissions (%{customdata[1]}%) specifying keyword '%{x}' had decision '%{customdata[0]}<extra></extra>\"\n",
    ").show(config=config)\n",
    "\n",
    "\n",
    "\n",
    "px.bar(k_dec,\n",
    "    x = 'Short Name',\n",
    "    y = '% Submissions',\n",
    "    color = 'FinalDecision',\n",
    "    custom_data = ['FinalDecision', '# Submissions', 'Total'],\n",
    ").update_layout(\n",
    "    xaxis_categoryorder = 'trace',\n",
    "    xaxis_dtick = 1,\n",
    "    xaxis_tickfont_size = 8,\n",
    "    xaxis_fixedrange = True,\n",
    "    yaxis_fixedrange = True,\n",
    "    title = 'Decision by presence of keyword',\n",
    "    **aspect(0.4),\n",
    "    \n",
    ").update_traces(\n",
    "    hovertemplate = \"%{y}% of %{customdata[2]} submissions (%{customdata[1]} in total) specifying keyword '%{x}' had decision '%{customdata[0]}<extra></extra>\"\n",
    ").show(config=config)"
   ]
  },
  {
   "cell_type": "markdown",
   "id": "4db0971b",
   "metadata": {
    "pycharm": {
     "name": "#%% md\n"
    }
   },
   "source": [
    "How often are keywords \"esoteric\", i.e. used alone?\n"
   ]
  },
  {
   "cell_type": "code",
   "execution_count": null,
   "id": "adceab46",
   "metadata": {
    "pycharm": {
     "name": "#%%\n"
    }
   },
   "outputs": [],
   "source": [
    "tmp = (k_all.set_index('Paper ID')\n",
    "    .value_counts(['Short Name', 'Category', '# Keywords'])\n",
    "    .rename('# Submissions')\n",
    "    .reset_index()\n",
    "    .assign(**{'# Co-Keywords': (lambda x: x['# Keywords']-1)})\n",
    ")\n",
    "\n",
    "px.box(tmp,\n",
    "    x = 'Short Name',\n",
    "    y = '# Co-Keywords',\n",
    "    color = 'Category',\n",
    ").update_layout(\n",
    "    xaxis_dtick = 1,\n",
    "    xaxis_tickfont_size = 8,\n",
    "    **aspect(0.4)\n",
    ").update_traces(\n",
    "    width = .5,\n",
    "    line_width = 1,\n",
    ").show(config=config)"
   ]
  },
  {
   "cell_type": "code",
   "execution_count": null,
   "id": "f96d90a2",
   "metadata": {
    "pycharm": {
     "name": "#%%\n"
    }
   },
   "outputs": [],
   "source": [
    "px.strip(tmp,\n",
    "    x = 'Short Name',\n",
    "    y = '# Co-Keywords',\n",
    "    color = 'Category',\n",
    "    \n",
    ").update_layout(\n",
    "    xaxis_dtick = 1,\n",
    "    xaxis_tickfont_size = 8,\n",
    "    **aspect(0.4),\n",
    "    xaxis_categoryorder = \"mean descending\",\n",
    ").update_traces(\n",
    "    #jitter=0.3,\n",
    "    width = .5,\n",
    "    line_width = 1,\n",
    ").show(config=config)"
   ]
  },
  {
   "cell_type": "markdown",
   "id": "cc1207a7",
   "metadata": {
    "pycharm": {
     "name": "#%% md\n"
    }
   },
   "source": [
    "How often are pairs of keywords specified together?\n"
   ]
  },
  {
   "cell_type": "code",
   "execution_count": null,
   "id": "4573349d",
   "metadata": {
    "pycharm": {
     "name": "#%%\n"
    }
   },
   "outputs": [],
   "source": [
    "k_pairs = (k_all\n",
    "    .groupby('Paper ID', )\n",
    "    .apply(lambda g: pd.DataFrame(itertools.combinations(g['Short Name'].values, 2)),\n",
    "          include_groups=False)\n",
    "    .join(submissions['Decision'])\n",
    ")\n",
    "\n",
    "tmp = k_pairs.groupby([0,1]).size().nlargest(40)\n",
    "tmp = (\n",
    "    k_pairs\n",
    "    .set_index([0,1])\n",
    "    .loc[tmp.index]\n",
    "    .assign(**{'Keyword Pair': lambda df: [' + '.join(v) for v in df.index.values]})\n",
    "    .value_counts(['Keyword Pair', 'Decision'], sort=False)\n",
    "    .rename('# Submissions')\n",
    "    .reset_index()\n",
    ")\n",
    "\n",
    "px.bar(tmp,\n",
    "    x = 'Keyword Pair',\n",
    "    y = '# Submissions',\n",
    "    color = 'Decision',\n",
    "    custom_data = ['Decision'],\n",
    ").update_layout(\n",
    "    xaxis_dtick = 1,\n",
    "    xaxis_categoryorder = 'total descending',\n",
    "    xaxis_tickfont_size = 8,\n",
    "    title = 'Top 40 keyword pairs',\n",
    "    **aspect(0.55)\n",
    ").update_traces(\n",
    "    hovertemplate = '%{y} submissions with keyword pair \"%{x}\" had decision \"%{customdata[0]}\"<extra></extra>',\n",
    ").show(config=config)\n",
    "\n",
    "k_pairs = (k_all\n",
    "    .groupby('Paper ID')\n",
    "    .apply(lambda g: pd.DataFrame(itertools.combinations(g['Short Name'].values, 2)),\n",
    "          include_groups=False)\n",
    "    .join(submissions['FinalDecision'])\n",
    ")\n",
    "tmp = k_pairs.groupby([0,1]).size().nlargest(40)\n",
    "tmp = (\n",
    "    k_pairs\n",
    "    .set_index([0,1])\n",
    "    .loc[tmp.index]\n",
    "    .assign(**{'Keyword Pair': lambda df: [' + '.join(v) for v in df.index.values]})\n",
    "    .value_counts(['Keyword Pair', 'FinalDecision'], sort=False)\n",
    "    .rename('# Submissions')\n",
    "    .reset_index()\n",
    ")\n",
    "\n",
    "px.bar(tmp,\n",
    "    x = 'Keyword Pair',\n",
    "    y = '# Submissions',\n",
    "    color = 'FinalDecision',\n",
    "    custom_data = ['FinalDecision'],\n",
    ").update_layout(\n",
    "    xaxis_dtick = 1,\n",
    "    xaxis_categoryorder = 'total descending',\n",
    "    xaxis_tickfont_size = 8,\n",
    "    title = 'Top 40 keyword pairs',\n",
    "    **aspect(0.55)\n",
    ").update_traces(\n",
    "    hovertemplate = '%{y} submissions with keyword pair \"%{x}\" had decision \"%{customdata[0]}\"<extra></extra>',\n",
    ").show(config=config)\n",
    "\n",
    "newtmp = (pd.merge(tmp, tmp\n",
    "    .groupby('Keyword Pair').sum(), on='Keyword Pair')\n",
    "    .rename(columns={\n",
    "        '# Submissions_x':\"# Submissions\",\n",
    "        \"# Submissions_y\":\"Total\",\n",
    "        'FinalDecision_x':'FinalDecision'  #[jdf] only use the _x version\n",
    "    })\n",
    "    .assign(Percent=lambda x:round(1000 * x['# Submissions']/x.Total)/10)\n",
    "    .sort_values(by=\"Percent\")\n",
    ")\n",
    "px.bar(newtmp,\n",
    "    x = 'Keyword Pair',\n",
    "    y = 'Percent',\n",
    "    color = 'FinalDecision',\n",
    "    custom_data = ['FinalDecision'],\n",
    ").update_layout(\n",
    "    xaxis_dtick = 1,\n",
    "    xaxis_categoryorder = 'total descending',\n",
    "    xaxis_tickfont_size = 8,\n",
    "    title = 'Top 40 keyword pairs sorted by acceptance rate',\n",
    "    **aspect(0.55)\n",
    ").update_traces(\n",
    "    hovertemplate = '%{y} submissions with keyword pair \"%{x}\" had decision \"%{customdata[0]}\"<extra></extra>',\n",
    ").show(config=config)\n",
    "\n",
    "cooc = (k_pairs\n",
    "    .groupby([0,1])\n",
    "    .size()\n",
    "    .unstack()\n",
    "    .reindex(\n",
    "        index = staticdata['keywords']['Short Name'], \n",
    "        columns = staticdata['keywords']['Short Name']\n",
    "    )\n",
    "    .fillna(0)\n",
    ")\n",
    "\n",
    "cooc = (cooc + cooc.T)\n",
    "cooc['Total'] = cooc.max(axis=0)\n",
    "cooc.sort_values(by='Total', ascending=False,inplace=True)\n",
    "cooc = cooc.loc[:,list(cooc.index)]\n",
    "\n",
    "np.fill_diagonal(cooc.values, None)\n",
    "\n",
    "px.imshow(cooc, \n",
    "    color_continuous_scale='portland',\n",
    ").update_traces(\n",
    "    connectgaps = False,\n",
    "    hoverongaps = False,\n",
    "    hovertemplate = \"Keywords '%{x}' and '%{y}' are jointly specified in %{z} submissions<extra></extra>\",\n",
    "    colorbar_title = '# Submissions',\n",
    ").update_layout(    \n",
    "    xaxis_dtick = 1,\n",
    "    xaxis_tickfont_size = 7,\n",
    "    yaxis_dtick = 1,\n",
    "    yaxis_tickfont_size = 7,\n",
    "    hovermode = 'closest',\n",
    "    xaxis_showgrid = False,\n",
    "    yaxis_showgrid = False,\n",
    "    title = 'Co-occurrence of keywords',\n",
    "    **aspect(.7)\n",
    ").show(config=config)"
   ]
  },
  {
   "cell_type": "code",
   "execution_count": null,
   "id": "1f58bbca",
   "metadata": {
    "pycharm": {
     "name": "#%%\n"
    }
   },
   "outputs": [],
   "source": [
    "cooc = (k_pairs\n",
    "    .groupby([0,1])\n",
    "    .size()\n",
    "    .unstack()\n",
    "    .reindex(\n",
    "        index = staticdata['keywords']['Short Name'], \n",
    "        columns = staticdata['keywords']['Short Name']\n",
    "    )\n",
    "    .fillna(0)\n",
    ")\n",
    "cooc['Total'] = cooc.max(axis=1)\n",
    "cooc.sort_values(by='Total', ascending=False,inplace=True)\n",
    "\n",
    "k_triples = (k_all\n",
    "    .groupby('Paper ID')\n",
    "    .apply(lambda g: pd.DataFrame(itertools.combinations(g['Short Name'].values, 3)),\n",
    "          include_groups=False)\n",
    "    .join(submissions['FinalDecision'])\n",
    ")\n",
    "\n",
    "tmp = k_triples.groupby([0,1,2]).size().nlargest(40)\n",
    "tmp = (\n",
    "    k_triples\n",
    "    .set_index([0,1,2])\n",
    "    .loc[tmp.index]\n",
    "    .assign(**{'Keyword Triple': lambda df: [' + '.join(v) for v in df.index.values]})\n",
    ")\n",
    "tmp= (\n",
    "    pd.crosstab(tmp['Keyword Triple'], tmp['FinalDecision']).stack() \n",
    "    .groupby(level=0)\n",
    "    .apply(group_stat,\n",
    "          include_groups=False)\n",
    "    .droplevel(0)  # [jdf] to avoid duplicate columns\n",
    "    .reset_index()\n",
    "    .sort_values('Total', ascending=False)\n",
    ")\n",
    "\n",
    "px.bar(tmp,\n",
    "    x = 'Keyword Triple',\n",
    "    y = '# Submissions',\n",
    "    color = 'FinalDecision',\n",
    ").update_layout(\n",
    "    xaxis_dtick = 1,\n",
    "    xaxis_tickfont_size = 8,\n",
    "    title = 'Top 40 keyword triples',\n",
    "    **aspect(0.5)\n",
    ").update_traces(\n",
    "    hovertemplate = '%{y} submissions with keyword pair \"%{x}\" had decision \"%{fullData.name}\"<extra></extra>',\n",
    ").show(config=config)\n",
    "\n",
    "\n",
    "px.bar(tmp,\n",
    "    x = 'Keyword Triple',\n",
    "    y = '% Submissions',\n",
    "    color = 'FinalDecision',\n",
    ").update_layout(\n",
    "    xaxis_dtick = 1,\n",
    "    xaxis_tickfont_size = 8,\n",
    "    title = 'Top 40 keyword triples',\n",
    "    **aspect(0.5)\n",
    ").update_traces(\n",
    "    hovertemplate = '%{y}% submissions with keyword pair \"%{x}\" had decision \"%{fullData.name}\"<extra></extra>',\n",
    ").show(config=config)"
   ]
  },
  {
   "cell_type": "markdown",
   "id": "26a88223",
   "metadata": {
    "pycharm": {
     "name": "#%% md\n"
    }
   },
   "source": [
    "## Matching for reviewers\n",
    "\n",
    "What is the distribution of match scores by keyword?\n"
   ]
  },
  {
   "cell_type": "code",
   "execution_count": null,
   "id": "b54f9a1e",
   "metadata": {
    "pycharm": {
     "name": "#%%\n"
    }
   },
   "outputs": [],
   "source": [
    "tmp = (matchscores.T\n",
    "    .stack()\n",
    "    .rename('Score')\n",
    "    .loc[lambda x: x > -1.0]\n",
    "    .reset_index()\n",
    "    .merge(k_all.loc[:,['Paper ID', 'Short Name', 'Category']], on='Paper ID')\n",
    "    #.merge(k_all.loc[:,['sid', 'Short Name', 'Category']], on='sid')\n",
    "    .reset_index()\n",
    ")\n",
    "\n",
    "px.box(tmp,\n",
    "    x = 'Short Name',\n",
    "    y = 'Score',\n",
    "    color = 'Category',\n",
    ").update_layout(\n",
    "    xaxis_dtick = 1,\n",
    "    xaxis_tickfont_size = 8,\n",
    "    title = 'Distribution of match scores per keyword',\n",
    "    **aspect(0.4)\n",
    ").update_traces(\n",
    "    width = .5,\n",
    "    line_width = 1,\n",
    ").show(config=config)"
   ]
  },
  {
   "cell_type": "markdown",
   "id": "3feea960",
   "metadata": {
    "pycharm": {
     "name": "#%% md\n"
    }
   },
   "source": [
    "What is the number of \"high\" match scores, per submission?\n"
   ]
  },
  {
   "cell_type": "code",
   "execution_count": null,
   "id": "b5f91a94",
   "metadata": {
    "pycharm": {
     "name": "#%%\n"
    }
   },
   "outputs": [],
   "source": [
    "tmp = (matchscores.T\n",
    "    .where(lambda x: x > -1.0, None)\n",
    ")\n",
    "\n",
    "threshold = [0.5, 0.7, 0.9]\n",
    "\n",
    "tmp = pd.concat([ \n",
    "    (tmp >= q).agg('sum', axis=1).rename('≥ %.1f' % q) \n",
    "    for q in threshold \n",
    "], axis=1)\n",
    "\n",
    "px.bar(tmp,\n",
    "    barmode = 'overlay',\n",
    "    opacity = 1,\n",
    ").update_layout(\n",
    "    legend_title = 'Match Score',\n",
    "    bargap = 0.1,\n",
    "    xaxis_type = 'category',\n",
    "    xaxis_tickfont_size = 8,\n",
    "    yaxis_title = '# Reviewers',\n",
    "    **aspect(0.4)\n",
    ").update_traces(\n",
    "    hovertemplate = 'Submission %{x} has %{y} matches %{fullData.name}<extra></extra>'\n",
    ").show(config=config)"
   ]
  },
  {
   "cell_type": "markdown",
   "id": "1ba2d4ed",
   "metadata": {
    "pycharm": {
     "name": "#%% md\n"
    }
   },
   "source": [
    "Which are the 10 submissions with the lowest number of \"good\" (≥ 0.5) match scores?\n"
   ]
  },
  {
   "cell_type": "code",
   "execution_count": null,
   "id": "642862b7",
   "metadata": {
    "pycharm": {
     "name": "#%%\n"
    }
   },
   "outputs": [],
   "source": [
    "ind = tmp['≥ 0.5'].nsmallest(10).index\n",
    "\n",
    "(tmp\n",
    "    .merge(bids\n",
    "        .query('`Paper ID` in @ind and Bid in [\"willing\", \"want\"]')\n",
    "        .value_counts(['Paper ID'])\n",
    "        .rename(\"Pos. Bids\"),\n",
    "        on='Paper ID')\n",
    "    .merge(submissions, on='Paper ID')\n",
    "    .sort_values('≥ 0.5')\n",
    "    .assign(Keywords = lambda df: df.Keywords\n",
    "        .apply(lambda x: ', '.join(\n",
    "            [staticdata['keywords'].set_index('Keyword').loc[k, 'Short Name'] for k in x]\n",
    "    )))\n",
    ")"
   ]
  },
  {
   "cell_type": "markdown",
   "id": "57ca20bf",
   "metadata": {
    "pycharm": {
     "name": "#%% md\n"
    }
   },
   "source": [
    "What is the number of \"high\" match scores, per keyword?\n"
   ]
  },
  {
   "cell_type": "code",
   "execution_count": null,
   "id": "b9d65fcb",
   "metadata": {
    "pycharm": {
     "name": "#%%\n"
    }
   },
   "outputs": [],
   "source": [
    "tmp = (matchscores.T\n",
    "    .where(lambda x: x > -1.0, None)\n",
    ")\n",
    "\n",
    "tmp = (k_all\n",
    "    .set_index('Paper ID')['Short Name']\n",
    "    .to_frame()\n",
    "    .merge(tmp, left_index=True, right_index=True, how='inner')\n",
    "    .set_index('Short Name')\n",
    ")\n",
    "\n",
    "tmp = (pd\n",
    "    .concat([ \n",
    "        (tmp >= q).agg('sum', axis=1).rename('≥ %.1f' % q) \n",
    "        for q in threshold \n",
    "    ], axis=1)\n",
    "    .groupby('Short Name')\n",
    "    .mean()\n",
    ")\n",
    "\n",
    "px.bar(tmp,\n",
    "    barmode = 'overlay',\n",
    "    opacity = 1,\n",
    ").update_layout(\n",
    "    legend_title = 'Match Score',\n",
    "    bargap = 0.1,\n",
    "    xaxis_dtick = 1,\n",
    "    xaxis_type = 'category',\n",
    "    xaxis_tickfont_size = 8,\n",
    "    yaxis_title = '# Matches',\n",
    "    title = 'Match scores by keyword',\n",
    "    **aspect(0.4)\n",
    ").update_traces(\n",
    "    hovertemplate = 'Keyword %{x} has %{y:.1f} matches %{fullData.name}<extra></extra>'\n",
    ").show(config=config)\n",
    "\n",
    "\n",
    "\n",
    "px.bar(tmp.sort_values('≥ 0.9', ascending=False),\n",
    "    barmode = 'overlay',\n",
    "    opacity = 1,\n",
    ").update_layout(\n",
    "    legend_title = 'Match Score',\n",
    "    bargap = 0.1,\n",
    "    xaxis_dtick = 1,\n",
    "    xaxis_type = 'category',\n",
    "    xaxis_tickfont_size = 8,\n",
    "    yaxis_title = '# Matches',\n",
    "    title = 'Match scores by keyword',\n",
    "    xaxis_categoryorder = \"trace\",\n",
    "    **aspect(0.4)\n",
    ").update_traces(\n",
    "    hovertemplate = 'Keyword %{x} has %{y:.1f} matches %{fullData.name}<extra></extra>'   \n",
    ").show(config=config)\n",
    "\n",
    "\n",
    "px.bar(tmp.sort_values('≥ 0.7', ascending=False),\n",
    "    barmode = 'overlay',\n",
    "    opacity = 1,\n",
    ").update_layout(\n",
    "    legend_title = 'Match Score',\n",
    "    bargap = 0.1,\n",
    "    xaxis_dtick = 1,\n",
    "    xaxis_type = 'category',\n",
    "    xaxis_tickfont_size = 8,\n",
    "    yaxis_title = '# Matches',\n",
    "    title = 'Match scores by keyword',\n",
    "    xaxis_categoryorder = \"trace\",\n",
    "    **aspect(0.4)\n",
    ").update_traces(\n",
    "    hovertemplate = 'Keyword %{x} has %{y:.1f} matches %{fullData.name}<extra></extra>'   \n",
    ").show(config=config)\n",
    "\n",
    "\n",
    "px.bar(tmp.sort_values('≥ 0.5', ascending=False),\n",
    "    barmode = 'overlay',\n",
    "    opacity = 1,\n",
    ").update_layout(\n",
    "    legend_title = 'Match Score',\n",
    "    bargap = 0.1,\n",
    "    xaxis_dtick = 1,\n",
    "    xaxis_type = 'category',\n",
    "    xaxis_tickfont_size = 8,\n",
    "    yaxis_title = '# Matches',\n",
    "    title = 'Match scores by keyword',\n",
    "    xaxis_categoryorder = \"trace\",\n",
    "    **aspect(0.4)\n",
    ").update_traces(\n",
    "    hovertemplate = 'Keyword %{x} has %{y:.1f} matches %{fullData.name}<extra></extra>'   \n",
    ").show(config=config)"
   ]
  },
  {
   "cell_type": "markdown",
   "id": "7006e95f",
   "metadata": {
    "pycharm": {
     "name": "#%% md\n"
    }
   },
   "source": [
    "## Bidding\n",
    "\n",
    "How many bids did individual PC members make?\n"
   ]
  },
  {
   "cell_type": "code",
   "execution_count": null,
   "id": "9aaf2bab",
   "metadata": {
    "pycharm": {
     "name": "#%%\n"
    }
   },
   "outputs": [],
   "source": [
    "tmp = (bids\n",
    "    .value_counts(['Reviewer', 'Bid'], sort=False)\n",
    "    .rename('# Bids')\n",
    "    .reset_index()\n",
    ")\n",
    "\n",
    "px.bar(tmp,\n",
    "    x = 'Reviewer',\n",
    "    y = '# Bids',\n",
    "    color = 'Bid'\n",
    ").update_layout(\n",
    "    xaxis_type = 'category',\n",
    "    xaxis_categoryorder = 'total descending',\n",
    "    xaxis_showticklabels = False,\n",
    "    **aspect(0.4)\n",
    ").update_traces(\n",
    "    hovertemplate = 'Reviewier %{x} made %{y} \"%{fullData.name}\" bids.<extra></extra>'\n",
    ").show(config=config)"
   ]
  },
  {
   "cell_type": "markdown",
   "id": "2509f55f",
   "metadata": {
    "pycharm": {
     "name": "#%% md\n"
    }
   },
   "source": [
    "How many (positive) bids did each submission receive?\n"
   ]
  },
  {
   "cell_type": "code",
   "execution_count": null,
   "id": "cb3af5fe",
   "metadata": {
    "pycharm": {
     "name": "#%%\n"
    }
   },
   "outputs": [],
   "source": [
    "tmp = (bids\n",
    "    .value_counts(['Paper ID', 'Bid'], sort=False)\n",
    "    #.value_counts(['sid', 'Bid'], sort=False)\n",
    "    .rename('# Bids')\n",
    "    .reset_index()\n",
    "    .loc[lambda x: x.Bid.isin(['want', 'willing'])]\n",
    ")\n",
    "\n",
    "px.bar(tmp,\n",
    "    x = 'Paper ID',\n",
    "    #x = 'sid',\n",
    "    y = '# Bids',\n",
    "    color = 'Bid'\n",
    ").update_layout(\n",
    "    xaxis_type = 'category',\n",
    "    xaxis_categoryorder = 'total descending',\n",
    "    xaxis_showticklabels = False,\n",
    "    title = 'Positive Bids per Paper',\n",
    "    **aspect(0.4),\n",
    ").update_traces(\n",
    "    hovertemplate = 'Paper %{x} received %{y} \"%{fullData.name}\" bids.<extra></extra>',\n",
    ").show(config=config)"
   ]
  },
  {
   "cell_type": "code",
   "execution_count": null,
   "id": "92705764",
   "metadata": {
    "pycharm": {
     "name": "#%%\n"
    }
   },
   "outputs": [],
   "source": [
    "popular = 15\n",
    "\n",
    "tmp = (bids\n",
    "    .query('Bid in [\"want\", \"willing\"]')\n",
    "    .value_counts(['Paper ID', 'Bid'], sort=False)\n",
    "   # .value_counts(['sid', 'Bid'], sort=False)\n",
    "    .unstack()\n",
    "    .fillna(0)\n",
    "    .groupby(['want', 'willing'])\n",
    "    .apply(lambda g: pd.Series({'ids': g.index.values, 'count': g.index.size}),\n",
    "          include_groups=False)\n",
    "    .reset_index()\n",
    "    .assign(popular = \n",
    "            lambda df: np.where( df['willing']+df['want']>=popular, \"≥ %d\" % popular, \"< %d\" % popular)\n",
    "))\n",
    "\n",
    "px.scatter(tmp,\n",
    "    x = 'willing',\n",
    "    y = 'want',\n",
    "    size = 'count',\n",
    "    color = 'popular',\n",
    "    custom_data = ['count', 'ids'],\n",
    ").update_layout(\n",
    "    legend_title = 'Total Pos. Bids',\n",
    "    title = 'Distribution of Positive Bids',\n",
    "    **aspect(0.4)\n",
    ").update_traces(\n",
    "    hovertemplate = '%{customdata[0]} papers received %{x} \"willing\" and %{y} \"want\" bids',\n",
    ").show(config=config)"
   ]
  },
  {
   "cell_type": "markdown",
   "id": "b9e8acdf",
   "metadata": {
    "pycharm": {
     "name": "#%% md\n"
    }
   },
   "source": [
    "Does the presence of specific keywords correlate with bidding?\n",
    "\n",
    "We run a reviewer-independent ridge regression model where the\n",
    "independent variable is the overall reviewer interest, and the\n",
    "dependent variable is the (weighted) presence of a keyword. We measure\n",
    "interest by giving each \"willing\" or \"want\" bid a score of 1:\n"
   ]
  },
  {
   "cell_type": "code",
   "execution_count": null,
   "id": "23903266",
   "metadata": {
    "pycharm": {
     "name": "#%%\n"
    }
   },
   "outputs": [],
   "source": [
    "tmp_3 = staticdata['keywords'].copy()\n",
    "tmp_3['ix'] = list(range(len(tmp_3)))\n",
    "tmp_3 = tmp_3[['Short Name', 'ix']]\n",
    "tmp_1 = k_all[['Paper ID', 'Short Name']]\n",
    "#tmp_1 = k_all[['sid', 'Short Name']]\n",
    "tmp_2 = bids[(bids['Bid'] == 'willing') | (bids['Bid'] == 'want')]\n",
    "df = tmp_1.merge(tmp_3, on=\"Short Name\").merge(tmp_2, on=\"Paper ID\")\n",
    "#df = tmp_1.merge(tmp_3, on=\"Short Name\").merge(tmp_2, on=\"sid\")\n",
    "df['weight'] = 2\n",
    "df.loc[df['Bid'] == 'willing', 'weight'] = 1\n",
    "\n",
    "total_weight = df[['Paper ID', 'ix', 'weight']].groupby(['Paper ID', 'ix']).sum().reset_index()\n",
    "keyword_count = tmp_1.groupby(['Paper ID']).count().reset_index()\n",
    "#total_weight = df[['sid', 'ix', 'weight']].groupby(['sid', 'ix']).sum().reset_index()\n",
    "#keyword_count = tmp_1.groupby(['sid']).count().reset_index()\n",
    "keyword_count['Keyword Weight'] = 1.0/keyword_count['Short Name']\n",
    "total_weight = total_weight.merge(keyword_count[['Paper ID', 'Keyword Weight']], on=\"Paper ID\")\n",
    "nrows = max(total_weight['Paper ID']) + 1\n",
    "#total_weight = total_weight.merge(keyword_count[['sid', 'Keyword Weight']], on=\"sid\")\n",
    "#nrows = max(total_weight['sid']) + 1\n",
    "\n",
    "ncols = max(total_weight['ix']) + 1\n",
    "design_matrix = np.zeros((nrows, ncols))\n",
    "design_matrix.shape\n",
    "rhs = np.zeros(nrows)\n",
    "\n",
    "# this is embarrassing, there must be a fancy pandas way of doing it.\n",
    "# someone else can figure it out.\n",
    "for i, row in total_weight.iterrows():\n",
    "    design_matrix[int(row['Paper ID']), int(row['ix'])] = row['Keyword Weight']\n",
    "    #design_matrix[int(row['sid']), int(row['ix'])] = row['Keyword Weight']\n",
    "    rhs[int(row['Paper ID'])] = row['weight']\n",
    "    #rhs[int(row['sid'])] = row['weight']\n",
    "import scipy.linalg\n",
    "from sklearn.linear_model import Ridge\n",
    "# Ideally, we find the best regularizer by splitting into training/validation,\n",
    "# but on inspection the order doesn't seem to change too much \n",
    "lr = Ridge(1).fit(design_matrix, rhs)\n",
    "lr.coef_\n",
    "tmp_3['Importance'] = lr.coef_\n",
    "tmp_3 = tmp_3.sort_values(by=['Importance']).merge(staticdata['keywords'], on='Short Name', )\n",
    "\n",
    "px.scatter(tmp_3, \n",
    "    x=\"Short Name\", \n",
    "    y=\"Importance\", \n",
    "    color='Category',\n",
    "    custom_data = ['Keyword'],\n",
    ").update_layout(\n",
    "    title = 'Keyword Importance for Bidding',\n",
    "    xaxis_dtick = 1,\n",
    "    xaxis_categoryorder = 'trace',\n",
    "    xaxis_tickfont_size = 8,\n",
    "    **aspect(0.4)\n",
    ").update_traces(\n",
    "    hovertemplate = 'Importance of \"%{customdata[0]}\": %{y}<extra></extra>'\n",
    ").show(config=config)"
   ]
  },
  {
   "cell_type": "markdown",
   "id": "494ad284",
   "metadata": {
    "pycharm": {
     "name": "#%% md\n"
    }
   },
   "source": [
    "## Assignment\n",
    "\n",
    "How many papers were PC members assigned?\n"
   ]
  },
  {
   "cell_type": "code",
   "execution_count": null,
   "id": "fab6647e",
   "metadata": {
    "pycharm": {
     "name": "#%%\n"
    }
   },
   "outputs": [],
   "source": [
    "tmp = assignments.value_counts(['Reviewer']).rename('# Assignments').reset_index()\n",
    "\n",
    "\n",
    "px.histogram(tmp,\n",
    "    x = '# Assignments',\n",
    ").update_traces(\n",
    "    hovertemplate = '%{y} reviewers were assigned %{x} submissions',\n",
    ").update_layout(\n",
    "    bargap = .1,\n",
    "    yaxis_title = '# PC members',\n",
    "    title = 'Distribution of assignments',\n",
    "    \n",
    "    **aspect(0.4)\n",
    ").show(config=config)\n",
    "\n",
    "### TODO: Split by year \n",
    "\n",
    "tmp2=assignments.merge(submissions['year'], on='Paper ID').value_counts(['Reviewer', 'year']).rename('# Assignments').reset_index()\n",
    "\n",
    "px.histogram(tmp2,\n",
    "    x = '# Assignments',\n",
    "    facet_row=\"year\",\n",
    "    category_orders={'year': [2023, 2022, 2021]}\n",
    ").update_traces(\n",
    "    hovertemplate = '%{y} reviewers were assigned %{x} submissions'\n",
    ").update_layout(\n",
    "    bargap = .1,\n",
    "    yaxis1_title = '# PC members',\n",
    "    yaxis2_title = '# PC members',\n",
    "    yaxis3_title = '# PC members',\n",
    "    title = 'Distribution of assignments, per year',\n",
    "    **aspect(0.5)\n",
    ").show(config=config)"
   ]
  },
  {
   "cell_type": "code",
   "execution_count": null,
   "id": "8a9be6ee",
   "metadata": {
    "pycharm": {
     "name": "#%%\n"
    }
   },
   "outputs": [],
   "source": [
    "tmp = assignments.value_counts(['Reviewer', 'Role']).reset_index()\n",
    "\n",
    "px.histogram(tmp,\n",
    "    x = 'Reviewer',\n",
    "    color = 'Role',\n",
    ").update_traces(\n",
    "    hovertemplate = '%{y} reviewers were assigned %{x} submissions as %{fullData.name}<extra></extra>'\n",
    ").update_layout(\n",
    "    bargap = .1,\n",
    "    barmode = 'group',\n",
    "    xaxis_title = '# Assignments',\n",
    "    yaxis_title = '# Members',\n",
    "    title = 'Distribution of assignments',\n",
    "    **aspect(0.4)\n",
    ").show(config=config)\n",
    "\n",
    "### TODO: Split by year\n",
    "\n",
    "tmp2=assignments.merge(submissions['year'], on='Paper ID').value_counts(['Reviewer', 'Role', 'year']).reset_index()\n",
    "\n",
    "px.histogram(tmp2,\n",
    "    x = 'Reviewer',\n",
    "    color = 'Role',\n",
    "    facet_row='year',\n",
    "    category_orders={'year': [2023, 2022, 2021]}\n",
    ").update_traces(\n",
    "    hovertemplate = '%{y} reviewers were assigned %{x} submissions as %{fullData.name}<extra></extra>'\n",
    ").update_layout(\n",
    "    bargap = .1,\n",
    "    barmode = 'group',\n",
    "    xaxis_title = '# Assignments',\n",
    "    yaxis1_title = '# Members',\n",
    "    yaxis2_title = '# Members',\n",
    "    yaxis3_title = '# Members',\n",
    "    title = 'Distribution of assignments',\n",
    "    **aspect(0.5)\n",
    ").show(config=config)"
   ]
  },
  {
   "cell_type": "markdown",
   "id": "dfe1351c",
   "metadata": {
    "pycharm": {
     "name": "#%% md\n"
    }
   },
   "source": [
    "How many areas did reviewers review in?\n"
   ]
  },
  {
   "cell_type": "code",
   "execution_count": null,
   "id": "d0a0e9a4",
   "metadata": {
    "pycharm": {
     "name": "#%%\n"
    }
   },
   "outputs": [],
   "source": [
    "tmp = (assignments\n",
    "    .merge(submissions, on='Paper ID')\n",
    "    #.merge(submissions, on='sid')\n",
    "    .groupby('Reviewer')\n",
    "    .apply(lambda x: len(x['Area'].unique()),\n",
    "          include_groups=False)\n",
    "    .reset_index())\n",
    "\n",
    "px.histogram(tmp,\n",
    "    x = 0,\n",
    ").update_traces(\n",
    "    hovertemplate = '%{y} PC members were assigned submissions from %{x} area(s)',\n",
    ").update_layout(\n",
    "    bargap = .1,\n",
    "    xaxis_title = '# Areas',\n",
    "    yaxis_title = '# PC members',\n",
    "    **aspect(0.4),\n",
    ").show(config=config)\n",
    "\n",
    "### TODO: Split by year\n",
    "\n",
    "tmp = (assignments\n",
    "    .merge(submissions, on='Paper ID')\n",
    "    .groupby(['Reviewer', 'year'])\n",
    "    .apply(lambda x: len(x['Area'].unique()),\n",
    "          include_groups=False)\n",
    "    .reset_index())\n",
    "\n",
    "px.histogram(tmp,\n",
    "    x = 0,\n",
    "    facet_row='year',\n",
    "    category_orders={'year': [2023, 2022, 2021]}\n",
    ").update_traces(\n",
    "    hovertemplate = '%{y} PC members were assigned submissions from %{x} area(s)',\n",
    ").update_layout(\n",
    "    bargap = .1,\n",
    "    xaxis_title = '# Areas',\n",
    "    yaxis1_title = '# PC members',\n",
    "    yaxis2_title = '# PC members',\n",
    "    yaxis3_title = '# PC members',\n",
    "    **aspect(0.5),\n",
    ").show(config=config)"
   ]
  },
  {
   "cell_type": "markdown",
   "id": "f0ffddcf",
   "metadata": {
    "pycharm": {
     "name": "#%% md\n"
    }
   },
   "source": [
    "How do match scores correlate with bids?\n"
   ]
  },
  {
   "cell_type": "code",
   "execution_count": null,
   "id": "be351c81",
   "metadata": {
    "pycharm": {
     "name": "#%%\n"
    }
   },
   "outputs": [],
   "source": [
    "tmp = bids.assign(\n",
    "    Score = bids.apply(lambda x: (matchscores.loc[x['Reviewer'], x['Paper ID']]), axis=1),\n",
    "    Area  = bids.apply(lambda x: (submissions.loc[x['Paper ID'], 'Area']), axis=1) \n",
    "#    Score = bids.apply(lambda x: (matchscores.loc[x['Reviewer'], x['sid']]), axis=1),\n",
    "#    Area  = bids.apply(lambda x: (submissions.loc[x['sid'], 'Area']), axis=1) \n",
    ").query('Score > -1.0')\n",
    "\n",
    "px.box(tmp,\n",
    "    x = 'Bid',\n",
    "    y = 'Score',\n",
    "    color = 'Bid',\n",
    ").update_layout(\n",
    "    showlegend = False,\n",
    "    xaxis_categoryorder = 'array',\n",
    "    xaxis_categoryarray = ['want', 'willing', 'reluctant', 'conflict'],\n",
    "    **aspect(0.4)\n",
    ").update_traces(\n",
    "    line_width = 2,\n",
    "    boxmean = True\n",
    ").show(config=config)"
   ]
  },
  {
   "cell_type": "code",
   "execution_count": null,
   "id": "a1acb769",
   "metadata": {
    "pycharm": {
     "name": "#%%\n"
    }
   },
   "outputs": [],
   "source": [
    "### TODO: Split by year\n",
    "\n",
    "tmp = bids.assign(\n",
    "    Score = bids.apply(lambda x: (matchscores.loc[x['Reviewer'], x['Paper ID']]), axis=1),\n",
    "    Area  = bids.apply(lambda x: (submissions.loc[x['Paper ID'], 'Area']), axis=1), \n",
    "    year  = bids.apply(lambda x: (submissions.loc[x['Paper ID'], 'year']), axis=1), \n",
    ").query('Score > -1.0')\n",
    "\n",
    "px.box(tmp,\n",
    "    x = 'Bid',\n",
    "    y = 'Score',\n",
    "    color = 'Bid',\n",
    "    facet_row='year'\n",
    ").update_layout(\n",
    "    showlegend = False,\n",
    "    xaxis_categoryorder = 'array',\n",
    "    xaxis_categoryarray = ['want', 'willing', 'reluctant', 'conflict'],\n",
    "    **aspect(0.8)\n",
    ").update_traces(\n",
    "    line_width = 2,\n",
    "    boxmean = True\n",
    ").show(config=config)"
   ]
  },
  {
   "cell_type": "code",
   "execution_count": null,
   "id": "143ba235",
   "metadata": {
    "pycharm": {
     "name": "#%%\n"
    }
   },
   "outputs": [],
   "source": [
    "px.violin(tmp,\n",
    "    x = 'Bid',\n",
    "    y = 'Score',\n",
    "    color = 'Area',\n",
    "    box = True,\n",
    ").update_layout(\n",
    "    # showlegend = False,\n",
    "    title = 'Match scores by bid by area',\n",
    "    xaxis_categoryorder = 'array',\n",
    "    xaxis_categoryarray = ['want', 'willing', 'reluctant', 'conflict'],\n",
    "    violingap=0.2, \n",
    "    violingroupgap=0.1,\n",
    "    **aspect(0.4)\n",
    ").update_traces(\n",
    "    box_line_color = 'black',\n",
    "    box_line_width = 1,\n",
    "    line_width = 0,\n",
    "    meanline_visible=True,\n",
    "    marker_size = 4,\n",
    "    # boxpoints = 'outliers',\n",
    ").show(config=config)\n",
    "\n",
    "### TODO: Split by year\n",
    "\n",
    "px.violin(tmp,\n",
    "    x = 'Bid',\n",
    "    y = 'Score',\n",
    "    color = 'Area',\n",
    "    box = True,\n",
    "    facet_row='year'\n",
    ").update_layout(\n",
    "    # showlegend = False,\n",
    "    title = 'Match scores by bid by area, by year',\n",
    "    xaxis_categoryorder = 'array',\n",
    "    xaxis_categoryarray = ['want', 'willing', 'reluctant', 'conflict'],\n",
    "    violingap=0.2, \n",
    "    violingroupgap=0.1,\n",
    "    **aspect(0.8)\n",
    ").update_traces(\n",
    "    box_line_color = 'black',\n",
    "    box_line_width = 1,\n",
    "    line_width = 0,\n",
    "    meanline_visible=True,\n",
    "    marker_size = 4,\n",
    "    # boxpoints = 'outliers',\n",
    ").show(config=config)"
   ]
  },
  {
   "cell_type": "markdown",
   "id": "3edcc6d4",
   "metadata": {
    "pycharm": {
     "name": "#%% md\n"
    }
   },
   "source": [
    "How often were reviewers assigned submissions that they bid on?\n"
   ]
  },
  {
   "cell_type": "code",
   "execution_count": null,
   "id": "03bd0ee4",
   "metadata": {
    "pycharm": {
     "name": "#%%\n"
    }
   },
   "outputs": [],
   "source": [
    "tmp = (\n",
    "    assignments\n",
    "        .merge(bids, on=['Reviewer', 'Paper ID'], how='left')\n",
    "#        .merge(bids, on=['Reviewer', 'sid'], how='left')\n",
    "        .value_counts(['Role', 'Bid'])\n",
    "        .rename('Reviewers')\n",
    "        .reset_index()\n",
    ")\n",
    "\n",
    "fig = px.bar(tmp,\n",
    "    y = 'Reviewers',\n",
    "    x = 'Role',\n",
    "    color = 'Bid',\n",
    "    custom_data = ['Bid']\n",
    ").update_traces(\n",
    "    hovertemplate = '%{y} PC members assigned as %{x} bid %{customdata}<extra></extra>',\n",
    ").update_layout(\n",
    "    title = \"Assignment by bidding\",\n",
    "    **aspect(0.4),\n",
    ").show(config=config)\n",
    "\n",
    "### TODO: Split by year\n",
    "tmp2 = (\n",
    "    assignments\n",
    "        .merge(bids, on=['Reviewer', 'Paper ID'], how='left')\n",
    "        .merge(submissions, on='Paper ID')\n",
    "        .value_counts(['Role', 'Bid', 'year'])\n",
    "        .rename('Reviewers')\n",
    "        .reset_index()\n",
    ")\n",
    "\n",
    "fig = px.bar(tmp2,\n",
    "    y = 'Reviewers',\n",
    "    x = 'Role',\n",
    "    color = 'Bid',\n",
    "    custom_data = ['Bid'],\n",
    "    facet_row='year'  \n",
    ").update_traces(\n",
    "    hovertemplate = '%{y} PC members assigned as %{x} bid %{customdata}<extra></extra>',\n",
    ").update_layout(\n",
    "    title = \"Assignment by bidding, per year\",\n",
    "    **aspect(0.5),\n",
    ").show(config=config)"
   ]
  },
  {
   "cell_type": "code",
   "execution_count": null,
   "id": "85016468-6894-420a-a485-52c8792a63bb",
   "metadata": {},
   "outputs": [],
   "source": []
  }
 ],
 "metadata": {
  "kernelspec": {
   "display_name": "Python 3 (ipykernel)",
   "language": "python",
   "name": "python3"
  },
  "language_info": {
   "codemirror_mode": {
    "name": "ipython",
    "version": 3
   },
   "file_extension": ".py",
   "mimetype": "text/x-python",
   "name": "python",
   "nbconvert_exporter": "python",
   "pygments_lexer": "ipython3",
   "version": "3.12.4"
  }
 },
 "nbformat": 4,
 "nbformat_minor": 5
}
