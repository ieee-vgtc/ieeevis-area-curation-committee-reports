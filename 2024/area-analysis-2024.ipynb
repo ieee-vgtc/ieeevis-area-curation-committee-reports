{
 "cells": [
  {
   "cell_type": "raw",
   "id": "cabdd0a0-7595-4ab9-9e4c-d062d3a8dd2a",
   "metadata": {},
   "source": [
    "---\n",
    "title: 2024 VIS Area Curation Committee Area Analysis\n",
    "self-contained: true\n",
    "format:\n",
    "  html: \n",
    "    code-fold: true\n",
    "    theme: simplex\n",
    "    toc: true\n",
    "    jupyter: python3\n",
    "---"
   ]
  },
  {
   "cell_type": "markdown",
   "id": "112f0970-259d-4ef3-8e35-f4689331faef",
   "metadata": {},
   "source": [
    "# Summary\n",
    "\n",
    "This report summarizes the findings, recommendations, and process by the VIS Area Curation Committee (ACC) regarding the areas used for paper submissions to IEEE VIS 2024.\n",
    "We use submission information from VIS 2024 to analyze the impact of the topics to the area model.\n",
    "\n",
    "**Given the information we have access to, the areas seem relatively balanced, and we do not make recommendations for any changes, creation or merging, at this time.**\n",
    "\n",
    "The full data and source code to rebuild this project are available [here](https://github.com/ieee-vgtc/ieeevis-area-curation-committee-reports).\n",
    "\n",
    "* Committee members 2024: Jean-Daniel Fekete (co-chair), Alexander Lex (co-chair), Helwig Hauser, Ingrid Hotz, David Laidlaw, Torsten Möller, Michael Papka, Danielle Szafir, Yingcai Wu.\n",
    "\n",
    "Last edited: 2024-10-04."
   ]
  },
  {
   "cell_type": "code",
   "execution_count": null,
   "id": "7ce31b99-8101-4e3e-80c2-11af2df1d67b",
   "metadata": {},
   "outputs": [],
   "source": [
    "%load_ext autoreload\n",
    "%autoreload 2\n",
    "def in_notebook():\n",
    "    try:\n",
    "        from IPython import get_ipython\n",
    "        if 'IPKernelApp' not in get_ipython().config:  # pragma: no cover\n",
    "            return False\n",
    "    except ImportError:\n",
    "        return False\n",
    "    except AttributeError:\n",
    "        return False\n",
    "    return True\n",
    "\n",
    "IN_NOTEBOOK = in_notebook()"
   ]
  },
  {
   "cell_type": "code",
   "execution_count": null,
   "id": "05cedc19-f361-4ab8-ba73-c9faaa85949e",
   "metadata": {},
   "outputs": [],
   "source": [
    "min_df = 25\n",
    "max_df = 0.1\n",
    "max_words = 100000\n",
    "vocab_sample = 250000\n",
    "num_dims = 50\n",
    "filt_min_score = 4\n",
    "n_neighbors = 10\n",
    "llm_family = \"specter2\"\n",
    "# llm_family = \"all-MiniLM-L6-v2\""
   ]
  },
  {
   "cell_type": "code",
   "execution_count": null,
   "id": "634bbc46-240f-49ab-9512-c16a75e02a67",
   "metadata": {},
   "outputs": [],
   "source": [
    "import pandas as pd   # noqa\n",
    "df = pd.read_csv('../data/papers_all.csv', index_col=None)\n",
    "df.abstract = df.abstract.fillna('')\n",
    "df.keywords = df.keywords.fillna('')\n",
    "# print(df.columns)\n",
    "# prints: Index(['abstract', 'title', 'keywords', 'Area', 'year'], dtype='object')\n",
    "df['text'] = df.abstract + ' ' \\\n",
    "            + df.keywords + ' ' \\\n",
    "            + df.title\n",
    "# df = df[[\"Year\", \"Title\", \"Abstract\", \"AuthorKeywords\", \"text\"]]\n",
    "docs = list(df.text)\n",
    "# df.head()"
   ]
  },
  {
   "cell_type": "markdown",
   "id": "fc1a9c5e-98d3-40df-811b-f6279344619b",
   "metadata": {},
   "source": [
    "## Highlights of Topic Analysis\n",
    "We pass the 2021-2024 abstract texts to the Bertopic library and it computes topics magically.\n",
    "These topics seem representative of the main trends in visualization during the period."
   ]
  },
  {
   "cell_type": "code",
   "execution_count": null,
   "id": "40c2bfc3-72b6-4bd3-afe6-1dcc5126fa4b",
   "metadata": {},
   "outputs": [],
   "source": [
    "from bertopic import BERTopic\n",
    "from sentence_transformers import SentenceTransformer\n",
    "from sklearn.feature_extraction.text import CountVectorizer\n",
    "from bertopic.representation import MaximalMarginalRelevance\n",
    "from umap import UMAP\n",
    "\n",
    "vectorizer_model = CountVectorizer(ngram_range=(1, 3), stop_words=\"english\")\n",
    "representation_model = MaximalMarginalRelevance(diversity=0.3)\n",
    "\n",
    "sentence_model = SentenceTransformer('sentence-transformers/allenai-specter')\n",
    "embeddings = sentence_model.encode(docs, show_progress_bar=IN_NOTEBOOK)\n",
    "\n",
    "topic_model = BERTopic(representation_model=representation_model)\n",
    "topics, probs = topic_model.fit_transform(docs, embeddings)\n",
    "topic_model.update_topics(docs, vectorizer_model=vectorizer_model)\n",
    "\n",
    "with pd.option_context('display.max_rows', None, 'display.max_columns', None, 'display.max_colwidth', 1000, 'display.width', 200):\n",
    "    print(topic_model.get_topic_info()[[\"Topic\", \"Count\", \"Representation\"]])\n",
    "# df_model_last = topic_model.get_topic_info()\n",
    "# df_model_last.to_csv(\"topics-all.csv\", index=False)"
   ]
  },
  {
   "cell_type": "code",
   "execution_count": null,
   "id": "5a5cb3c9-b8f0-4d40-9103-4443c4e5624e",
   "metadata": {},
   "outputs": [],
   "source": [
    "from scipy.cluster import hierarchy as sch\n",
    "import numpy as np\n",
    "\n",
    "linkage_function = lambda x: sch.linkage(x, 'ward', optimal_ordering=True)\n",
    "hierarchical_topics = topic_model.hierarchical_topics(docs, linkage_function=linkage_function)\n",
    "\n",
    "topic_model.visualize_hierarchy(hierarchical_topics=hierarchical_topics) "
   ]
  },
  {
   "cell_type": "markdown",
   "id": "c2e6f4dc-2dda-4a4e-8856-e3b7913b202b",
   "metadata": {},
   "source": [
    "## Visualization of the Topic Map\n",
    "These topics can be visualized over a map.\n"
   ]
  },
  {
   "cell_type": "code",
   "execution_count": null,
   "id": "b7f740f8-206f-4910-b4c2-c217c8638437",
   "metadata": {
    "lines_to_next_cell": 2
   },
   "outputs": [],
   "source": [
    "if IN_NOTEBOOK:\n",
    "    reduced_embeddings = UMAP(n_neighbors=10, n_components=2, min_dist=0.0, metric='cosine').fit_transform(embeddings)\n",
    "    vis = topic_model.visualize_documents(df.title, reduced_embeddings=reduced_embeddings, hide_annotations=True, title='<b>Documents and Topics 2021-2024</b>')\n",
    "    # vis.write_html(\"topics-all.html\")\n",
    "else:\n",
    "    vis = None\n",
    "vis"
   ]
  },
  {
   "cell_type": "markdown",
   "id": "809f07af-6106-4400-b0c2-3069ca4d06f0",
   "metadata": {},
   "source": [
    "## Analysis of the Areas\n",
    "\n",
    "To find out if some topics are over- or under-represented, we visualize the topics per Area.\n",
    "The largest area, \"Application\", contains a relatively balanced mix of topics; there is no clear thematic way of splitting it."
   ]
  },
  {
   "cell_type": "code",
   "execution_count": null,
   "id": "19177f3c-6448-4220-bfb0-1a7e8a41b934",
   "metadata": {},
   "outputs": [],
   "source": [
    "topics_per_class = topic_model.topics_per_class(docs, classes=list(df.Area))\n",
    "fig = topic_model.visualize_topics_per_class(topics_per_class, top_n_topics=10)\n",
    "fig.for_each_trace(lambda bar : bar.update(visible=True))"
   ]
  },
  {
   "cell_type": "code",
   "execution_count": null,
   "id": "8b61d0c2-e849-443d-b003-7f972eeff53d",
   "metadata": {},
   "outputs": [],
   "source": []
  }
 ],
 "metadata": {
  "jupytext": {
   "formats": "ipynb,py:light"
  },
  "kernelspec": {
   "display_name": "Python 3 (ipykernel)",
   "language": "python",
   "name": "python3"
  },
  "language_info": {
   "codemirror_mode": {
    "name": "ipython",
    "version": 3
   },
   "file_extension": ".py",
   "mimetype": "text/x-python",
   "name": "python",
   "nbconvert_exporter": "python",
   "pygments_lexer": "ipython3",
   "version": "3.10.14"
  }
 },
 "nbformat": 4,
 "nbformat_minor": 5
}
